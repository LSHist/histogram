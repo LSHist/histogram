{
 "cells": [
  {
   "cell_type": "markdown",
   "metadata": {},
   "source": [
    "# Histogram Model: Color Feature\n",
    "----\n",
    "Sergei Papulin (papulin.edu@gmail.com)"
   ]
  },
  {
   "cell_type": "markdown",
   "metadata": {},
   "source": [
    "## Contents\n",
    "\n",
    "\n",
    "- [Generating Images](#Generating-Images)\n",
    "- [Defining Color Elements](#Defining-Color-Elements)\n",
    "- [Defining Positional Elements](#Defining-Positional-Elements)\n",
    "- [Creating Histogram](#Creating-Histogram)\n",
    "- [Querying](#Querying)\n",
    "- [Operations on Histogram Elements](#Operations-on-Histogram-Elements)\n",
    "- [Data Analysis](#Data-Analysis)\n",
    "- [Image Retrieval](#Image-Retrieval)\n",
    "- [References](#References)"
   ]
  },
  {
   "cell_type": "markdown",
   "metadata": {},
   "source": [
    "### Creating virtual environment"
   ]
  },
  {
   "cell_type": "markdown",
   "metadata": {},
   "source": [
    "This is an optional step. You can skip it and install packages to your current environment.\n",
    "\n",
    "```bash\n",
    "python -m venv .venv/histtest\n",
    "source .venv/histtest/bin/activate\n",
    "pip install \\\n",
    "    numpy==1.19.5 \\\n",
    "    plotly==5.5.0 \\\n",
    "    jupyter==1.0.0 \\\n",
    "    pillow==5.4.1 \\\n",
    "    scikit-image==0.14.2 \\\n",
    "    pycocotools==2.0.3 \\\n",
    "    himpy=0.0.1\n",
    "```"
   ]
  },
  {
   "cell_type": "markdown",
   "metadata": {},
   "source": [
    "#### Load packages"
   ]
  },
  {
   "cell_type": "code",
   "execution_count": null,
   "metadata": {},
   "outputs": [],
   "source": [
    "import sys\n",
    "from plotly.subplots import make_subplots\n",
    "import plotly.graph_objects as go"
   ]
  },
  {
   "cell_type": "code",
   "execution_count": null,
   "metadata": {},
   "outputs": [],
   "source": [
    "from himpy.histogram import operations, Histogram1D, HElement\n",
    "from himpy.executor import Parser, Evaluator\n",
    "from himpy.utils import E"
   ]
  },
  {
   "cell_type": "code",
   "execution_count": null,
   "metadata": {},
   "outputs": [],
   "source": [
    "%load_ext autoreload\n",
    "%autoreload 2\n",
    "\n",
    "import sys\n",
    "sys.path.insert(0, \"../\")\n",
    "\n",
    "import utils as common_utils\n",
    "import features.utils as utils"
   ]
  },
  {
   "cell_type": "markdown",
   "metadata": {},
   "source": [
    "## Generating Images"
   ]
  },
  {
   "cell_type": "code",
   "execution_count": null,
   "metadata": {},
   "outputs": [],
   "source": [
    "image_generator = utils.ColorImageGenerator()"
   ]
  },
  {
   "cell_type": "code",
   "execution_count": null,
   "metadata": {},
   "outputs": [],
   "source": [
    "image = image_generator.generate(shape=(100, 100), \n",
    "                                 steps=(20, 20), \n",
    "                                 random_state=1234)"
   ]
  },
  {
   "cell_type": "code",
   "execution_count": null,
   "metadata": {},
   "outputs": [],
   "source": [
    "fig = make_subplots(rows=1, cols=1, subplot_titles=(\"Initial Image [RGB]\",))\n",
    "\n",
    "fig.add_trace(go.Image(z=image, hoverinfo=\"skip\"), row=1, col=1)\n",
    "fig.update_yaxes(showticklabels=False)\n",
    "fig.update_xaxes(showticklabels=False)\n",
    "fig.update_layout(margin=dict(l=20, r=20, t=40, b=20), width=250, height=200)\n",
    "fig.show()"
   ]
  },
  {
   "cell_type": "markdown",
   "metadata": {},
   "source": [
    "## Defining Color Elements"
   ]
  },
  {
   "cell_type": "markdown",
   "metadata": {},
   "source": [
    "### Low-Level Elements"
   ]
  },
  {
   "cell_type": "markdown",
   "metadata": {},
   "source": [
    "Stucture of color elements:\n",
    "\n",
    "```json\n",
    "[\n",
    "    {\n",
    "        \"id\": id,\n",
    "        \"h\": [min, max],\n",
    "        \"s\": [min, max],\n",
    "        \"b\": [min, max]\n",
    "    }, ...\n",
    "]\n",
    "```\n",
    "\n",
    "Parameters:\n",
    "\n",
    "- `id`: identification of an element\n",
    "- `h`: hue, interval. If you define interval from 230 to 10, it will be divided into two ones: from 230 to 240 and from 0 to 10\n",
    "- `s`: saturation, interval\n",
    "- `b`: brightness, interval\n"
   ]
  },
  {
   "cell_type": "code",
   "execution_count": null,
   "metadata": {},
   "outputs": [],
   "source": [
    "# Show the first five low-level color elements\n",
    "print(\"Total number of color elements:\", len(utils.COLOR_ELEMENTS))\n",
    "utils.COLOR_ELEMENTS[:5]"
   ]
  },
  {
   "cell_type": "code",
   "execution_count": null,
   "metadata": {},
   "outputs": [],
   "source": [
    "# Display all low-level color elements\n",
    "utils.show_color_elements(title=\"Low-level elements (Color Universal set - Uc)\")"
   ]
  },
  {
   "cell_type": "code",
   "execution_count": null,
   "metadata": {},
   "outputs": [],
   "source": [
    "# Display all low-level color elements\n",
    "utils.show_color_elements(element_ids={\"e18\"}, title=\"e18\")"
   ]
  },
  {
   "cell_type": "code",
   "execution_count": null,
   "metadata": {},
   "outputs": [],
   "source": [
    "color_transformer = utils.ColorSetTransformer()\n",
    "color_image = color_transformer.transform(image)\n",
    "color_image"
   ]
  },
  {
   "cell_type": "code",
   "execution_count": null,
   "metadata": {},
   "outputs": [],
   "source": [
    "color_image_ = color_transformer.transform_to_int(color_image)\n",
    "\n",
    "\n",
    "fig = make_subplots(rows=1, cols=2, subplot_titles=(\"Initial Image [RGB]\", \"Transformed Image [low-level]\"))\n",
    "\n",
    "common_heatmap_args = {\n",
    "    \"zmax\": 40,\n",
    "    \"zauto\": False,\n",
    "    \"colorscale\": \"gray\",\n",
    "    \"showscale\": False,\n",
    "    \"hoverinfo\": \"skip\"\n",
    "}\n",
    "\n",
    "fig.add_trace(go.Image(z=image, hoverinfo=\"skip\"), row=1, col=1)\n",
    "fig.add_trace(go.Heatmap(z=color_image_, **common_heatmap_args), row=1, col=2)\n",
    "fig.update_yaxes(autorange=\"reversed\", constrain=\"domain\", scaleanchor=\"x\", row=1, col=2)\n",
    "fig.update_xaxes(constrain=\"domain\", scaleanchor=\"y\", row=1, col=2)\n",
    "fig.update_yaxes(showticklabels=False)\n",
    "fig.update_xaxes(showticklabels=False)\n",
    "fig.update_layout(margin=dict(l=20, r=20, t=40, b=20), width=500, height=200)\n",
    "fig.show()"
   ]
  },
  {
   "cell_type": "markdown",
   "metadata": {},
   "source": [
    "### High-Level Elements"
   ]
  },
  {
   "cell_type": "markdown",
   "metadata": {},
   "source": [
    "$$E^G=\\left\\{E\\vert E\\subseteq U\\right\\}$$"
   ]
  },
  {
   "cell_type": "code",
   "execution_count": null,
   "metadata": {},
   "outputs": [],
   "source": [
    "parser = Parser()"
   ]
  },
  {
   "cell_type": "code",
   "execution_count": null,
   "metadata": {},
   "outputs": [],
   "source": [
    "# Definition of high-level positional elements\n",
    "\n",
    "Ec_green        = E(\"e1+e2+e3+e4+e5+e6+e7+e8+e9+e10+e11+e12+e13+e14+e15+e16+e17+e18+e19+e20\")\n",
    "Ec_yellow_green = E(\"e2+e3+e21+e22+e23+e24+e25+e26+e27+e28+e29+e30\")\n",
    "Ec_red          = E(\"e31+e32+e33+e34+e35+e36+e37+e38+e39+e40\")\n",
    "Ec_rose         = E(\"e32+e35+e36+e39+e40\")\n",
    "\n",
    "\n",
    "Ecs = [\n",
    "    (\"green\", Ec_green),\n",
    "    (\"yellow_green\", Ec_yellow_green),\n",
    "    (\"red\", Ec_red),\n",
    "    (\"rose\", Ec_rose)\n",
    "]\n",
    "\n",
    "\n",
    "# Sets of hight-level color elements (they will be used for the Evaluator below)\n",
    "\n",
    "Ecs_set = { name: parser.parse_set(Ec.value) for name, Ec in Ecs}\n",
    "Ecs_set[\"green\"]"
   ]
  },
  {
   "cell_type": "code",
   "execution_count": null,
   "metadata": {},
   "outputs": [],
   "source": [
    "# Display all low-level color elements\n",
    "for title, Ec_set in Ecs_set.items():\n",
    "    utils.show_color_elements(element_ids=Ec_set, title=title)"
   ]
  },
  {
   "cell_type": "code",
   "execution_count": null,
   "metadata": {},
   "outputs": [],
   "source": [
    "color_filtered_image = color_transformer.filter_elements(color_image, Ecs_set[\"green\"])\n",
    "color_data_filtered_image = color_transformer.filter_data(image, Ecs_set[\"green\"])"
   ]
  },
  {
   "cell_type": "code",
   "execution_count": null,
   "metadata": {},
   "outputs": [],
   "source": [
    "# Note: As colors have string id, we convert them into integers to plot\n",
    "color_filtered_image_ = color_transformer.transform_to_int(color_filtered_image)"
   ]
  },
  {
   "cell_type": "code",
   "execution_count": null,
   "metadata": {},
   "outputs": [],
   "source": [
    "fig = make_subplots(rows=1, cols=4, \n",
    "                    subplot_titles=(\n",
    "                        \"Initial Image [RGB]\", \n",
    "                        \"Transformed Image [low-level]\", \n",
    "                        \"Element Filter [green]\", \n",
    "                        \"Data Filter [green]\"\n",
    "                    ))\n",
    "\n",
    "common_heatmap_args = {\n",
    "    \"zmax\": 40,\n",
    "    \"zauto\": False,\n",
    "    \"colorscale\": \"gray\",\n",
    "    \"showscale\": False,\n",
    "    \"hoverinfo\": \"skip\"\n",
    "}\n",
    "\n",
    "fig.add_trace(go.Image(z=image, hoverinfo=\"skip\"), row=1, col=1)\n",
    "fig.add_trace(go.Heatmap(z=color_image_, **common_heatmap_args), row=1, col=2)\n",
    "fig.add_trace(go.Heatmap(z=color_filtered_image_, **common_heatmap_args), row=1, col=3)\n",
    "fig.add_trace(go.Image(z=color_data_filtered_image, hoverinfo=\"skip\"), row=1, col=4)\n",
    "fig.update_yaxes(autorange=\"reversed\", constrain=\"domain\", scaleanchor=\"x\", row=1, col=2)\n",
    "fig.update_xaxes(constrain=\"domain\", scaleanchor=\"y\", row=1, col=2)\n",
    "fig.update_yaxes(autorange=\"reversed\", constrain=\"domain\", scaleanchor=\"x\", row=1, col=3)\n",
    "fig.update_xaxes(constrain=\"domain\", scaleanchor=\"y\", row=1, col=3)\n",
    "fig.update_yaxes(showticklabels=False)\n",
    "fig.update_xaxes(showticklabels=False)\n",
    "fig.update_layout(margin=dict(l=20, r=20, t=40, b=20), width=800, height=200)\n",
    "fig.show()"
   ]
  },
  {
   "cell_type": "markdown",
   "metadata": {},
   "source": [
    "## Creating Histogram"
   ]
  },
  {
   "cell_type": "markdown",
   "metadata": {},
   "source": [
    "Normalized histogram of an image can be written as\n",
    "\n",
    "$$H(d)=\\left( h(e_1), \\cdots, h(e_n) \\mid h(x)=h(x \\mid d), 0 \\leq h(x) \\leq 1, \\sum_{x\\in U}h(x) = 1 \\right).$$\n",
    "\n",
    "\n",
    "<div style=\"text-align:center\"><i>Table 1. Basic notations [1]</i></div>\n",
    "\n",
    "|Symbol|Definition|\n",
    "| :-: | --- |\n",
    "|$$U$$|Universal set (all possible elements that make up data instances)|\n",
    "|$$x$$|Element of the universal set, $x \\in U$|\n",
    "|$$d$$|Data instance|\n",
    "|$$N(d)$$|The total number of elements in $d$|\n",
    "|$$X$$|High-level element that is a subset of the universal set, $X\\subseteq U$|\n",
    "|$$H(d)$$|Histogram of a data instance|\n",
    "|$$h(x \\mid d)$$|Value that corresponds to element $x$ of histogram $H(d)$|\n",
    "|$$H(X \\mid d)$$|Histogram of high-level element $X$ given a data instance $d$|\n",
    "|$$h(x \\mid X, d)$$|Value that corresponds to element $x$ of histogram $H(X \\mid d)$|"
   ]
  },
  {
   "cell_type": "code",
   "execution_count": null,
   "metadata": {},
   "outputs": [],
   "source": [
    "# Option 1\n",
    "hist = common_utils.create_histogram((color_image,))\n",
    "hist.to_dict()"
   ]
  },
  {
   "cell_type": "code",
   "execution_count": null,
   "metadata": {},
   "outputs": [],
   "source": [
    "# TODO: add 1-dim case\n",
    "# Option 2.a\n",
    "feature_merger = common_utils.FeatureMerger()\n",
    "merged_image = feature_merger.fit_transform((color_image,))\n",
    "merged_image"
   ]
  },
  {
   "cell_type": "code",
   "execution_count": null,
   "metadata": {},
   "outputs": [],
   "source": [
    "# Option 2.b\n",
    "hist = common_utils.create_histogram_(merged_image)\n",
    "hist.to_dict()"
   ]
  },
  {
   "cell_type": "code",
   "execution_count": null,
   "metadata": {},
   "outputs": [],
   "source": [
    "# Plot histogram\n",
    "hist_elements = sorted(hist.hist_elements().items(), key=lambda x: int(x[0].lstrip(\"e\")))\n",
    "elements = [\"{}\".format(el[0]) for el in hist_elements]\n",
    "values = [el[1].value for el in hist_elements]\n",
    "colors = [\"rgb{}\".format(utils.COLOR_ELEMENTS_RGB[el[0]]) for el in hist_elements]\n",
    "\n",
    "\n",
    "fig = make_subplots(rows=1, cols=2, column_widths=[0.2, 0.8], subplot_titles=(\"Image\", \"Histogram\"))\n",
    "\n",
    "fig.add_image(z=image, row=1, col=1, name=\"image\")\n",
    "fig.add_bar(x=elements, y=values, marker_color=colors, width=0.5, row=1, col=2, name=\"histogram\")\n",
    "\n",
    "fig.update_xaxes(gridcolor='#bdbdbd', title=\"Elements\", titlefont=dict(color=\"grey\"), row=1, col=2)\n",
    "fig.update_yaxes(gridcolor='#bdbdbd', title=\"Counts\", titlefont=dict(color=\"grey\"), row=1, col=2)\n",
    "\n",
    "fig.update_layout(plot_bgcolor='#fefefe', showlegend=False, height=300, width=900, title_text=\"Initial Data\")\n",
    "fig.show()"
   ]
  },
  {
   "cell_type": "code",
   "execution_count": null,
   "metadata": {},
   "outputs": [],
   "source": [
    "utils.show_complete_histogram(hist)"
   ]
  },
  {
   "cell_type": "markdown",
   "metadata": {},
   "source": [
    "Total number of elements in the image:"
   ]
  },
  {
   "cell_type": "code",
   "execution_count": null,
   "metadata": {},
   "outputs": [],
   "source": [
    "len(hist)"
   ]
  },
  {
   "cell_type": "markdown",
   "metadata": {},
   "source": [
    "Non-zero elements of the histogram:"
   ]
  },
  {
   "cell_type": "code",
   "execution_count": null,
   "metadata": {},
   "outputs": [],
   "source": [
    "hist.elements()"
   ]
  },
  {
   "cell_type": "code",
   "execution_count": null,
   "metadata": {},
   "outputs": [],
   "source": [
    "# TODO: total number of histogram elements"
   ]
  },
  {
   "cell_type": "markdown",
   "metadata": {},
   "source": [
    "Sum of all histogram element values:"
   ]
  },
  {
   "cell_type": "code",
   "execution_count": null,
   "metadata": {},
   "outputs": [],
   "source": [
    "hist.sum()"
   ]
  },
  {
   "cell_type": "markdown",
   "metadata": {},
   "source": [
    "Get a value of the first histogram element:"
   ]
  },
  {
   "cell_type": "code",
   "execution_count": null,
   "metadata": {},
   "outputs": [],
   "source": [
    "hist(hist.elements()[0]).sum()"
   ]
  },
  {
   "cell_type": "markdown",
   "metadata": {},
   "source": [
    "Get a value of the `e1` element:"
   ]
  },
  {
   "cell_type": "code",
   "execution_count": null,
   "metadata": {},
   "outputs": [],
   "source": [
    "hist(\"e1\").sum()"
   ]
  },
  {
   "cell_type": "markdown",
   "metadata": {},
   "source": [
    "or"
   ]
  },
  {
   "cell_type": "code",
   "execution_count": null,
   "metadata": {},
   "outputs": [],
   "source": [
    "hist.hist_elements()[\"e1\"].value"
   ]
  },
  {
   "cell_type": "markdown",
   "metadata": {},
   "source": [
    "## Querying"
   ]
  },
  {
   "cell_type": "markdown",
   "metadata": {},
   "source": [
    "If $U$ is a finite set, then the set of all subsets of $U$, or the $\\sigma$-algebra over $U$, is defined as follows\n",
    "\n",
    "$$ E^G=\\left\\{X\\vert X \\subseteq U\\right\\}. $$\n",
    "\n",
    "Each element $X$ in $E^G$ can be mapped to its histogram $H(X \\mid d)$. So, the whole set of histograms for $E^G$ given a data instance $d$ is\n",
    "\n",
    "$${H}^{G}(d) = \\left \\lbrace H(X|d) \\mid X \\in E^G \\right \\rbrace.$$\n",
    "\n",
    "And a single mapping $X$ to $H(X \\mid x)$ can be defined as follows\n",
    "\n",
    "$$ H(X \\mid d) = \\left(h(e_1),\\cdots,h(e_n) \\mid h(x)=\\left\\{\\begin{array}{l}h(x \\mid d)\\;\\text{if}\\;x \\in X,\\\\0\\;\\text{otherwise}\\end{array}\\right. \\right) \\in H^G(d).$$"
   ]
  },
  {
   "cell_type": "code",
   "execution_count": null,
   "metadata": {},
   "outputs": [],
   "source": [
    "high_level_elements = Ecs_set"
   ]
  },
  {
   "cell_type": "code",
   "execution_count": null,
   "metadata": {},
   "outputs": [],
   "source": [
    "# Initialize an evaluator\n",
    "evaluator = Evaluator(operations, hist, high_level_elements=high_level_elements)"
   ]
  },
  {
   "cell_type": "code",
   "execution_count": null,
   "metadata": {},
   "outputs": [],
   "source": [
    "E1 = E(\"green\")\n",
    "E2 = E(\"yellow_green\")"
   ]
  },
  {
   "cell_type": "code",
   "execution_count": null,
   "metadata": {},
   "outputs": [],
   "source": [
    "E1_expr = parser.parse_string(E1.value)\n",
    "HE1 = evaluator.eval(E1_expr)\n",
    "\n",
    "print(\"Expression for E1:\\n{}\".format(E1.value))\n",
    "print(\"\\nThe parsed expressino for E1 in the postfix notation:\\n{}\".format(E1_expr))\n",
    "print(\"\\nHistogram of E1 given the image:\\n{}\".format(HE1.to_dict()))"
   ]
  },
  {
   "cell_type": "code",
   "execution_count": null,
   "metadata": {},
   "outputs": [],
   "source": [
    "E2_expr = parser.parse_string(E2.value)\n",
    "HE2 = evaluator.eval(E2_expr)\n",
    "\n",
    "print(\"Expression for E2:\\n{}\".format(E2.value))\n",
    "print(\"\\nThe parsed expressino for E2 in the postfix notation:\\n{}\".format(E2_expr))\n",
    "print(\"\\nHistogram of E2 given the image:\\n{}\".format(HE2.to_dict()))"
   ]
  },
  {
   "cell_type": "code",
   "execution_count": null,
   "metadata": {},
   "outputs": [],
   "source": [
    "utils.show_complete_histogram(HE1, E1.value)\n",
    "utils.show_complete_histogram(HE2, E2.value)"
   ]
  },
  {
   "cell_type": "code",
   "execution_count": null,
   "metadata": {},
   "outputs": [],
   "source": [
    "for name in Ecs_set.keys():\n",
    "    E_expr = parser.parse_string(E(name).value)\n",
    "    HE = evaluator.eval(E_expr)\n",
    "    utils.show_complete_histogram(HE, name)"
   ]
  },
  {
   "cell_type": "markdown",
   "metadata": {},
   "source": [
    "## Operations on Histogram Elements"
   ]
  },
  {
   "cell_type": "markdown",
   "metadata": {},
   "source": [
    "The histogram algebraic system can be denoted as follows\n",
    "\n",
    "$$\\mathcal{H} = \\left\\langle H^G,\\cap,\\cup,\\land,\\dot\\lor,\\lor,\\dot\\backslash,\\setminus, -, \\mathbf{0},\\mathbf{1}\\right\\rangle,$$\n",
    "where constants are defined as\n",
    "\n",
    "$$\\mathbf{0}=H^0=\\left( h(e_1), \\cdots, h(e_n) \\mid h(x) = 0, x \\in U \\right)$$\n",
    "\n",
    "$$\\mathbf{1}=H^1=H(d)=\\left( h(e_1), \\cdots, h(e_n) \\mid h(x) = h(x \\mid d), x \\in U, \\sum_{x\\in U}h(x)=1 \\right)$$"
   ]
  },
  {
   "cell_type": "markdown",
   "metadata": {},
   "source": [
    "### Set Operations"
   ]
  },
  {
   "cell_type": "markdown",
   "metadata": {},
   "source": [
    "#### UNION"
   ]
  },
  {
   "cell_type": "markdown",
   "metadata": {},
   "source": [
    "$$H_1 \\cup H_2 =\\left(h(e_1),\\cdots,h(e_n) \\mid h(x)=\\max(h(x \\mid X_1,d), h(x \\mid X_2, d)) \\right)$$"
   ]
  },
  {
   "cell_type": "code",
   "execution_count": null,
   "metadata": {},
   "outputs": [],
   "source": [
    "E_union = E1 + E2\n",
    "E_union_expr = parser.parse_string(E_union.value)\n",
    "HE_union = evaluator.eval(E_union_expr)\n",
    "\n",
    "print(\"Expression for E_union:\\n{}\".format(E_union))\n",
    "print(\"\\nThe parsed expression for E_union in the postfix notation:\\n{}\".format(E_union_expr))\n",
    "print(\"\\nHistogram of E_union given the image:\\n{}\".format(HE_union.to_dict()))\n",
    "print(\"\\nValue of presence for E_union:\\n{}\".format(HE_union.sum()))"
   ]
  },
  {
   "cell_type": "markdown",
   "metadata": {},
   "source": [
    "Show the histogram of E_union given the image:"
   ]
  },
  {
   "cell_type": "code",
   "execution_count": null,
   "metadata": {},
   "outputs": [],
   "source": [
    "utils.show_complete_histogram(HE1, E1.value)\n",
    "utils.show_complete_histogram(HE2, E2.value)\n",
    "utils.show_complete_histogram(HE_union, E_union.value)"
   ]
  },
  {
   "cell_type": "markdown",
   "metadata": {},
   "source": [
    "#### INTERSECTION"
   ]
  },
  {
   "cell_type": "markdown",
   "metadata": {},
   "source": [
    "$$ H_1 \\cap H_2 =\\left(h(e_1),\\cdots,h(e_n) \\mid h(x)=\\min(h(x \\mid X_1, d), h(x \\mid X_2, d)) \\right)$$"
   ]
  },
  {
   "cell_type": "markdown",
   "metadata": {},
   "source": [
    "**Case 1**"
   ]
  },
  {
   "cell_type": "code",
   "execution_count": null,
   "metadata": {},
   "outputs": [],
   "source": [
    "E_intersect = E1 * E2  # or E1.Intersection(E2)\n",
    "E_intersect_expr = parser.parse_string(E_intersect.value)\n",
    "HE_intersect = evaluator.eval(E_intersect_expr)\n",
    "\n",
    "print(\"Expression for E_intersect:\\n{}\".format(E_intersect))\n",
    "print(\"\\nThe parsed expression for E_intersect in the postfix notation:\\n{}\".format(E_intersect_expr))\n",
    "print(\"\\nHistogram of E_intersect given the image:\\n{}\".format(HE_intersect.to_dict()))\n",
    "print(\"\\nValue of presence for E_intersect:\\n{}\".format(HE_intersect.sum()))"
   ]
  },
  {
   "cell_type": "markdown",
   "metadata": {},
   "source": [
    "Show the histogram of E_intercept given the image:"
   ]
  },
  {
   "cell_type": "code",
   "execution_count": null,
   "metadata": {},
   "outputs": [],
   "source": [
    "utils.show_complete_histogram(HE1, E1.value)\n",
    "utils.show_complete_histogram(HE2, E2.value)\n",
    "utils.show_complete_histogram(HE_intersect, E_intersect.value)"
   ]
  },
  {
   "cell_type": "markdown",
   "metadata": {},
   "source": [
    "**Case 2**"
   ]
  },
  {
   "cell_type": "code",
   "execution_count": null,
   "metadata": {},
   "outputs": [],
   "source": [
    "E3 = E(\"red\")\n",
    "E3_expr = parser.parse_string(E3.value)\n",
    "HE3 = evaluator.eval(E3_expr)"
   ]
  },
  {
   "cell_type": "code",
   "execution_count": null,
   "metadata": {},
   "outputs": [],
   "source": [
    "E_intersect = E1 * E3  # or E1.Intersection(E2)\n",
    "E_intersect_expr = parser.parse_string(E_intersect.value)\n",
    "HE_intersect = evaluator.eval(E_intersect_expr)\n",
    "\n",
    "print(\"Expression for E_intersect:\\n{}\".format(E_intersect))\n",
    "print(\"\\nThe parsed expression for E_intersect in the postfix notation:\\n{}\".format(E_intersect_expr))\n",
    "print(\"\\nHistogram of E_intersect given the image:\\n{}\".format(HE_intersect.to_dict()))\n",
    "print(\"\\nValue of presence for E_intersect:\\n{}\".format(HE_intersect.sum()))"
   ]
  },
  {
   "cell_type": "code",
   "execution_count": null,
   "metadata": {},
   "outputs": [],
   "source": [
    "utils.show_complete_histogram(HE1, E1.value)\n",
    "utils.show_complete_histogram(HE3, E3.value)\n",
    "utils.show_complete_histogram(HE_intersect, E_intersect.value)"
   ]
  },
  {
   "cell_type": "markdown",
   "metadata": {},
   "source": [
    "#### SUBSTRACTION or EXCEPTION"
   ]
  },
  {
   "cell_type": "markdown",
   "metadata": {},
   "source": [
    "$$ H_1 \\setminus H_2 =\\left(h(e_1),\\cdots,h(e_n) \\mid h(x)=\\left\\{\\begin{array}{l}h(x \\mid X_1, d)\\;\\text{if}\\;h(x \\mid X_2, d)=0,\\\\0\\;\\text{otherwise}\\end{array}\\right. \\right),$$\n",
    "\n",
    "where $H_i = H(X_i \\mid d)$ and $X_i \\in E^G$."
   ]
  },
  {
   "cell_type": "markdown",
   "metadata": {},
   "source": [
    "**Case 1**"
   ]
  },
  {
   "cell_type": "code",
   "execution_count": null,
   "metadata": {},
   "outputs": [],
   "source": [
    "E_sub = E1 - E2  # or E1.Sub(E2)\n",
    "E_sub_expr = parser.parse_string(E_sub.value)\n",
    "HE_sub = evaluator.eval(E_sub_expr)\n",
    "\n",
    "print(\"Expression for E_sub:\\n{}\".format(E_sub))\n",
    "print(\"\\nThe parsed expression for E_sub in the postfix notation:\\n{}\".format(E_sub_expr))\n",
    "print(\"\\nHistogram of E_sub given the image:\\n{}\".format(HE_sub.to_dict()))\n",
    "print(\"\\nValue of presence for E_sub:\\n{}\".format(HE_sub.sum()))"
   ]
  },
  {
   "cell_type": "markdown",
   "metadata": {},
   "source": [
    "Show the histogram of E_sub given the image:"
   ]
  },
  {
   "cell_type": "code",
   "execution_count": null,
   "metadata": {},
   "outputs": [],
   "source": [
    "utils.show_complete_histogram(HE1, E1.value)\n",
    "utils.show_complete_histogram(HE2, E2.value)\n",
    "utils.show_complete_histogram(HE_sub, E_sub.value)"
   ]
  },
  {
   "cell_type": "markdown",
   "metadata": {},
   "source": [
    "**Case 2**"
   ]
  },
  {
   "cell_type": "code",
   "execution_count": null,
   "metadata": {},
   "outputs": [],
   "source": [
    "E_sub = E1 - E3  # or E1.Sub(E3)\n",
    "E_sub_expr = parser.parse_string(E_sub.value)\n",
    "HE_sub = evaluator.eval(E_sub_expr)\n",
    "\n",
    "print(\"Expression for E_sub:\\n{}\".format(E_sub))\n",
    "print(\"\\nThe parsed expression for E_sub in the postfix notation:\\n{}\".format(E_sub_expr))\n",
    "print(\"\\nHistogram of E_sub given the image:\\n{}\".format(HE_sub.to_dict()))\n",
    "print(\"\\nValue of presence for E_sub:\\n{}\".format(HE_sub.sum()))"
   ]
  },
  {
   "cell_type": "code",
   "execution_count": null,
   "metadata": {},
   "outputs": [],
   "source": [
    "utils.show_complete_histogram(HE1, E1.value)\n",
    "utils.show_complete_histogram(HE3, E3.value)\n",
    "utils.show_complete_histogram(HE_sub, E_sub.value)"
   ]
  },
  {
   "cell_type": "markdown",
   "metadata": {},
   "source": [
    "### Logical Operations"
   ]
  },
  {
   "cell_type": "markdown",
   "metadata": {},
   "source": [
    "#### AND"
   ]
  },
  {
   "cell_type": "markdown",
   "metadata": {},
   "source": [
    "$$H_1\\land H_2=\\left\\{\\begin{array}{l}H_1\\;\\text{if}\\;{}^\\Sigma H_1 < {}^\\Sigma H_2,\\\\H_2\\;\\text{otherwise}\\end{array}\\right.,$$\n",
    "\n",
    "where\n",
    "\n",
    "$$ {}^\\Sigma H_i(d) = \\sum_{x\\in X_i}h(x \\mid d)$$\n"
   ]
  },
  {
   "cell_type": "code",
   "execution_count": null,
   "metadata": {},
   "outputs": [],
   "source": [
    "E_and = E1 & E2  # or E1.And(E2)\n",
    "E_and_expr = parser.parse_string(E_and.value)\n",
    "HE_and = evaluator.eval(E_and_expr)\n",
    "\n",
    "print(\"Expression for E_and:\\n{}\".format(E_and))\n",
    "print(\"\\nThe parsed expression for E_and in the postfix notation:\\n{}\".format(E_and_expr))\n",
    "print(\"\\nHistogram of E_and given the image:\\n{}\".format(HE_and.to_dict()))\n",
    "print(\"\\nValue of presence for E_and:\\n{}\".format(HE_and.sum()))"
   ]
  },
  {
   "cell_type": "markdown",
   "metadata": {},
   "source": [
    "Show the histogram of E_and given the image:"
   ]
  },
  {
   "cell_type": "code",
   "execution_count": null,
   "metadata": {},
   "outputs": [],
   "source": [
    "utils.show_complete_histogram(HE1, E1.value)\n",
    "utils.show_complete_histogram(HE2, E2.value)\n",
    "utils.show_complete_histogram(HE_and, E_and.value)"
   ]
  },
  {
   "cell_type": "markdown",
   "metadata": {},
   "source": [
    "#### OR"
   ]
  },
  {
   "cell_type": "markdown",
   "metadata": {},
   "source": [
    "$$ H_1 \\lor H_2 =\\left(H(e_1),\\cdots,H(e_n) \\mid h(x)=\\max(h(x \\mid X_1, d), h(x \\mid X_2, d)) \\right)$$"
   ]
  },
  {
   "cell_type": "code",
   "execution_count": null,
   "metadata": {},
   "outputs": [],
   "source": [
    "E_or = E1 | E2  # or E1.Or(E2)\n",
    "E_or_expr = parser.parse_string(E_or.value)\n",
    "HE_or = evaluator.eval(E_or_expr)\n",
    "\n",
    "print(\"Expression for E_or:\\n{}\".format(E_or))\n",
    "print(\"\\nThe parsed expression for E_or in the postfix notation:\\n{}\".format(E_or_expr))\n",
    "print(\"\\nHistogram of E_or given the image:\\n{}\".format(HE_or.to_dict()))\n",
    "print(\"\\nValue of presence for E_or:\\n{}\".format(HE_or.sum()))"
   ]
  },
  {
   "cell_type": "markdown",
   "metadata": {},
   "source": [
    "Show the histogram of E_or given the image:"
   ]
  },
  {
   "cell_type": "code",
   "execution_count": null,
   "metadata": {},
   "outputs": [],
   "source": [
    "utils.show_complete_histogram(HE1, E1.value)\n",
    "utils.show_complete_histogram(HE2, E2.value)\n",
    "utils.show_complete_histogram(HE_or, E_or.value)"
   ]
  },
  {
   "cell_type": "markdown",
   "metadata": {},
   "source": [
    "#### XOR"
   ]
  },
  {
   "cell_type": "markdown",
   "metadata": {},
   "source": [
    "$$ H_1\\dot\\lor H_2=\\left\\{\\begin{array}{l}H_1\\;\\text{if}\\;{}^\\Sigma H_1 > {}^\\Sigma H_2,\\\\H_2\\;\\text{otherwise}\\end{array}\\right..$$"
   ]
  },
  {
   "cell_type": "code",
   "execution_count": null,
   "metadata": {},
   "outputs": [],
   "source": [
    "E_xor = E1 ^ E2  # or E1.Xor(E2)\n",
    "E_xor_expr = parser.parse_string(E_xor.value)\n",
    "HE_xor = evaluator.eval(E_xor_expr)\n",
    "\n",
    "print(\"Expression for E_xor:\\n{}\".format(E_xor))\n",
    "print(\"\\nThe parsed expression for E_xor in the postfix notation:\\n{}\".format(E_xor_expr))\n",
    "print(\"\\nHistogram of E_xor given the image:\\n{}\".format(HE_xor.to_dict()))\n",
    "print(\"\\nValue of presence for E_xor:\\n{}\".format(HE_xor.sum()))"
   ]
  },
  {
   "cell_type": "markdown",
   "metadata": {},
   "source": [
    "Show the histogram of E_xor given the image:"
   ]
  },
  {
   "cell_type": "code",
   "execution_count": null,
   "metadata": {},
   "outputs": [],
   "source": [
    "utils.show_complete_histogram(HE1, E1.value)\n",
    "utils.show_complete_histogram(HE2, E2.value)\n",
    "utils.show_complete_histogram(HE_xor, E_xor.value)"
   ]
  },
  {
   "cell_type": "markdown",
   "metadata": {},
   "source": [
    "#### XSUBSTRACTION"
   ]
  },
  {
   "cell_type": "markdown",
   "metadata": {},
   "source": [
    "$$ H_1\\dot\\backslash H_2=\\left\\{\\begin{array}{l}0\\;\\text{if}\\;{}^\\Sigma H_2 > 0,\\\\H_1\\;\\text{otherwise}\\end{array}\\right.$$"
   ]
  },
  {
   "cell_type": "markdown",
   "metadata": {},
   "source": [
    "**Case 1**"
   ]
  },
  {
   "cell_type": "code",
   "execution_count": null,
   "metadata": {},
   "outputs": [],
   "source": [
    "E_xsub = E1.Xsub(E2)\n",
    "E_xsub_expr = parser.parse_string(E_xsub.value)\n",
    "HE_xsub = evaluator.eval(E_xsub_expr)\n",
    "\n",
    "print(\"Expression for E_xsub:\\n{}\".format(E_xsub))\n",
    "print(\"\\nThe parsed expression for E_xsub in the postfix notation:\\n{}\".format(E_xsub_expr))\n",
    "print(\"\\nHistogram of E_xsub given the image:\\n{}\".format(HE_xsub.to_dict()))\n",
    "print(\"\\nValue of presence for E_xsub:\\n{}\".format(HE_xsub.sum()))"
   ]
  },
  {
   "cell_type": "markdown",
   "metadata": {},
   "source": [
    "Show the histogram of E_xsub given the image:"
   ]
  },
  {
   "cell_type": "code",
   "execution_count": null,
   "metadata": {},
   "outputs": [],
   "source": [
    "utils.show_complete_histogram(HE1, E1.value)\n",
    "utils.show_complete_histogram(HE2, E2.value)\n",
    "utils.show_complete_histogram(HE_xsub, E_xsub.value)"
   ]
  },
  {
   "cell_type": "markdown",
   "metadata": {},
   "source": [
    "**Case 2**"
   ]
  },
  {
   "cell_type": "code",
   "execution_count": null,
   "metadata": {},
   "outputs": [],
   "source": [
    "E4 = E(\"e17+e18+e19\")  # elements that are not in image\n",
    "E4_expr = parser.parse_string(E4.value)\n",
    "HE4 = evaluator.eval(E4_expr)"
   ]
  },
  {
   "cell_type": "code",
   "execution_count": null,
   "metadata": {},
   "outputs": [],
   "source": [
    "E_xsub = E1.Xsub(E4)\n",
    "E_xsub_expr = parser.parse_string(E_xsub.value)\n",
    "HE_xsub = evaluator.eval(E_xsub_expr)\n",
    "\n",
    "print(\"Expression for E_xsub:\\n{}\".format(E_xsub))\n",
    "print(\"\\nThe parsed expression for E_xsub in the postfix notation:\\n{}\".format(E_xsub_expr))\n",
    "print(\"\\nHistogram of E_xsub given the image:\\n{}\".format(HE_xsub.to_dict()))\n",
    "print(\"\\nValue of presence for E_xsub:\\n{}\".format(HE_xsub.sum()))"
   ]
  },
  {
   "cell_type": "markdown",
   "metadata": {},
   "source": [
    "Show the histogram of E_xsub given the image:"
   ]
  },
  {
   "cell_type": "code",
   "execution_count": null,
   "metadata": {},
   "outputs": [],
   "source": [
    "utils.show_complete_histogram(HE1, E1.value)\n",
    "utils.show_complete_histogram(HE4, E4.value)\n",
    "utils.show_complete_histogram(HE_xsub, E_xsub.value)"
   ]
  },
  {
   "cell_type": "markdown",
   "metadata": {},
   "source": [
    "## Data Analysis"
   ]
  },
  {
   "cell_type": "markdown",
   "metadata": {},
   "source": [
    "Set a query:"
   ]
  },
  {
   "cell_type": "code",
   "execution_count": null,
   "metadata": {},
   "outputs": [],
   "source": [
    "query = (E1 + E2) & E3  # (green or yellow-green) and red"
   ]
  },
  {
   "cell_type": "markdown",
   "metadata": {},
   "source": [
    "Compute a histogram of the query given the image:"
   ]
  },
  {
   "cell_type": "code",
   "execution_count": null,
   "metadata": {},
   "outputs": [],
   "source": [
    "expr = parser.parse_string(query.value)\n",
    "HE = evaluator.eval(expr)"
   ]
  },
  {
   "cell_type": "code",
   "execution_count": null,
   "metadata": {},
   "outputs": [],
   "source": [
    "print(\"\\nHistogram of guery given the image:\\n{}\".format(HE.to_dict()))\n",
    "print(\"\\nValue of presence:\\n{}\".format(HE.sum()))"
   ]
  },
  {
   "cell_type": "code",
   "execution_count": null,
   "metadata": {},
   "outputs": [],
   "source": [
    "E_union = E1 + E2\n",
    "expr = parser.parse_string(E_union.value)\n",
    "HE_union = evaluator.eval(expr)\n",
    "\n",
    "utils.show_complete_histogram(HE1, E1.value)\n",
    "utils.show_complete_histogram(HE2, E2.value)\n",
    "utils.show_complete_histogram(HE3, E3.value)\n",
    "utils.show_complete_histogram(HE_union, E_union.value)\n",
    "utils.show_complete_histogram(HE, query.value)"
   ]
  },
  {
   "cell_type": "markdown",
   "metadata": {},
   "source": [
    "## Image Retrieval"
   ]
  },
  {
   "cell_type": "markdown",
   "metadata": {},
   "source": [
    "### Expression as query"
   ]
  },
  {
   "cell_type": "code",
   "execution_count": null,
   "metadata": {},
   "outputs": [],
   "source": [
    "# Images with normal distrubited some elements \n",
    "images = [\n",
    "    image_generator.generate(\n",
    "        shape=(100, 100), \n",
    "        steps=(20, 20), \n",
    "        random_state=i+100) \n",
    "    for i in range(100)\n",
    "]\n"
   ]
  },
  {
   "cell_type": "code",
   "execution_count": null,
   "metadata": {},
   "outputs": [],
   "source": [
    "# Create histograms for the images\n",
    "hists = list()\n",
    "limit = len(images)\n",
    "\n",
    "for indx, image in enumerate(images):\n",
    "    color_image = color_transformer.transform(image)\n",
    "    hist = common_utils.create_histogram((color_image,))\n",
    "    hists.append((indx, hist))\n",
    "    print(\"\\rCurrent image index: {}/{}\".format(indx + 1, limit), end=\"\")"
   ]
  },
  {
   "cell_type": "code",
   "execution_count": null,
   "metadata": {},
   "outputs": [],
   "source": [
    "# Initialize a search engine\n",
    "search_engine = common_utils.SearchEngine(hists, parser, evaluator)"
   ]
  },
  {
   "cell_type": "code",
   "execution_count": null,
   "metadata": {},
   "outputs": [],
   "source": [
    "TOP_N = 20"
   ]
  },
  {
   "cell_type": "code",
   "execution_count": null,
   "metadata": {},
   "outputs": [],
   "source": [
    "# Elements\n",
    "E1 = E(\"green\")\n",
    "E2 = E(\"yellow_green\")\n",
    "E3 = E(\"red\")\n",
    "\n",
    "# Define your query\n",
    "query = (E1 + E2) & E3\n",
    "\n",
    "# Retrieve images using the query\n",
    "ranked_images = search_engine.retrieve(query, topN=TOP_N)\n",
    "print(\"Total retrieved images:\", len(ranked_images))\n",
    "ranked_images[:5]"
   ]
  },
  {
   "cell_type": "code",
   "execution_count": null,
   "metadata": {},
   "outputs": [],
   "source": [
    "fig = utils.show_rank_images(images, ranked_images, limit=TOP_N, \n",
    "                             title=\"Top {}: <b>{}</b>\".format(TOP_N, query.value))\n",
    "fig.show()"
   ]
  },
  {
   "cell_type": "code",
   "execution_count": null,
   "metadata": {},
   "outputs": [],
   "source": [
    "# TODO: Show the least similar image"
   ]
  },
  {
   "cell_type": "markdown",
   "metadata": {},
   "source": [
    "### Image sample as query"
   ]
  },
  {
   "cell_type": "code",
   "execution_count": null,
   "metadata": {},
   "outputs": [],
   "source": [
    "# Generate a new sample image\n",
    "sample_image = image_generator.generate(\n",
    "    shape=(100, 100), \n",
    "    steps=(20, 20), \n",
    "    random_state=1) "
   ]
  },
  {
   "cell_type": "code",
   "execution_count": null,
   "metadata": {},
   "outputs": [],
   "source": [
    "fig = make_subplots(rows=1, cols=1, subplot_titles=(\"Sample Image\",))\n",
    "\n",
    "fig.add_trace(go.Image(z=sample_image, hoverinfo=\"skip\"), row=1, col=1)\n",
    "fig.update_yaxes(showticklabels=False)\n",
    "fig.update_xaxes(showticklabels=False)\n",
    "fig.update_layout(margin=dict(l=20, r=20, t=40, b=20), width=200, height=200)\n",
    "fig.show()"
   ]
  },
  {
   "cell_type": "code",
   "execution_count": null,
   "metadata": {},
   "outputs": [],
   "source": [
    "# Transform the image to histogram\n",
    "color_image = color_transformer.transform(sample_image)\n",
    "sample_hist = common_utils.create_histogram((color_image,))"
   ]
  },
  {
   "cell_type": "code",
   "execution_count": null,
   "metadata": {},
   "outputs": [],
   "source": [
    "# Retrieve images similar to the sample\n",
    "ranked_images__sample = search_engine.retrieve(sample_hist, topN=TOP_N)\n",
    "print(\"Total retrieved images:\", len(ranked_images__sample))\n",
    "ranked_images__sample[:5]"
   ]
  },
  {
   "cell_type": "code",
   "execution_count": null,
   "metadata": {},
   "outputs": [],
   "source": [
    "fig = make_subplots(rows=1, cols=1, subplot_titles=(\"Sample Image\",))\n",
    "\n",
    "fig.add_trace(go.Image(z=sample_image, hoverinfo=\"skip\"), row=1, col=1)\n",
    "fig.update_yaxes(showticklabels=False)\n",
    "fig.update_xaxes(showticklabels=False)\n",
    "fig.update_layout(margin=dict(l=20, r=20, t=40, b=20), width=200, height=200)\n",
    "fig.show()\n",
    "\n",
    "fig = utils.show_rank_images(images, ranked_images__sample, \n",
    "                             limit=TOP_N, title=\"Top {}: <b>Sample Image</b>\".format(TOP_N))\n",
    "fig.show()"
   ]
  },
  {
   "cell_type": "code",
   "execution_count": null,
   "metadata": {},
   "outputs": [],
   "source": [
    "# TODO: Show the least similar image"
   ]
  },
  {
   "cell_type": "markdown",
   "metadata": {},
   "source": [
    "## References"
   ]
  },
  {
   "cell_type": "markdown",
   "metadata": {},
   "source": [
    "- Papulin S. [Introduction to Histogram Model](https://htmlpreview.github.io/?https://github.com/LSHist/histogram/blob/master/docs/hm_basics.html)\n",
    "- Papulin S. [Multidimensional Histogram Model](https://htmlpreview.github.io/?https://github.com/LSHist/histogram/blob/master/docs/hm_multidim.html)"
   ]
  },
  {
   "cell_type": "code",
   "execution_count": null,
   "metadata": {},
   "outputs": [],
   "source": []
  }
 ],
 "metadata": {
  "kernelspec": {
   "display_name": "Python 3 (ipykernel)",
   "language": "python",
   "name": "python3"
  },
  "language_info": {
   "codemirror_mode": {
    "name": "ipython",
    "version": 3
   },
   "file_extension": ".py",
   "mimetype": "text/x-python",
   "name": "python",
   "nbconvert_exporter": "python",
   "pygments_lexer": "ipython3",
   "version": "3.7.3"
  }
 },
 "nbformat": 4,
 "nbformat_minor": 2
}
