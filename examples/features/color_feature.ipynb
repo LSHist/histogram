{
 "cells": [
  {
   "cell_type": "markdown",
   "metadata": {},
   "source": [
    "# Histogram Model: Color Feature\n",
    "----\n",
    "Sergei Papulin (papulin.study@yandex.ru)"
   ]
  },
  {
   "cell_type": "markdown",
   "metadata": {},
   "source": [
    "## Contents\n",
    "\n",
    "- Loading Elements\n",
    "- Image and its Histogram\n",
    "- Basic Operations in Histogram Model\n",
    "    - Set Operations\n",
    "    - Logical Operations\n",
    "- Analyzing Image using Histogram Model\n",
    "- Image Retrieval by Expression\n",
    "- Image Retrieval by Sample\n",
    "- References"
   ]
  },
  {
   "cell_type": "markdown",
   "metadata": {},
   "source": [
    "#### Load packages"
   ]
  },
  {
   "cell_type": "code",
   "execution_count": null,
   "metadata": {},
   "outputs": [],
   "source": [
    "import sys\n",
    "from plotly.subplots import make_subplots\n",
    "\n",
    "sys.path.insert(0, \"../../\")\n",
    "\n",
    "from lshist.utils import (E, convert_hist_to_all_values)\n",
    "\n",
    "from utils import (\n",
    "    load_hist_elements_from_images, \n",
    "    load_hist_elements_from_json, \n",
    "    convert2hist,\n",
    "    hsl2rgb,\n",
    "    get_rgb_colors,\n",
    "    generate_image,\n",
    "    show_histogram)"
   ]
  },
  {
   "cell_type": "markdown",
   "metadata": {},
   "source": [
    "## Loading Elements"
   ]
  },
  {
   "cell_type": "markdown",
   "metadata": {},
   "source": [
    "\n",
    "Stucture of a json file with descriptions of color elements:\n",
    "\n",
    "```json\n",
    "{\n",
    "    \"elements\": [{\n",
    "        \"id\": id,\n",
    "        \"h\": [min, max],\n",
    "        \"s\": [min, max],\n",
    "        \"b\": [min, max]},...]\n",
    "}\n",
    "```\n",
    "\n",
    "Parameters:\n",
    "\n",
    "- `id`: identification of an element\n",
    "- `h`: hue, interval. If you define interval from 230 to 10, it will be divided into two ones: from 230 to 240 and from 0 to 10\n",
    "- `s`: saturation, interval\n",
    "- `b`: brightness, interval\n"
   ]
  },
  {
   "cell_type": "code",
   "execution_count": null,
   "metadata": {},
   "outputs": [],
   "source": [
    "ELEMENT_PATH = \"elements.json\"\n",
    "\n",
    "color_elements = load_hist_elements_from_json(ELEMENT_PATH)\n",
    "color_elements[:3]"
   ]
  },
  {
   "cell_type": "code",
   "execution_count": null,
   "metadata": {},
   "outputs": [],
   "source": [
    "color_converter = get_rgb_colors(color_elements)\n",
    "color_converter[\"e1\"]"
   ]
  },
  {
   "cell_type": "markdown",
   "metadata": {},
   "source": [
    "Show all colors:"
   ]
  },
  {
   "cell_type": "code",
   "execution_count": null,
   "metadata": {},
   "outputs": [],
   "source": [
    "U = list(item[\"id\"] for item in color_elements)\n",
    "colors = [\"rgb{}\".format(color_converter[el]) for el in U]"
   ]
  },
  {
   "cell_type": "code",
   "execution_count": null,
   "metadata": {},
   "outputs": [],
   "source": [
    "U_val_all = [1 for el in U]"
   ]
  },
  {
   "cell_type": "code",
   "execution_count": null,
   "metadata": {
    "scrolled": true
   },
   "outputs": [],
   "source": [
    "hist_list = [U_val_all]\n",
    "titles = [\"U (all elements)\"]\n",
    "names = [\"U\"]\n",
    "\n",
    "fig = show_histogram(hist_list, U, colors, titles, names, main_title=\"Color Universal Elements\")\n",
    "fig.show()"
   ]
  },
  {
   "cell_type": "markdown",
   "metadata": {},
   "source": [
    "$$E^G=\\left\\{E\\vert E\\subseteq U\\right\\}$$"
   ]
  },
  {
   "cell_type": "markdown",
   "metadata": {},
   "source": [
    "Create high-level elements:"
   ]
  },
  {
   "cell_type": "code",
   "execution_count": null,
   "metadata": {},
   "outputs": [],
   "source": [
    "E1 = E(\"e1+e2+e3+e4+e5+e6+e7+e8+e9+e10+e11+e12+e13+e14+e15+e16+e17+e18+e19+e20\")  # green\n",
    "E2 = E(\"e2+e3+e21+e22+e23+e24+e25+e26+e27+e28+e29+e30\")  # yellow-green\n",
    "E3 = E(\"e31+e32+e33+e34+e35+e36+e37+e38+e39+e40\")  # red\n",
    "E4 = E(\"e32+e35+e36+e39+e40\")  # pink"
   ]
  },
  {
   "cell_type": "markdown",
   "metadata": {},
   "source": [
    "Show elements:"
   ]
  },
  {
   "cell_type": "code",
   "execution_count": null,
   "metadata": {},
   "outputs": [],
   "source": [
    "E1_el = E1.value.strip(\"()\").split(\"+\")\n",
    "E1_val_all = [1 if el in E1_el else 0 for el in U]\n",
    "\n",
    "E2_el = E2.value.strip(\"()\").split(\"+\")\n",
    "E2_val_all = [1 if el in E2_el else 0 for el in U]\n",
    "\n",
    "E3_el = E3.value.strip(\"()\").split(\"+\")\n",
    "E3_val_all = [1 if el in E3_el else 0 for el in U]\n",
    "\n",
    "E4_el = E4.value.strip(\"()\").split(\"+\")\n",
    "E4_val_all = [1 if el in E4_el else 0 for el in U]"
   ]
  },
  {
   "cell_type": "code",
   "execution_count": null,
   "metadata": {},
   "outputs": [],
   "source": [
    "hist_list = [U_val_all, E1_val_all, E2_val_all, E3_val_all, E4_val_all]\n",
    "titles = [\"U (all elements)\", \"E1 (green)\", \"E2 (yellow-green)\", \"E3 (red)\", \"E4 (pink)\"]\n",
    "names = [\"U\", \"E1\", \"E2\", \"E3\", \"E4\"]\n",
    "\n",
    "fig = show_histogram(hist_list, U, colors, titles, names)\n",
    "fig.show()"
   ]
  },
  {
   "cell_type": "markdown",
   "metadata": {},
   "source": [
    "## Image and its Histogram"
   ]
  },
  {
   "cell_type": "markdown",
   "metadata": {},
   "source": [
    "Generate an image composed from elements of the universal set:"
   ]
  },
  {
   "cell_type": "code",
   "execution_count": null,
   "metadata": {},
   "outputs": [],
   "source": [
    "img = generate_image(U, color_converter, seed=1234)\n",
    "img"
   ]
  },
  {
   "cell_type": "markdown",
   "metadata": {},
   "source": [
    "Create a histogram from the image"
   ]
  },
  {
   "cell_type": "code",
   "execution_count": null,
   "metadata": {},
   "outputs": [],
   "source": [
    "hist = convert2hist(img, color_elements, mode=\"json\")\n",
    "hist"
   ]
  },
  {
   "cell_type": "markdown",
   "metadata": {},
   "source": [
    "Showing Image and its Histogram"
   ]
  },
  {
   "cell_type": "code",
   "execution_count": null,
   "metadata": {},
   "outputs": [],
   "source": [
    "hist_elements = sorted(hist.hist_elements().items(), key=lambda x: int(x[0].strip(\"e\")))\n",
    "\n",
    "elements = [el[0] for el in hist_elements]\n",
    "values = [el[1].value for el in hist_elements]\n",
    "colors = [\"rgb{}\".format(color_converter[el]) for el in elements]"
   ]
  },
  {
   "cell_type": "code",
   "execution_count": null,
   "metadata": {},
   "outputs": [],
   "source": [
    "colors_all = [\"rgb{}\".format(color_converter[el]) for el in U]\n",
    "elements_all = convert_hist_to_all_values(U, hist)"
   ]
  },
  {
   "cell_type": "code",
   "execution_count": null,
   "metadata": {},
   "outputs": [],
   "source": [
    "fig = make_subplots(rows=2, cols=2, specs=[[{}, {}],[{\"colspan\": 2}, None]], subplot_titles=(\"Image\", \"Histogram\", \"Full Histogram\"))\n",
    "\n",
    "fig.add_image(z=img, row=1, col=1, name=\"image\")\n",
    "fig.add_bar(x=elements, y=values, marker_color=colors, width=0.5, row=1, col=2, name=\"histogram\")\n",
    "fig.add_bar(x=U, y=elements_all, marker_color=colors_all, row=2, col=1, name=\"E1\")\n",
    "\n",
    "fig.update_xaxes(gridcolor='#bdbdbd', title=\"Elements\", titlefont=dict(color=\"grey\"), row=1, col=2)\n",
    "fig.update_yaxes(gridcolor='#bdbdbd', title=\"Counts\", titlefont=dict(color=\"grey\"), row=1, col=2)\n",
    "fig.update_xaxes(gridcolor='#bdbdbd', title=\"Elements\", titlefont=dict(color=\"grey\"), row=2, col=1)\n",
    "fig.update_yaxes(gridcolor='#bdbdbd', title=\"Counts\", titlefont=dict(color=\"grey\"), row=2, col=1)\n",
    "\n",
    "fig.update_layout(plot_bgcolor='#fefefe', showlegend=False, height=480, width=800, title_text=\"Initial Data\")\n",
    "fig.show()"
   ]
  },
  {
   "cell_type": "markdown",
   "metadata": {},
   "source": [
    "Total number of elements in the image:"
   ]
  },
  {
   "cell_type": "code",
   "execution_count": null,
   "metadata": {},
   "outputs": [],
   "source": [
    "len(hist)"
   ]
  },
  {
   "cell_type": "markdown",
   "metadata": {},
   "source": [
    "Non-zero elements of the histogram:"
   ]
  },
  {
   "cell_type": "code",
   "execution_count": null,
   "metadata": {},
   "outputs": [],
   "source": [
    "hist.elements()"
   ]
  },
  {
   "cell_type": "code",
   "execution_count": null,
   "metadata": {},
   "outputs": [],
   "source": [
    "# TODO: total number of histogram elements"
   ]
  },
  {
   "cell_type": "markdown",
   "metadata": {},
   "source": [
    "Sum of all histogram element values:"
   ]
  },
  {
   "cell_type": "code",
   "execution_count": null,
   "metadata": {},
   "outputs": [],
   "source": [
    "hist.sum()"
   ]
  },
  {
   "cell_type": "markdown",
   "metadata": {},
   "source": [
    "Get a value of the first histogram element:"
   ]
  },
  {
   "cell_type": "code",
   "execution_count": null,
   "metadata": {},
   "outputs": [],
   "source": [
    "hist(hist.elements()[0]).sum()"
   ]
  },
  {
   "cell_type": "markdown",
   "metadata": {},
   "source": [
    "Get a value of the `e1` element:"
   ]
  },
  {
   "cell_type": "code",
   "execution_count": null,
   "metadata": {},
   "outputs": [],
   "source": [
    "hist(\"e1\").sum()"
   ]
  },
  {
   "cell_type": "markdown",
   "metadata": {},
   "source": [
    "or"
   ]
  },
  {
   "cell_type": "code",
   "execution_count": null,
   "metadata": {},
   "outputs": [],
   "source": [
    "hist.hist_elements()[\"e1\"].value"
   ]
  },
  {
   "cell_type": "markdown",
   "metadata": {},
   "source": [
    "## Basic Operations in Histogram Model"
   ]
  },
  {
   "cell_type": "code",
   "execution_count": null,
   "metadata": {},
   "outputs": [],
   "source": [
    "from lshist.executor import Parser, Evaluator\n",
    "from lshist.histogram import operations"
   ]
  },
  {
   "cell_type": "code",
   "execution_count": null,
   "metadata": {},
   "outputs": [],
   "source": [
    "parser = Parser()\n",
    "evaluator = Evaluator(operations, hist)"
   ]
  },
  {
   "cell_type": "markdown",
   "metadata": {},
   "source": [
    "$${H}^{N}=\\left( H \\mid H=\\bigcup_{x\\in U}{H \\left(x \\right)} /x, 0 \\leq H \\left( x \\right) \\leq 1, x \\in U, \\sum_{x\\in U}H\\left(x\\right) = 1 \\right)$$\n",
    "\n",
    "$${H}^{G} = \\left \\lbrace H \\mid H=\\bigcup_{x\\in E}{H \\left(x \\right) /x} ,0 \\leq H \\left(x \\right) ≤ {H} ^ {N} \\left(x \\right) ,E⊆U,  \\sum_{x\\in E}H\\left(x\\right)≤1 \\right \\rbrace$$\n",
    "\n",
    "$$\\mathcal H=\\left\\langle H^G,\\cap,\\cup,\\wedge,\\dot\\vee,\\vee,\\dot\\backslash,\\setminus,\\overline{},\\mathbf{0},\\mathbf{1}\\right\\rangle$$\n",
    "\n",
    "$$\\mathbf{0}=H^0={\\displaystyle \\left\\{H\\mid H\\in H^G,\\sum_{x\\in U}H\\left(x\\right)=0\\right\\}}$$\n",
    "\n",
    "$$\\mathbf{1}=H^1=H^N=\\left\\{H\\mid H\\in H^G,\\sum_{x\\in U}H\\left(x\\right)=1\\right\\}$$"
   ]
  },
  {
   "cell_type": "markdown",
   "metadata": {},
   "source": [
    "#### Histograms of E1, E2, E3 and E4 given Image"
   ]
  },
  {
   "cell_type": "markdown",
   "metadata": {},
   "source": [
    "Create a histogram of E1 given the image:"
   ]
  },
  {
   "cell_type": "code",
   "execution_count": null,
   "metadata": {},
   "outputs": [],
   "source": [
    "E1_expr = parser.parse_string(E1.value)\n",
    "HE1 = evaluator.eval(E1_expr)\n",
    "\n",
    "print(\"Expression for E1:\\n{}\".format(E1.value))\n",
    "print(\"\\nThe parsed expressino for E1 in the postfix notation:\\n{}\".format(E1_expr))\n",
    "print(\"\\nHistogram of E1 given the image:\\n{}\".format(HE1.to_dict()))"
   ]
  },
  {
   "cell_type": "markdown",
   "metadata": {},
   "source": [
    "Same for E2, E3 and E4:"
   ]
  },
  {
   "cell_type": "code",
   "execution_count": null,
   "metadata": {},
   "outputs": [],
   "source": [
    "E2_expr = parser.parse_string(E2.value)\n",
    "HE2 = evaluator.eval(E2_expr)\n",
    "\n",
    "E3_expr = parser.parse_string(E3.value)\n",
    "HE3 = evaluator.eval(E3_expr)\n",
    "\n",
    "E4_expr = parser.parse_string(E4.value)\n",
    "HE4 = evaluator.eval(E4_expr)"
   ]
  },
  {
   "cell_type": "markdown",
   "metadata": {},
   "source": [
    "Show the histograms of E1, E2, E3 and E4 given the image:"
   ]
  },
  {
   "cell_type": "code",
   "execution_count": null,
   "metadata": {},
   "outputs": [],
   "source": [
    "HE1_all = convert_hist_to_all_values(U, HE1)\n",
    "HE2_all = convert_hist_to_all_values(U, HE2)\n",
    "HE3_all = convert_hist_to_all_values(U, HE3)\n",
    "HE4_all = convert_hist_to_all_values(U, HE4)"
   ]
  },
  {
   "cell_type": "code",
   "execution_count": null,
   "metadata": {},
   "outputs": [],
   "source": [
    "hist_list = [HE1_all, HE2_all, HE3_all, HE4_all]\n",
    "titles = [\"E1 (green)\", \"E2 (yellow-green)\", \"E3 (red)\", \"E4 (pink)\"]\n",
    "names = [\"E1\", \"E2\", \"E3\", \"E4\"]\n",
    "\n",
    "fig = show_histogram(hist_list, U, colors_all, titles, names)\n",
    "fig.show()"
   ]
  },
  {
   "cell_type": "markdown",
   "metadata": {},
   "source": [
    "### Set Operations"
   ]
  },
  {
   "cell_type": "markdown",
   "metadata": {},
   "source": [
    "#### UNION"
   ]
  },
  {
   "cell_type": "markdown",
   "metadata": {},
   "source": [
    "$$H_1\\cup H_2=\\left(H\\mid H=\\bigcup_{x\\in U}H\\left(x\\right)/x,H\\left(x\\right)=\\max\\left(H_1\\left(x\\right),H_2\\left(x\\right)\\right)\\right)$$"
   ]
  },
  {
   "cell_type": "code",
   "execution_count": null,
   "metadata": {},
   "outputs": [],
   "source": [
    "E_union = E1 + E2\n",
    "E_union_expr = parser.parse_string(E_union.value)\n",
    "HE_union = evaluator.eval(E_union_expr)\n",
    "\n",
    "print(\"Expression for E_union:\\n{}\".format(E_union))\n",
    "print(\"\\nThe parsed expression for E_union in the postfix notation:\\n{}\".format(E_union_expr))\n",
    "print(\"\\nHistogram of E_union given the image:\\n{}\".format(HE_union.to_dict()))\n",
    "print(\"\\nValue of presence for E_union:\\n{}\".format(HE_union.sum()))"
   ]
  },
  {
   "cell_type": "markdown",
   "metadata": {},
   "source": [
    "Show the histogram of E_union given the image:"
   ]
  },
  {
   "cell_type": "code",
   "execution_count": null,
   "metadata": {},
   "outputs": [],
   "source": [
    "HE1_union_HE2_all = convert_hist_to_all_values(U, HE_union)\n",
    "\n",
    "hist_list = [HE1_all, HE2_all, HE1_union_HE2_all]\n",
    "titles = [\"E1 (green)\", \"E2 (yellow-green)\", \"E1 + E2\"]\n",
    "names = [\"E1\", \"E2\", \"E1+E2\"]\n",
    "\n",
    "fig = show_histogram(hist_list, U, colors_all, titles, names)\n",
    "fig.show()"
   ]
  },
  {
   "cell_type": "markdown",
   "metadata": {},
   "source": [
    "#### INTERSECTION"
   ]
  },
  {
   "cell_type": "markdown",
   "metadata": {},
   "source": [
    "$$H_1\\cap H_2=\\left(H\\mid H=\\bigcup_{x\\in U}H\\left(x\\right)/x,H\\left(x\\right)=\\min\\left(H_1\\left(x\\right),H_2\\left(x\\right)\\right)\\right)$$"
   ]
  },
  {
   "cell_type": "code",
   "execution_count": null,
   "metadata": {},
   "outputs": [],
   "source": [
    "E_intersect = E1 * E2  # or E1.Intersection(E2)\n",
    "E_intersect_expr = parser.parse_string(E_intersect.value)\n",
    "HE_intersect = evaluator.eval(E_intersect_expr)\n",
    "\n",
    "print(\"Expression for E_intersect:\\n{}\".format(E_intersect))\n",
    "print(\"\\nThe parsed expression for E_intersect in the postfix notation:\\n{}\".format(E_intersect_expr))\n",
    "print(\"\\nHistogram of E_intersect given the image:\\n{}\".format(HE_intersect.to_dict()))\n",
    "print(\"\\nValue of presence for E_intersect:\\n{}\".format(HE_intersect.sum()))"
   ]
  },
  {
   "cell_type": "markdown",
   "metadata": {},
   "source": [
    "Show the histogram of E_intercept given the image:"
   ]
  },
  {
   "cell_type": "code",
   "execution_count": null,
   "metadata": {},
   "outputs": [],
   "source": [
    "HE1_intersect_HE2_all = convert_hist_to_all_values(U, HE_intersect)\n",
    "\n",
    "hist_list = [HE1_all, HE2_all, HE1_intersect_HE2_all]\n",
    "titles = [\"E1 (green)\", \"E2 (yellow-green)\", \"E1 * E2\"]\n",
    "names = [\"E1\", \"E2\", \"E1*E2\"]\n",
    "\n",
    "fig = show_histogram(hist_list, U, colors_all, titles, names)\n",
    "fig.show()"
   ]
  },
  {
   "cell_type": "markdown",
   "metadata": {},
   "source": [
    "#### SUBSTRACTION or EXCEPTION"
   ]
  },
  {
   "cell_type": "markdown",
   "metadata": {},
   "source": [
    "$$H_1\\backslash H_2=\\left(H\\mid H=\\bigcup_{x\\in U}H\\left(x\\right)/x,H\\left(x\\right)=\\left\\{\\begin{array}{l}0\\;if\\;H_2\\left(x\\right)>0,\\\\H_1\\left(x\\right)\\;otherwise\\end{array}\\right.\\right)$$"
   ]
  },
  {
   "cell_type": "code",
   "execution_count": null,
   "metadata": {},
   "outputs": [],
   "source": [
    "E_sub = E1 - E2  # or E1.Sub(E2)\n",
    "E_sub_expr = parser.parse_string(E_sub.value)\n",
    "HE_sub = evaluator.eval(E_sub_expr)\n",
    "\n",
    "print(\"Expression for E_sub:\\n{}\".format(E_sub))\n",
    "print(\"\\nThe parsed expression for E_sub in the postfix notation:\\n{}\".format(E_sub_expr))\n",
    "print(\"\\nHistogram of E_sub given the image:\\n{}\".format(HE_sub.to_dict()))\n",
    "print(\"\\nValue of presence for E_sub:\\n{}\".format(HE_sub.sum()))"
   ]
  },
  {
   "cell_type": "markdown",
   "metadata": {},
   "source": [
    "Show the histogram of E_sub given the image:"
   ]
  },
  {
   "cell_type": "code",
   "execution_count": null,
   "metadata": {},
   "outputs": [],
   "source": [
    "HE1_sub_HE2_all = convert_hist_to_all_values(U, HE_sub)\n",
    "\n",
    "hist_list = [HE1_all, HE2_all, HE1_sub_HE2_all]\n",
    "titles = [\"E1 (green)\", \"E2 (yellow-green)\", \"E1 - E2\"]\n",
    "names = [\"E1\", \"E2\", \"E1-E2\"]\n",
    "\n",
    "fig = show_histogram(hist_list, U, colors_all, titles, names)\n",
    "fig.show()"
   ]
  },
  {
   "cell_type": "markdown",
   "metadata": {},
   "source": [
    "### Logical Operations"
   ]
  },
  {
   "cell_type": "markdown",
   "metadata": {},
   "source": [
    "#### AND"
   ]
  },
  {
   "cell_type": "markdown",
   "metadata": {},
   "source": [
    "$$H_1\\wedge H_2=\\left\\{\\begin{array}{l}H_1\\;if\\;\\sum_{x\\in U}H_1\\left(x\\right)<\\sum_{x\\in U}H_2\\left(x\\right),\\\\H_2\\;otherwise\\end{array}\\right.$$"
   ]
  },
  {
   "cell_type": "code",
   "execution_count": null,
   "metadata": {},
   "outputs": [],
   "source": [
    "E_and = E1 & E2  # or E1.And(E2)\n",
    "E_and_expr = parser.parse_string(E_and.value)\n",
    "HE_and = evaluator.eval(E_and_expr)\n",
    "\n",
    "print(\"Expression for E_and:\\n{}\".format(E_and))\n",
    "print(\"\\nThe parsed expression for E_and in the postfix notation:\\n{}\".format(E_and_expr))\n",
    "print(\"\\nHistogram of E_and given the image:\\n{}\".format(HE_and.to_dict()))\n",
    "print(\"\\nValue of presence for E_and:\\n{}\".format(HE_and.sum()))"
   ]
  },
  {
   "cell_type": "markdown",
   "metadata": {},
   "source": [
    "Show the histogram of E_and given the image:"
   ]
  },
  {
   "cell_type": "code",
   "execution_count": null,
   "metadata": {},
   "outputs": [],
   "source": [
    "HE1_and_HE2_all = convert_hist_to_all_values(U, HE_and)\n",
    "hist_list = [HE1_all, HE2_all, HE1_and_HE2_all]\n",
    "titles = [\"E1 (green)\", \"E2 (yellow-green)\", \"E1 <b>AND</b> E2\"]\n",
    "names = [\"E1\", \"E2\", \"E1&E2\"]\n",
    "\n",
    "fig = show_histogram(hist_list, U, colors_all, titles, names)\n",
    "fig.show()"
   ]
  },
  {
   "cell_type": "markdown",
   "metadata": {},
   "source": [
    "#### OR"
   ]
  },
  {
   "cell_type": "markdown",
   "metadata": {},
   "source": [
    "$$H_1\\vee H_2=\\left(H\\mid H=\\bigcup_{x\\in U}H\\left(x\\right)/x,H\\left(x\\right)=\\max\\left(H_1\\left(x\\right),H_2\\left(x\\right)\\right)\\right)$$"
   ]
  },
  {
   "cell_type": "code",
   "execution_count": null,
   "metadata": {},
   "outputs": [],
   "source": [
    "E_or = E1 | E2  # or E1.Or(E2)\n",
    "E_or_expr = parser.parse_string(E_or.value)\n",
    "HE_or = evaluator.eval(E_or_expr)\n",
    "\n",
    "print(\"Expression for E_or:\\n{}\".format(E_or))\n",
    "print(\"\\nThe parsed expression for E_or in the postfix notation:\\n{}\".format(E_or_expr))\n",
    "print(\"\\nHistogram of E_or given the image:\\n{}\".format(HE_or.to_dict()))\n",
    "print(\"\\nValue of presence for E_or:\\n{}\".format(HE_or.sum()))"
   ]
  },
  {
   "cell_type": "markdown",
   "metadata": {},
   "source": [
    "Show the histogram of E_or given the image:"
   ]
  },
  {
   "cell_type": "code",
   "execution_count": null,
   "metadata": {},
   "outputs": [],
   "source": [
    "HE1_or_HE2_all = convert_hist_to_all_values(U, HE_or)\n",
    "hist_list = [HE1_all, HE2_all, HE1_or_HE2_all]\n",
    "titles = [\"E1 (green)\", \"E2 (yellow-green)\", \"E1 <b>OR</b> E2\"]\n",
    "names = [\"E1\", \"E2\", \"E1|E2\"]\n",
    "\n",
    "fig = show_histogram(hist_list, U, colors_all, titles, names)\n",
    "fig.show()"
   ]
  },
  {
   "cell_type": "markdown",
   "metadata": {},
   "source": [
    "#### XOR"
   ]
  },
  {
   "cell_type": "markdown",
   "metadata": {},
   "source": [
    "$$H_1\\dot\\vee H_2=\\left\\{\\begin{array}{l}H_1\\;if\\;\\sum_{x\\in U}H_1\\left(x\\right)>\\sum_{x\\in U}H_2\\left(x\\right),\\\\H_2\\;otherwise\\end{array}\\right.$$"
   ]
  },
  {
   "cell_type": "code",
   "execution_count": null,
   "metadata": {},
   "outputs": [],
   "source": [
    "E_xor = E1 ^ E2  # or E1.Xor(E2)\n",
    "E_xor_expr = parser.parse_string(E_xor.value)\n",
    "HE_xor = evaluator.eval(E_xor_expr)\n",
    "\n",
    "print(\"Expression for E_xor:\\n{}\".format(E_xor))\n",
    "print(\"\\nThe parsed expression for E_xor in the postfix notation:\\n{}\".format(E_xor_expr))\n",
    "print(\"\\nHistogram of E_xor given the image:\\n{}\".format(HE_xor.to_dict()))\n",
    "print(\"\\nValue of presence for E_xor:\\n{}\".format(HE_xor.sum()))"
   ]
  },
  {
   "cell_type": "markdown",
   "metadata": {},
   "source": [
    "Show the histogram of E_xor given the image:"
   ]
  },
  {
   "cell_type": "code",
   "execution_count": null,
   "metadata": {},
   "outputs": [],
   "source": [
    "HE1_xor_HE2_all = convert_hist_to_all_values(U, HE_xor)\n",
    "hist_list = [HE1_all, HE2_all, HE1_xor_HE2_all]\n",
    "titles = [\"E1 (green)\", \"E2 (yellow-green)\", \"E1 <b>XOR</b> E2\"]\n",
    "names = [\"E1\", \"E2\", \"E1^E2\"]\n",
    "\n",
    "fig = show_histogram(hist_list, U, colors_all, titles, names)\n",
    "fig.show()"
   ]
  },
  {
   "cell_type": "markdown",
   "metadata": {},
   "source": [
    "#### XSUBSTRACTION"
   ]
  },
  {
   "cell_type": "markdown",
   "metadata": {},
   "source": [
    "$$H_1\\dot\\backslash H_2=\\left\\{\\begin{array}{l}0\\;if\\;\\sum_{x\\in U}H_2\\left(x\\right)>0,\\\\H_1\\;otherwise\\end{array}\\right.$$"
   ]
  },
  {
   "cell_type": "code",
   "execution_count": null,
   "metadata": {},
   "outputs": [],
   "source": [
    "E_xsub = E1.Xsub(E2)\n",
    "E_xsub_expr = parser.parse_string(E_xsub.value)\n",
    "HE_xsub = evaluator.eval(E_xsub_expr)\n",
    "\n",
    "print(\"Expression for E_xsub:\\n{}\".format(E_xsub))\n",
    "print(\"\\nThe parsed expression for E_xsub in the postfix notation:\\n{}\".format(E_xsub_expr))\n",
    "print(\"\\nHistogram of E_xsub given the image:\\n{}\".format(HE_xsub.to_dict()))\n",
    "print(\"\\nValue of presence for E_xsub:\\n{}\".format(HE_xsub.sum()))"
   ]
  },
  {
   "cell_type": "markdown",
   "metadata": {},
   "source": [
    "Show the histogram of E_xsub given the image:"
   ]
  },
  {
   "cell_type": "code",
   "execution_count": null,
   "metadata": {},
   "outputs": [],
   "source": [
    "HE1_xsub_HE2_all = convert_hist_to_all_values(U, HE_xsub)\n",
    "hist_list = [HE1_all, HE2_all, HE1_xsub_HE2_all]\n",
    "titles = [\"E1 (green)\", \"E2 (yellow-green)\", \"E1 <b>XSUBSTRACT</b> E2\"]\n",
    "names = [\"E1\", \"E2\", \"E1#/E2\"]\n",
    "\n",
    "fig = show_histogram(hist_list, U, colors_all, titles, names)\n",
    "fig.show()"
   ]
  },
  {
   "cell_type": "code",
   "execution_count": null,
   "metadata": {},
   "outputs": [],
   "source": [
    "E_xsub = E1.Xsub(E(\"e17+e18+e19\"))\n",
    "E_xsub_expr = parser.parse_string(E_xsub.value)\n",
    "HE_xsub = evaluator.eval(E_xsub_expr)\n",
    "\n",
    "print(\"Expression for E_xsub:\\n{}\".format(E_xsub))\n",
    "print(\"\\nThe parsed expression for E_xsub in the postfix notation:\\n{}\".format(E_xsub_expr))\n",
    "print(\"\\nHistogram of E_xsub given the image:\\n{}\".format(HE_xsub.to_dict()))\n",
    "print(\"\\nValue of presence for E_xsub:\\n{}\".format(HE_xsub.sum()))"
   ]
  },
  {
   "cell_type": "markdown",
   "metadata": {},
   "source": [
    "Show the histogram of E_xsub given the image:"
   ]
  },
  {
   "cell_type": "code",
   "execution_count": null,
   "metadata": {},
   "outputs": [],
   "source": [
    "E5_expr = parser.parse_string(E(\"e17+e18+e19\").value)\n",
    "HE5 = evaluator.eval(E5_expr)\n",
    "HE5_all = convert_hist_to_all_values(U, HE5)\n",
    "\n",
    "HE1_xsub_HE2_all = convert_hist_to_all_values(U, HE_xsub)\n",
    "hist_list = [HE1_all, HE5_all, HE1_xsub_HE2_all]\n",
    "titles = [\"E1 (green)\", \"E5\", \"E1 <b>XSUBSTRACT</b> E5\"]\n",
    "names = [\"E1\", \"E5\", \"E1#/E5\"]\n",
    "\n",
    "fig = show_histogram(hist_list, U, colors_all, titles, names)\n",
    "fig.show()"
   ]
  },
  {
   "cell_type": "markdown",
   "metadata": {},
   "source": [
    "## Analyzing Image using Histogram Model"
   ]
  },
  {
   "cell_type": "markdown",
   "metadata": {},
   "source": [
    "Set a query:"
   ]
  },
  {
   "cell_type": "code",
   "execution_count": null,
   "metadata": {},
   "outputs": [],
   "source": [
    "query = (E1 + E2) & E3  # (green or yellow-green) and red"
   ]
  },
  {
   "cell_type": "markdown",
   "metadata": {},
   "source": [
    "Compute a histogram of the query given the image:"
   ]
  },
  {
   "cell_type": "code",
   "execution_count": null,
   "metadata": {},
   "outputs": [],
   "source": [
    "expr = parser.parse_string(query.value)\n",
    "HE = evaluator.eval(expr)"
   ]
  },
  {
   "cell_type": "code",
   "execution_count": null,
   "metadata": {},
   "outputs": [],
   "source": [
    "print(\"\\nHistogram of guery given the image:\\n{}\".format(HE.to_dict()))\n",
    "print(\"\\nValue of presence:\\n{}\".format(HE.sum()))"
   ]
  },
  {
   "cell_type": "markdown",
   "metadata": {},
   "source": [
    "## Image Retrieval by Expression"
   ]
  },
  {
   "cell_type": "markdown",
   "metadata": {},
   "source": [
    "Generate images:"
   ]
  },
  {
   "cell_type": "code",
   "execution_count": null,
   "metadata": {},
   "outputs": [],
   "source": [
    "imgs = [generate_image(U, color_converter, seed=i) for i in range(100)]"
   ]
  },
  {
   "cell_type": "markdown",
   "metadata": {},
   "source": [
    "Create histograms for the images:"
   ]
  },
  {
   "cell_type": "code",
   "execution_count": null,
   "metadata": {},
   "outputs": [],
   "source": [
    "hists = [convert2hist(img, color_elements, mode=\"json\") for img in imgs]"
   ]
  },
  {
   "cell_type": "markdown",
   "metadata": {},
   "source": [
    "Compose a query to get a subset of relevant images:"
   ]
  },
  {
   "cell_type": "code",
   "execution_count": null,
   "metadata": {},
   "outputs": [],
   "source": [
    "query = (E1 + E2) & E3  # (green or yellow-green) and red\n",
    "expr = parser.parse_string(query.value)"
   ]
  },
  {
   "cell_type": "markdown",
   "metadata": {},
   "source": [
    "Calculate histograms of the query for the images:"
   ]
  },
  {
   "cell_type": "code",
   "execution_count": null,
   "metadata": {},
   "outputs": [],
   "source": [
    "HEs = [evaluator.eval(expr, hist) for hist in hists]"
   ]
  },
  {
   "cell_type": "markdown",
   "metadata": {},
   "source": [
    "Rank the images based on the value of presence:"
   ]
  },
  {
   "cell_type": "code",
   "execution_count": null,
   "metadata": {},
   "outputs": [],
   "source": [
    "img_rank = sorted([(indx, HE.sum()) for indx, HE in enumerate(HEs)], key=lambda x: -x[1])\n",
    "print(\"Top 5 images:\", img_rank[:5])\n",
    "print(\"Last 5 images:\", img_rank[-5:])"
   ]
  },
  {
   "cell_type": "markdown",
   "metadata": {},
   "source": [
    "Image that most corresponds to the query:"
   ]
  },
  {
   "cell_type": "code",
   "execution_count": null,
   "metadata": {},
   "outputs": [],
   "source": [
    "imgs[img_rank[0][0]]"
   ]
  },
  {
   "cell_type": "markdown",
   "metadata": {},
   "source": [
    "Image that least corresponds to the query:"
   ]
  },
  {
   "cell_type": "code",
   "execution_count": null,
   "metadata": {},
   "outputs": [],
   "source": [
    "imgs[img_rank[len(imgs)-1][0]]"
   ]
  },
  {
   "cell_type": "markdown",
   "metadata": {},
   "source": [
    "## Image Retrieval by Sample"
   ]
  },
  {
   "cell_type": "markdown",
   "metadata": {},
   "source": [
    "Generate a sample image:"
   ]
  },
  {
   "cell_type": "code",
   "execution_count": null,
   "metadata": {},
   "outputs": [],
   "source": [
    "img_sample = generate_image(E3_el, color_converter, seed=0)\n",
    "img_sample"
   ]
  },
  {
   "cell_type": "markdown",
   "metadata": {},
   "source": [
    "Create the histogram of the image:"
   ]
  },
  {
   "cell_type": "code",
   "execution_count": null,
   "metadata": {},
   "outputs": [],
   "source": [
    "hist_sample = convert2hist(img_sample, color_elements, mode=\"json\")"
   ]
  },
  {
   "cell_type": "markdown",
   "metadata": {},
   "source": [
    "Rank the images according to their similarity:"
   ]
  },
  {
   "cell_type": "code",
   "execution_count": null,
   "metadata": {},
   "outputs": [],
   "source": [
    "img_sample_rank = sorted([(indx, (hist_sample * hist).sum()) for indx, hist in enumerate(hists)], \n",
    "                         key=lambda x: -x[1])\n",
    "print(\"Top 5 images:\", img_sample_rank[:5])\n",
    "print(\"Last 5 images:\", img_sample_rank[-5:])"
   ]
  },
  {
   "cell_type": "markdown",
   "metadata": {},
   "source": [
    "Show the most similar image:"
   ]
  },
  {
   "cell_type": "code",
   "execution_count": null,
   "metadata": {},
   "outputs": [],
   "source": [
    "imgs[img_sample_rank[0][0]]"
   ]
  },
  {
   "cell_type": "markdown",
   "metadata": {},
   "source": [
    "Show the least similar image:"
   ]
  },
  {
   "cell_type": "code",
   "execution_count": null,
   "metadata": {},
   "outputs": [],
   "source": [
    "imgs[img_sample_rank[len(imgs)-1][0]]"
   ]
  },
  {
   "cell_type": "markdown",
   "metadata": {},
   "source": [
    "## References"
   ]
  },
  {
   "cell_type": "code",
   "execution_count": null,
   "metadata": {},
   "outputs": [],
   "source": []
  }
 ],
 "metadata": {
  "kernelspec": {
   "display_name": "Python 3",
   "language": "python",
   "name": "python3"
  },
  "language_info": {
   "codemirror_mode": {
    "name": "ipython",
    "version": 3
   },
   "file_extension": ".py",
   "mimetype": "text/x-python",
   "name": "python",
   "nbconvert_exporter": "python",
   "pygments_lexer": "ipython3",
   "version": "3.5.2"
  }
 },
 "nbformat": 4,
 "nbformat_minor": 2
}
