{
 "cells": [
  {
   "cell_type": "markdown",
   "metadata": {},
   "source": [
    "# Histogram Model (1D): Combination of Color and Position Features\n",
    "----\n",
    "Sergei Papulin (papulin.study@yandex.ru)"
   ]
  },
  {
   "cell_type": "markdown",
   "metadata": {},
   "source": [
    "## Contents\n",
    "\n",
    "- Loading Color and Positional Elements\n",
    "- Image and its Histogram\n",
    "- Basic Operations in Histogram Model\n",
    "    - Set Operations\n",
    "    - Logical Operations\n",
    "- Analyzing Image using Histogram Model\n",
    "- Image Retrieval by Expression\n",
    "- Image Retrieval by Sample\n",
    "- References"
   ]
  },
  {
   "cell_type": "markdown",
   "metadata": {},
   "source": [
    "#### Load packages"
   ]
  },
  {
   "cell_type": "code",
   "execution_count": null,
   "metadata": {},
   "outputs": [],
   "source": [
    "%load_ext autoreload\n",
    "%autoreload 2\n",
    "\n",
    "import sys\n",
    "from plotly.subplots import make_subplots\n",
    "\n",
    "sys.path.insert(0, \"../../\")\n",
    "\n",
    "from lshist.histogram import operations\n",
    "from lshist.executor import Parser, Evaluator\n",
    "from lshist.utils import E\n",
    "\n",
    "import utils"
   ]
  },
  {
   "cell_type": "markdown",
   "metadata": {},
   "source": [
    "## Loading Color and Positional Elements"
   ]
  },
  {
   "cell_type": "markdown",
   "metadata": {},
   "source": [
    "### Color Elements"
   ]
  },
  {
   "cell_type": "markdown",
   "metadata": {},
   "source": [
    "\n",
    "Stucture of a json file with descriptions of color elements:\n",
    "\n",
    "```json\n",
    "{\n",
    "    \"elements\": [{\n",
    "        \"id\": id,\n",
    "        \"h\": [min, max],\n",
    "        \"s\": [min, max],\n",
    "        \"b\": [min, max]},...]\n",
    "}\n",
    "```\n",
    "\n",
    "Parameters:\n",
    "\n",
    "- `id`: identification of an element\n",
    "- `h`: hue, interval. If you define interval from 230 to 10, it will be divided into two ones: from 230 to 240 and from 0 to 10\n",
    "- `s`: saturation, interval\n",
    "- `b`: brightness, interval\n"
   ]
  },
  {
   "cell_type": "code",
   "execution_count": null,
   "metadata": {},
   "outputs": [],
   "source": [
    "ELEMENT_PATH = \"elements.json\"\n",
    "\n",
    "color_elements = utils.load_hist_elements_from_json(ELEMENT_PATH)\n",
    "color_elements[:3]"
   ]
  },
  {
   "cell_type": "code",
   "execution_count": null,
   "metadata": {},
   "outputs": [],
   "source": [
    "LOW_LEVEL_ELEMENT = \"e1\"\n",
    "\n",
    "color_converter = utils.get_rgb_colors(color_elements)\n",
    "print(\"HSB for element '{}': {}\".format(LOW_LEVEL_ELEMENT, color_converter[LOW_LEVEL_ELEMENT]))"
   ]
  },
  {
   "cell_type": "markdown",
   "metadata": {},
   "source": [
    "Show all colors:"
   ]
  },
  {
   "cell_type": "code",
   "execution_count": null,
   "metadata": {
    "scrolled": true
   },
   "outputs": [],
   "source": [
    "U = list(item[\"id\"] for item in color_elements)\n",
    "colors = [\"rgb{}\".format(color_converter[el]) for el in U]\n",
    "\n",
    "U_val_all = [1 for el in U]\n",
    "\n",
    "hist_list = [U_val_all]\n",
    "titles = [\"Uc (all elements)\"]\n",
    "names = [\"Uc\"]\n",
    "\n",
    "fig = utils.show_histogram(hist_list, U, colors, titles, names, main_title=\"Color Universal Elements\")\n",
    "fig.show()"
   ]
  },
  {
   "cell_type": "markdown",
   "metadata": {},
   "source": [
    "Create high-level elements:"
   ]
  },
  {
   "cell_type": "code",
   "execution_count": null,
   "metadata": {},
   "outputs": [],
   "source": [
    "# Definition of high-level positional elements\n",
    "\n",
    "Ec_green = E(\"e1+e2+e3+e4+e5+e6+e7+e8+e9+e10+e11+e12+e13+e14+e15+e16+e17+e18+e19+e20\")\n",
    "Ec_yellow_green = E(\"e2+e3+e21+e22+e23+e24+e25+e26+e27+e28+e29+e30\")\n",
    "Ec_red = E(\"e31+e32+e33+e34+e35+e36+e37+e38+e39+e40\")\n",
    "Ec_rose = E(\"e32+e35+e36+e39+e40\")\n",
    "\n",
    "\n",
    "# Sets of hight-level color elements (they will be used for the Evaluator below)\n",
    "\n",
    "parser = Parser()\n",
    "\n",
    "Ec_green_set = parser.parse_set(Ec_green.value)\n",
    "Ec_yellow_green_set = parser.parse_set(Ec_yellow_green.value)\n",
    "Ec_red_set = parser.parse_set(Ec_red.value)\n",
    "Ec_rose_set = parser.parse_set(Ec_rose.value)"
   ]
  },
  {
   "cell_type": "markdown",
   "metadata": {},
   "source": [
    "Show elements:"
   ]
  },
  {
   "cell_type": "code",
   "execution_count": null,
   "metadata": {},
   "outputs": [],
   "source": [
    "E1_el = Ec_green.value.strip(\"()\").split(\"+\")\n",
    "E1_val_all = [1 if el in E1_el else 0 for el in U]\n",
    "\n",
    "E2_el = Ec_yellow_green.value.strip(\"()\").split(\"+\")\n",
    "E2_val_all = [1 if el in E2_el else 0 for el in U]\n",
    "\n",
    "E3_el = Ec_red.value.strip(\"()\").split(\"+\")\n",
    "E3_val_all = [1 if el in E3_el else 0 for el in U]\n",
    "\n",
    "E4_el = Ec_rose.value.strip(\"()\").split(\"+\")\n",
    "E4_val_all = [1 if el in E4_el else 0 for el in U]\n",
    "\n",
    "hist_list = [U_val_all, E1_val_all, E2_val_all, E3_val_all, E4_val_all]\n",
    "titles = [\"Uc (all elements)\", \"Ec_green\", \"Ec_yellow_green\", \"Ec_red\", \"Ec_rose\"]\n",
    "names = [\"Uc\", \"E1\", \"E2\", \"E3\", \"E4\"]\n",
    "\n",
    "fig = utils.show_histogram(hist_list, U, colors, titles, names)\n",
    "fig.show()"
   ]
  },
  {
   "cell_type": "markdown",
   "metadata": {},
   "source": [
    "### Positional Elements"
   ]
  },
  {
   "cell_type": "markdown",
   "metadata": {},
   "source": [
    "```json\n",
    "{\n",
    "    \"id\": id,\n",
    "    \"pos\": (x_start, y_start, width, height)\n",
    "}\n",
    "```"
   ]
  },
  {
   "cell_type": "markdown",
   "metadata": {},
   "source": [
    "Create a grid for postional elements in relative units:"
   ]
  },
  {
   "cell_type": "code",
   "execution_count": null,
   "metadata": {},
   "outputs": [],
   "source": [
    "grid_1d = utils.generate_positional_grid_1d(5, 5)\n",
    "grid_1d[:5]"
   ]
  },
  {
   "cell_type": "markdown",
   "metadata": {},
   "source": [
    "In absolute units:"
   ]
  },
  {
   "cell_type": "code",
   "execution_count": null,
   "metadata": {},
   "outputs": [],
   "source": [
    "IMAGE_WIDTH = 100\n",
    "IMAGE_HEIGHT = 100\n",
    "\n",
    "position_elements = utils.get_positional_grid_1d(IMAGE_WIDTH, IMAGE_HEIGHT, grid_1d)\n",
    "position_elements[:5]"
   ]
  },
  {
   "cell_type": "code",
   "execution_count": null,
   "metadata": {},
   "outputs": [],
   "source": [
    "position_converter = {el[\"id\"]: el[\"pos\"] for el in position_elements}"
   ]
  },
  {
   "cell_type": "markdown",
   "metadata": {},
   "source": [
    "Show all positional elements:"
   ]
  },
  {
   "cell_type": "code",
   "execution_count": null,
   "metadata": {},
   "outputs": [],
   "source": [
    "img_Up = utils.generate_position_image(element=\"all\", position_converter=position_converter)"
   ]
  },
  {
   "cell_type": "code",
   "execution_count": null,
   "metadata": {},
   "outputs": [],
   "source": [
    "fig = make_subplots(rows=1, cols=1, subplot_titles=(\"U\"))\n",
    "fig.add_image(z=img_Up, row=1, col=1, name=\"top\")\n",
    "fig.update_layout(plot_bgcolor=\"#fefefe\", showlegend=False, height=300, width=300, \n",
    "                  title_text=\"Positional Universal Elements\")\n",
    "fig.show()"
   ]
  },
  {
   "cell_type": "markdown",
   "metadata": {},
   "source": [
    "Create high-level positional elements:"
   ]
  },
  {
   "cell_type": "code",
   "execution_count": null,
   "metadata": {},
   "outputs": [],
   "source": [
    "# Definition of high-level positional elements\n",
    "\n",
    "Ep_top = E(\"e1+e2+e3+e4+e5+e6+e7+e8+e9+e10\")\n",
    "Ep_bottom = E(\"e16+e17+e18+e19+e20+e21+e22+e23+e24+e25\")\n",
    "Ep_left = E(\"e1+e2+e6+e7+e11+e12+e16+e17+e21+e22\")\n",
    "Ep_right = E(\"e4+e5+e9+e10+e14+e15+e19+e20+e24+e25\")\n",
    "Ep_center = E(\"e7+e8+e9+e12+e13+e14+e17+e18+e19\")\n",
    "\n",
    "\n",
    "# Sets of high-level positional elements (they will be used for the Evaluator below)\n",
    "\n",
    "Ep_top_set = parser.parse_set(Ep_top.value)\n",
    "Ep_bottom_set = parser.parse_set(Ep_bottom.value)\n",
    "Ep_left_set = parser.parse_set(Ep_left.value)\n",
    "Ep_right_set = parser.parse_set(Ep_right.value)\n",
    "Ep_center_set = parser.parse_set(Ep_center.value)"
   ]
  },
  {
   "cell_type": "markdown",
   "metadata": {},
   "source": [
    "Show elements:"
   ]
  },
  {
   "cell_type": "code",
   "execution_count": null,
   "metadata": {},
   "outputs": [],
   "source": [
    "img_bottom = utils.generate_position_image(Ep_bottom, position_converter)\n",
    "img_top = utils.generate_position_image(Ep_top, position_converter)\n",
    "img_left = utils.generate_position_image(Ep_left, position_converter)\n",
    "img_right = utils.generate_position_image(Ep_right, position_converter)\n",
    "img_center = utils.generate_position_image(Ep_center,position_converter)"
   ]
  },
  {
   "cell_type": "code",
   "execution_count": null,
   "metadata": {},
   "outputs": [],
   "source": [
    "fig = make_subplots(rows=1, cols=5, subplot_titles=(\"Top\", \"Bottom\", \"Left\", \"Right\", \"Center\"))\n",
    "fig.add_image(z=img_top, row=1, col=1, name=\"top\")\n",
    "fig.add_image(z=img_bottom, row=1, col=2, name=\"bottom\")\n",
    "fig.add_image(z=img_left, row=1, col=3, name=\"left\")\n",
    "fig.add_image(z=img_right, row=1, col=4, name=\"right\")\n",
    "fig.add_image(z=img_center, row=1, col=5, name=\"center\")\n",
    "\n",
    "fig.update_layout(plot_bgcolor=\"#fefefe\", showlegend=True, height=300, width=900, title_text=\"Positional Elements\")\n",
    "fig.show()"
   ]
  },
  {
   "cell_type": "markdown",
   "metadata": {},
   "source": [
    "## Image and its Histogram"
   ]
  },
  {
   "cell_type": "markdown",
   "metadata": {},
   "source": [
    "Generate an image composed from elements of the universal set:"
   ]
  },
  {
   "cell_type": "code",
   "execution_count": null,
   "metadata": {},
   "outputs": [],
   "source": [
    "Uc = list(item[\"id\"] for item in color_elements)"
   ]
  },
  {
   "cell_type": "code",
   "execution_count": null,
   "metadata": {},
   "outputs": [],
   "source": [
    "img = utils.generate_image(Uc, color_converter, delta=10, add_normal_color=[\"e33\", \"e34\"], seed=1)\n",
    "img"
   ]
  },
  {
   "cell_type": "markdown",
   "metadata": {},
   "source": [
    "Create a histogram from the image"
   ]
  },
  {
   "cell_type": "code",
   "execution_count": null,
   "metadata": {},
   "outputs": [],
   "source": [
    "hist = utils.convert2hist_1d(img, color_elements, grid_1d)"
   ]
  },
  {
   "cell_type": "markdown",
   "metadata": {},
   "source": [
    "Showing Image and its Histogram"
   ]
  },
  {
   "cell_type": "code",
   "execution_count": null,
   "metadata": {},
   "outputs": [],
   "source": [
    "hist_elements = sorted(hist.hist_elements().items(), key=lambda x: int(x[0][1].strip(\"e\")))\n",
    "\n",
    "elements = [\"({})\".format(\",\".join(el[0])) for el in hist_elements]\n",
    "values = [el[1].value for el in hist_elements]\n",
    "colors = [\"rgb{}\".format(color_converter[el[0][1]]) for el in hist_elements]"
   ]
  },
  {
   "cell_type": "code",
   "execution_count": null,
   "metadata": {},
   "outputs": [],
   "source": [
    "fig = make_subplots(rows=1, cols=2, column_widths=[0.2, 0.8], subplot_titles=(\"Image\", \"Histogram\"))\n",
    "\n",
    "fig.add_image(z=img, row=1, col=1, name=\"image\")\n",
    "fig.add_bar(x=elements, y=values, marker_color=colors, width=0.5, row=1, col=2, name=\"histogram\")\n",
    "\n",
    "fig.update_xaxes(gridcolor='#bdbdbd', title=\"Elements\", titlefont=dict(color=\"grey\"), row=1, col=2)\n",
    "fig.update_yaxes(gridcolor='#bdbdbd', title=\"Counts\", titlefont=dict(color=\"grey\"), row=1, col=2)\n",
    "\n",
    "fig.update_layout(plot_bgcolor='#fefefe', showlegend=False, height=300, width=900, title_text=\"Initial Data\")\n",
    "fig.show()"
   ]
  },
  {
   "cell_type": "markdown",
   "metadata": {},
   "source": [
    "Sum of all histogram element values:"
   ]
  },
  {
   "cell_type": "code",
   "execution_count": null,
   "metadata": {},
   "outputs": [],
   "source": [
    "hist.sum()"
   ]
  },
  {
   "cell_type": "markdown",
   "metadata": {},
   "source": [
    "Get a value of the `(e8,e2)` element:"
   ]
  },
  {
   "cell_type": "code",
   "execution_count": null,
   "metadata": {},
   "outputs": [],
   "source": [
    "hist((\"e8\",\"e2\")).sum()"
   ]
  },
  {
   "cell_type": "code",
   "execution_count": null,
   "metadata": {},
   "outputs": [],
   "source": [
    "len(hist)"
   ]
  },
  {
   "cell_type": "markdown",
   "metadata": {},
   "source": [
    "Show the high-level positional elements in the context of the image:"
   ]
  },
  {
   "cell_type": "code",
   "execution_count": null,
   "metadata": {},
   "outputs": [],
   "source": [
    "img_context_bottom = utils.generate_position_image_with_context(img, Ep_bottom_set, position_converter)\n",
    "img_context_top = utils.generate_position_image_with_context(img, Ep_top_set, position_converter)\n",
    "img_context_left = utils.generate_position_image_with_context(img, Ep_left_set, position_converter)\n",
    "img_context_right = utils.generate_position_image_with_context(img, Ep_right_set, position_converter)\n",
    "img_context_center = utils.generate_position_image_with_context(img, Ep_center_set, position_converter)"
   ]
  },
  {
   "cell_type": "code",
   "execution_count": null,
   "metadata": {},
   "outputs": [],
   "source": [
    "fig = make_subplots(rows=1, cols=5, subplot_titles=(\"Top\", \"Bottom\", \"Left\", \"Right\", \"Center\"))\n",
    "fig.add_image(z=img_context_top, row=1, col=1, name=\"top\")\n",
    "fig.add_image(z=img_context_bottom, row=1, col=2, name=\"bottom\")\n",
    "fig.add_image(z=img_context_left, row=1, col=3, name=\"left\")\n",
    "fig.add_image(z=img_context_right, row=1, col=4, name=\"right\")\n",
    "fig.add_image(z=img_context_center, row=1, col=5, name=\"center\")\n",
    "\n",
    "fig.update_layout(plot_bgcolor=\"#fefefe\", showlegend=True, height=300, width=800, title_text=\"Positional Elements\")\n",
    "fig.show()"
   ]
  },
  {
   "cell_type": "markdown",
   "metadata": {},
   "source": [
    "## Basic Operations in Histogram Model"
   ]
  },
  {
   "cell_type": "markdown",
   "metadata": {},
   "source": [
    "Initialize a dictionary of high-level elements:"
   ]
  },
  {
   "cell_type": "code",
   "execution_count": null,
   "metadata": {},
   "outputs": [],
   "source": [
    "high_level_elements = {\n",
    "    0: {  # position\n",
    "        \"Ep_top\": Ep_top_set, \n",
    "        \"Ep_bottom\": Ep_bottom_set,\n",
    "        \"Ep_left\": Ep_left_set,\n",
    "        \"Ep_right\": Ep_right_set,\n",
    "        \"Ep_center\": Ep_center_set\n",
    "    }, \n",
    "    1: {  # color\n",
    "        \"Ec_red\": Ec_red_set,\n",
    "        \"Ec_green\": Ec_green_set\n",
    "    }\n",
    "}"
   ]
  },
  {
   "cell_type": "markdown",
   "metadata": {},
   "source": [
    "Initialize the parser and evaluator:"
   ]
  },
  {
   "cell_type": "code",
   "execution_count": null,
   "metadata": {},
   "outputs": [],
   "source": [
    "parser = Parser()\n",
    "evaluator = Evaluator(operations, hist, high_level_elements=high_level_elements)"
   ]
  },
  {
   "cell_type": "markdown",
   "metadata": {},
   "source": [
    "Define high-level elements:"
   ]
  },
  {
   "cell_type": "code",
   "execution_count": null,
   "metadata": {},
   "outputs": [],
   "source": [
    "E_top_red = E(\"Ep_top, Ec_red\")\n",
    "E_bottom_red = E(\"Ep_bottom, Ec_red\")\n",
    "E_left_red = E(\"Ep_left, Ec_red\")\n",
    "E_right_red = E(\"Ep_right, Ec_red\")\n",
    "E_center_red = E(\"Ep_center, Ec_red\")"
   ]
  },
  {
   "cell_type": "markdown",
   "metadata": {},
   "source": [
    "#### Histograms of `E_top_red`, `E_bottom_red`, `E_left_red`, `E_right_red` and `E_center_red` given Image"
   ]
  },
  {
   "cell_type": "markdown",
   "metadata": {},
   "source": [
    "Create a histogram of `E_top_red` given the image:"
   ]
  },
  {
   "cell_type": "code",
   "execution_count": null,
   "metadata": {},
   "outputs": [],
   "source": [
    "E_top_red_expr = parser.parse_string(E_top_red.value)\n",
    "HE_top_red = evaluator.eval(E_top_red_expr)\n",
    "\n",
    "print(\"Expression for E_top_red:\\n{}\".format(E_top_red.value))\n",
    "print(\"\\nThe parsed expressino for E_top_red in the postfix notation:\\n{}\".format(E_top_red_expr))\n",
    "print(\"\\nHistogram of E_top_red given the image:\\n{}\".format(HE_top_red.to_dict()))\n",
    "print(\"\\nValue of presence for E_union:\\n{}\".format(HE_top_red.sum()))"
   ]
  },
  {
   "cell_type": "markdown",
   "metadata": {},
   "source": [
    "Same for `E_bottom_red`, `E_left_red`, `E_right_red` and `E_center_red`:"
   ]
  },
  {
   "cell_type": "code",
   "execution_count": null,
   "metadata": {},
   "outputs": [],
   "source": [
    "E_bottom_red_expr = parser.parse_string(E_bottom_red.value)\n",
    "E_left_red_expr = parser.parse_string(E_left_red.value)\n",
    "E_right_red_expr = parser.parse_string(E_right_red.value)\n",
    "E_center_red_expr = parser.parse_string(E_center_red.value)\n",
    "\n",
    "HE_bottom_red = evaluator.eval(E_bottom_red_expr)\n",
    "HE_left_red = evaluator.eval(E_left_red_expr)\n",
    "HE_right_red = evaluator.eval(E_right_red_expr)\n",
    "HE_center_red = evaluator.eval(E_center_red_expr)"
   ]
  },
  {
   "cell_type": "markdown",
   "metadata": {},
   "source": [
    "Show the histograms of `E_top_red`, `E_bottom_red`, `E_left_red`, `E_right_red` and `E_center_red` given the image:"
   ]
  },
  {
   "cell_type": "code",
   "execution_count": null,
   "metadata": {},
   "outputs": [],
   "source": [
    "HE_list = [HE_top_red, HE_bottom_red, HE_left_red, HE_right_red, HE_center_red]\n",
    "image_titles = [\"(Top, Red)\", \"(Bottom, Red)\", \"(Left, Red)\", \"(Right, Red)\", \"(Center, Red)\"]\n",
    "hist_titles = [\"E_top_red\", \"E_bottom_red\", \"E_left_red\", \"E_right_red\", \"E_center_red\"]\n",
    "\n",
    "fig = utils.show_histogram1d(HE_list=HE_list, img=img, color_converter=color_converter, \n",
    "                             position_converter=position_converter,\n",
    "                             image_titles=image_titles, hist_titles=hist_titles)\n",
    "fig.show()"
   ]
  },
  {
   "cell_type": "markdown",
   "metadata": {},
   "source": [
    "### Set Operations"
   ]
  },
  {
   "cell_type": "code",
   "execution_count": null,
   "metadata": {},
   "outputs": [],
   "source": [
    "E1 = E(\"Ep_top, Ec_red\")\n",
    "E2 = E(\"Ep_right, Ec_red\")"
   ]
  },
  {
   "cell_type": "code",
   "execution_count": null,
   "metadata": {},
   "outputs": [],
   "source": [
    "E1_expr = parser.parse_string(E1.value)\n",
    "E2_expr = parser.parse_string(E2.value)\n",
    "\n",
    "HE1 = evaluator.eval(E1_expr)\n",
    "HE2 = evaluator.eval(E2_expr)"
   ]
  },
  {
   "cell_type": "markdown",
   "metadata": {},
   "source": [
    "#### UNION"
   ]
  },
  {
   "cell_type": "code",
   "execution_count": null,
   "metadata": {},
   "outputs": [],
   "source": [
    "E_union = E1 + E2\n",
    "E_union_expr = parser.parse_string(E_union.value)\n",
    "HE_union = evaluator.eval(E_union_expr)\n",
    "\n",
    "print(\"Expression for E_union:\\n{}\".format(E_union))\n",
    "print(\"\\nThe parsed expression for E_union in the postfix notation:\\n{}\".format(E_union_expr))\n",
    "print(\"\\nHistogram of E_union given the image:\\n{}\".format(HE_union.to_dict()))\n",
    "print(\"\\nValue of presence for E_union:\\n{}\".format(HE_union.sum()))"
   ]
  },
  {
   "cell_type": "markdown",
   "metadata": {},
   "source": [
    "Show the histogram of `E_union` given the image:"
   ]
  },
  {
   "cell_type": "code",
   "execution_count": null,
   "metadata": {},
   "outputs": [],
   "source": [
    "HE_list = [HE1, HE2, HE_union]\n",
    "image_titles = [\"(Top, Red)\", \"(Right, Red)\", \"(Top, Red) + (Right, Red)\"]\n",
    "hist_titles = [\"E1\", \"E2\", \"E1 + E2\"]\n",
    "\n",
    "fig = utils.show_histogram1d(HE_list=HE_list, img=img, color_converter=color_converter, \n",
    "                             position_converter=position_converter,\n",
    "                             image_titles=image_titles, hist_titles=hist_titles)\n",
    "fig.show()"
   ]
  },
  {
   "cell_type": "markdown",
   "metadata": {},
   "source": [
    "#### INTERSECTION"
   ]
  },
  {
   "cell_type": "code",
   "execution_count": null,
   "metadata": {},
   "outputs": [],
   "source": [
    "E_intersect = E1 * E2  # or E1.Intersection(E2)\n",
    "E_intersect_expr = parser.parse_string(E_intersect.value)\n",
    "HE_intersect = evaluator.eval(E_intersect_expr)\n",
    "\n",
    "print(\"Expression for E_intersect:\\n{}\".format(E_intersect))\n",
    "print(\"\\nThe parsed expression for E_intersect in the postfix notation:\\n{}\".format(E_intersect_expr))\n",
    "print(\"\\nHistogram of E_intersect given the image:\\n{}\".format(HE_intersect.to_dict()))\n",
    "print(\"\\nValue of presence for E_intersect:\\n{}\".format(HE_intersect.sum()))"
   ]
  },
  {
   "cell_type": "markdown",
   "metadata": {},
   "source": [
    "Show the histogram of `E_intersect` given the image:"
   ]
  },
  {
   "cell_type": "code",
   "execution_count": null,
   "metadata": {},
   "outputs": [],
   "source": [
    "HE_list = [HE1, HE2, HE_intersect]\n",
    "image_titles = [\"(Top, Red)\", \"(Right, Red)\", \"(Top, Red) * (Right, Red)\"]\n",
    "hist_titles = [\"E1\", \"E2\", \"E1 * E2\"]\n",
    "\n",
    "fig = utils.show_histogram1d(HE_list=HE_list, img=img, color_converter=color_converter, \n",
    "                             position_converter=position_converter,\n",
    "                             image_titles=image_titles, hist_titles=hist_titles)\n",
    "fig.show()"
   ]
  },
  {
   "cell_type": "markdown",
   "metadata": {},
   "source": [
    "#### SUBSTRACTION or EXCEPTION"
   ]
  },
  {
   "cell_type": "code",
   "execution_count": null,
   "metadata": {},
   "outputs": [],
   "source": [
    "E_sub = E1 - E2  # or E1.Sub(E2)\n",
    "E_sub_expr = parser.parse_string(E_sub.value)\n",
    "HE_sub = evaluator.eval(E_sub_expr)\n",
    "\n",
    "print(\"Expression for E_sub:\\n{}\".format(E_sub))\n",
    "print(\"\\nThe parsed expression for E_sub in the postfix notation:\\n{}\".format(E_sub_expr))\n",
    "print(\"\\nHistogram of E_sub given the image:\\n{}\".format(HE_sub.to_dict()))\n",
    "print(\"\\nValue of presence for E_sub:\\n{}\".format(HE_sub.sum()))"
   ]
  },
  {
   "cell_type": "markdown",
   "metadata": {},
   "source": [
    "Show the histogram of `E_sub` given the image:"
   ]
  },
  {
   "cell_type": "code",
   "execution_count": null,
   "metadata": {},
   "outputs": [],
   "source": [
    "HE_list = [HE1, HE2, HE_sub]\n",
    "image_titles = [\"(Top, Red)\", \"(Right, Red)\", \"(Top, Red) - (Right, Red)\"]\n",
    "hist_titles = [\"E1\", \"E2\", \"E1 - E2\"]\n",
    "\n",
    "fig = utils.show_histogram1d(HE_list=HE_list, img=img, color_converter=color_converter, \n",
    "                             position_converter=position_converter,\n",
    "                             image_titles=image_titles, hist_titles=hist_titles)\n",
    "fig.show()"
   ]
  },
  {
   "cell_type": "markdown",
   "metadata": {},
   "source": [
    "### Logical Operations"
   ]
  },
  {
   "cell_type": "markdown",
   "metadata": {},
   "source": [
    "#### AND"
   ]
  },
  {
   "cell_type": "code",
   "execution_count": null,
   "metadata": {},
   "outputs": [],
   "source": [
    "E_and = E1 & E2  # or E1.And(E2)\n",
    "E_and_expr = parser.parse_string(E_and.value)\n",
    "HE_and = evaluator.eval(E_and_expr)\n",
    "\n",
    "print(\"Expression for E_and:\\n{}\".format(E_and))\n",
    "print(\"\\nThe parsed expression for E_and in the postfix notation:\\n{}\".format(E_and_expr))\n",
    "print(\"\\nHistogram of E_and given the image:\\n{}\".format(HE_and.to_dict()))\n",
    "print(\"\\nValue of presence for E_and:\\n{}\".format(HE_and.sum()))"
   ]
  },
  {
   "cell_type": "markdown",
   "metadata": {},
   "source": [
    "Show the histogram of `E_and` given the image:"
   ]
  },
  {
   "cell_type": "code",
   "execution_count": null,
   "metadata": {},
   "outputs": [],
   "source": [
    "HE_list = [HE1, HE2, HE_and]\n",
    "image_titles = [\"(Top, Red)\", \"(Right, Red)\", \"(Top, Red) <b>AND</b> (Right, Red)\"]\n",
    "hist_titles = [\"E1\", \"E2\", \"E1 <b>AND</b> E2\"]\n",
    "\n",
    "fig = utils.show_histogram1d(HE_list=HE_list, img=img, color_converter=color_converter, \n",
    "                             position_converter=position_converter,\n",
    "                             image_titles=image_titles, hist_titles=hist_titles)\n",
    "fig.show()"
   ]
  },
  {
   "cell_type": "markdown",
   "metadata": {},
   "source": [
    "#### OR"
   ]
  },
  {
   "cell_type": "code",
   "execution_count": null,
   "metadata": {},
   "outputs": [],
   "source": [
    "E_or = E1 | E2  # or E1.Or(E2)\n",
    "E_or_expr = parser.parse_string(E_or.value)\n",
    "HE_or = evaluator.eval(E_or_expr)\n",
    "\n",
    "print(\"Expression for E_or:\\n{}\".format(E_or))\n",
    "print(\"\\nThe parsed expression for E_or in the postfix notation:\\n{}\".format(E_or_expr))\n",
    "print(\"\\nHistogram of E_or given the image:\\n{}\".format(HE_or.to_dict()))\n",
    "print(\"\\nValue of presence for E_or:\\n{}\".format(HE_or.sum()))"
   ]
  },
  {
   "cell_type": "markdown",
   "metadata": {},
   "source": [
    "Show the histogram of `E_or` given the image:"
   ]
  },
  {
   "cell_type": "code",
   "execution_count": null,
   "metadata": {},
   "outputs": [],
   "source": [
    "HE_list = [HE1, HE2, HE_or]\n",
    "image_titles = [\"(Top, Red)\", \"(Right, Red)\", \"(Top, Red) <b>OR</b> (Right, Red)\"]\n",
    "hist_titles = [\"E1\", \"E2\", \"E1 <b>OR</b> E2\"]\n",
    "\n",
    "fig = utils.show_histogram1d(HE_list=HE_list, img=img, color_converter=color_converter, \n",
    "                             position_converter=position_converter,\n",
    "                             image_titles=image_titles, hist_titles=hist_titles)\n",
    "fig.show()"
   ]
  },
  {
   "cell_type": "markdown",
   "metadata": {},
   "source": [
    "#### XOR"
   ]
  },
  {
   "cell_type": "code",
   "execution_count": null,
   "metadata": {},
   "outputs": [],
   "source": [
    "E_xor = E1 ^ E2  # or E1.Xor(E2)\n",
    "E_xor_expr = parser.parse_string(E_xor.value)\n",
    "HE_xor = evaluator.eval(E_xor_expr)\n",
    "\n",
    "print(\"Expression for E_xor:\\n{}\".format(E_xor))\n",
    "print(\"\\nThe parsed expression for E_xor in the postfix notation:\\n{}\".format(E_xor_expr))\n",
    "print(\"\\nHistogram of E_xor given the image:\\n{}\".format(HE_xor.to_dict()))\n",
    "print(\"\\nValue of presence for E_xor:\\n{}\".format(HE_xor.sum()))"
   ]
  },
  {
   "cell_type": "markdown",
   "metadata": {},
   "source": [
    "Show the histogram of `E_xor` given the image:"
   ]
  },
  {
   "cell_type": "code",
   "execution_count": null,
   "metadata": {},
   "outputs": [],
   "source": [
    "HE_list = [HE1, HE2, HE_xor]\n",
    "image_titles = [\"(Top, Red)\", \"(Right, Red)\", \"(Top, Red) <b>XOR</b> (Right, Red)\"]\n",
    "hist_titles = [\"E1\", \"E2\", \"E1 <b>XOR</b> E2\"]\n",
    "\n",
    "fig = utils.show_histogram1d(HE_list=HE_list, img=img, color_converter=color_converter, \n",
    "                             position_converter=position_converter,\n",
    "                             image_titles=image_titles, hist_titles=hist_titles)\n",
    "fig.show()"
   ]
  },
  {
   "cell_type": "markdown",
   "metadata": {},
   "source": [
    "#### XSUBSTRACTION"
   ]
  },
  {
   "cell_type": "markdown",
   "metadata": {},
   "source": [
    "**Case 1**"
   ]
  },
  {
   "cell_type": "code",
   "execution_count": null,
   "metadata": {},
   "outputs": [],
   "source": [
    "E_xsub = E1.Xsub(E2)\n",
    "E_xsub_expr = parser.parse_string(E_xsub.value)\n",
    "HE_xsub = evaluator.eval(E_xsub_expr)\n",
    "\n",
    "print(\"Expression for E_xsub:\\n{}\".format(E_xsub))\n",
    "print(\"\\nThe parsed expression for E_xsub in the postfix notation:\\n{}\".format(E_xsub_expr))\n",
    "print(\"\\nHistogram of E_xsub given the image:\\n{}\".format(HE_xsub.to_dict()))\n",
    "print(\"\\nValue of presence for E_xsub:\\n{}\".format(HE_xsub.sum()))"
   ]
  },
  {
   "cell_type": "markdown",
   "metadata": {},
   "source": [
    "Show the histogram of `E_xsub` given the image:"
   ]
  },
  {
   "cell_type": "code",
   "execution_count": null,
   "metadata": {},
   "outputs": [],
   "source": [
    "HE_list = [HE1, HE2, HE_xsub]\n",
    "image_titles = [\"(Top, Red)\", \"(Right, Red)\", \"(Top, Red) <b>XSUBSTRACT</b> (Right, Red)\"]\n",
    "hist_titles = [\"E1\", \"E2\", \"E1 <b>XSUBSTRACT</b> E2\"]\n",
    "\n",
    "fig = utils.show_histogram1d(HE_list=HE_list, img=img, color_converter=color_converter, \n",
    "                             position_converter=position_converter,\n",
    "                             image_titles=image_titles, hist_titles=hist_titles)\n",
    "fig.show()"
   ]
  },
  {
   "cell_type": "markdown",
   "metadata": {},
   "source": [
    "**Case 2**"
   ]
  },
  {
   "cell_type": "code",
   "execution_count": null,
   "metadata": {},
   "outputs": [],
   "source": [
    "E3 = E(\"Ep_right, e22\")\n",
    "E3_expr = parser.parse_string(E3.value)\n",
    "HE3 = evaluator.eval(E3_expr)"
   ]
  },
  {
   "cell_type": "code",
   "execution_count": null,
   "metadata": {},
   "outputs": [],
   "source": [
    "E_xsub = E1.Xsub(E3)\n",
    "E_xsub_expr = parser.parse_string(E_xsub.value)\n",
    "HE_xsub = evaluator.eval(E_xsub_expr)\n",
    "\n",
    "print(\"Expression for E_xsub:\\n{}\".format(E_xsub))\n",
    "print(\"\\nThe parsed expression for E_xsub in the postfix notation:\\n{}\".format(E_xsub_expr))\n",
    "print(\"\\nHistogram of E_xsub given the image:\\n{}\".format(HE_xsub.to_dict()))\n",
    "print(\"\\nValue of presence for E_xsub:\\n{}\".format(HE_xsub.sum()))"
   ]
  },
  {
   "cell_type": "code",
   "execution_count": null,
   "metadata": {},
   "outputs": [],
   "source": [
    "HE_list = [HE1, HE3, HE_xsub]\n",
    "image_titles = [\"(Top, Red)\", \"(Right, e22)\", \"(Top, Red) <b>XSUBSTRACT</b> (Right, e22)\"]\n",
    "hist_titles = [\"E1\", \"E3\", \"E1 <b>XSUBSTRACT</b> E3\"]\n",
    "\n",
    "fig = utils.show_histogram1d(HE_list=HE_list, img=img, color_converter=color_converter, \n",
    "                             position_converter=position_converter,\n",
    "                             image_titles=image_titles, hist_titles=hist_titles)\n",
    "fig.show()"
   ]
  },
  {
   "cell_type": "markdown",
   "metadata": {},
   "source": [
    "## Analyzing Image using Histogram Model"
   ]
  },
  {
   "cell_type": "code",
   "execution_count": null,
   "metadata": {},
   "outputs": [],
   "source": [
    "# TOD0\n",
    "'''\n",
    "E1 = E(\"all, e23\")\n",
    "E2 = E(\"e5, e12\")\n",
    "expression = parser.parse_string((E1+E2).value)\n",
    "HE_result = evaluator.eval(expression)\n",
    "HE_result.to_dict()\n",
    "'''"
   ]
  },
  {
   "cell_type": "markdown",
   "metadata": {},
   "source": [
    "## Image Retrieval by Expression"
   ]
  },
  {
   "cell_type": "markdown",
   "metadata": {},
   "source": [
    "Generate images:"
   ]
  },
  {
   "cell_type": "code",
   "execution_count": null,
   "metadata": {},
   "outputs": [],
   "source": [
    "imgs = [utils.generate_image(Uc, color_converter, delta=10, add_normal_color=[\"e33\", \"e34\"], seed=i) \n",
    "        for i in range(100)]\n",
    "imgs += [utils.generate_image(Uc, color_converter, delta=10, seed=i) for i in range(100)]"
   ]
  },
  {
   "cell_type": "markdown",
   "metadata": {},
   "source": [
    "Create histograms for the images:"
   ]
  },
  {
   "cell_type": "code",
   "execution_count": null,
   "metadata": {},
   "outputs": [],
   "source": [
    "hists = [utils.convert2hist_1d(img, color_elements, grid_1d) for img in imgs]"
   ]
  },
  {
   "cell_type": "markdown",
   "metadata": {},
   "source": [
    "Compose a query to get a subset of relevant images:"
   ]
  },
  {
   "cell_type": "code",
   "execution_count": null,
   "metadata": {},
   "outputs": [],
   "source": [
    "query = E1 + E2\n",
    "expr = parser.parse_string(query.value)"
   ]
  },
  {
   "cell_type": "markdown",
   "metadata": {},
   "source": [
    "Calculate histograms of the query for the images:"
   ]
  },
  {
   "cell_type": "code",
   "execution_count": null,
   "metadata": {},
   "outputs": [],
   "source": [
    "HEs = [evaluator.eval(expr, hist) for hist in hists]"
   ]
  },
  {
   "cell_type": "markdown",
   "metadata": {},
   "source": [
    "Rank the images based on their values of presence:"
   ]
  },
  {
   "cell_type": "code",
   "execution_count": null,
   "metadata": {},
   "outputs": [],
   "source": [
    "img_rank = sorted([(indx, HE.sum()) for indx, HE in enumerate(HEs)], key=lambda x: -x[1])\n",
    "print(\"Top 5 images:\", img_rank[:5])\n",
    "print(\"Last 5 images:\", img_rank[-5:])"
   ]
  },
  {
   "cell_type": "markdown",
   "metadata": {},
   "source": [
    "Image that most corresponds to the query:"
   ]
  },
  {
   "cell_type": "code",
   "execution_count": null,
   "metadata": {},
   "outputs": [],
   "source": [
    "imgs[img_rank[0][0]]"
   ]
  },
  {
   "cell_type": "markdown",
   "metadata": {},
   "source": [
    "Show the top 5 images:"
   ]
  },
  {
   "cell_type": "code",
   "execution_count": null,
   "metadata": {},
   "outputs": [],
   "source": [
    "top_5_imgs = [imgs[rank[0]] for rank in img_rank[:5]]\n",
    "fig = utils.show_rank_images(top_5_imgs, \"Top 5\")\n",
    "fig.show()"
   ]
  },
  {
   "cell_type": "markdown",
   "metadata": {},
   "source": [
    "Image that least corresponds to the query:"
   ]
  },
  {
   "cell_type": "code",
   "execution_count": null,
   "metadata": {},
   "outputs": [],
   "source": [
    "imgs[img_rank[len(imgs)-1][0]]"
   ]
  },
  {
   "cell_type": "markdown",
   "metadata": {},
   "source": [
    "Show the last 5 images:"
   ]
  },
  {
   "cell_type": "code",
   "execution_count": null,
   "metadata": {},
   "outputs": [],
   "source": [
    "last_5_imgs = [imgs[rank[0]] for rank in img_rank[-5:]]\n",
    "fig = utils.show_rank_images(last_5_imgs, \"Last 5\")\n",
    "fig.show()"
   ]
  },
  {
   "cell_type": "markdown",
   "metadata": {},
   "source": [
    "## Image Retrieval by Sample"
   ]
  },
  {
   "cell_type": "markdown",
   "metadata": {},
   "source": [
    "Generate a sample image:"
   ]
  },
  {
   "cell_type": "code",
   "execution_count": null,
   "metadata": {},
   "outputs": [],
   "source": [
    "img_sample = utils.generate_image(Uc, color_converter, delta=10, add_normal_color=[\"e33\", \"e34\"], seed=300)\n",
    "img_sample"
   ]
  },
  {
   "cell_type": "markdown",
   "metadata": {},
   "source": [
    "Create the histogram of the image:"
   ]
  },
  {
   "cell_type": "code",
   "execution_count": null,
   "metadata": {},
   "outputs": [],
   "source": [
    "hist_sample = utils.convert2hist_1d(img_sample, color_elements, grid_1d)"
   ]
  },
  {
   "cell_type": "markdown",
   "metadata": {},
   "source": [
    "Rank the images according to their similarity:"
   ]
  },
  {
   "cell_type": "code",
   "execution_count": null,
   "metadata": {},
   "outputs": [],
   "source": [
    "img_sample_rank = sorted([(indx, (hist_sample * hist).sum()) for indx, hist in enumerate(hists)], \n",
    "                         key=lambda x: -x[1])\n",
    "print(\"Top 5 images:\", img_sample_rank[:5])\n",
    "print(\"Last 5 images:\", img_sample_rank[-5:])"
   ]
  },
  {
   "cell_type": "markdown",
   "metadata": {},
   "source": [
    "Show the top 5 images:"
   ]
  },
  {
   "cell_type": "code",
   "execution_count": null,
   "metadata": {},
   "outputs": [],
   "source": [
    "top_5_imgs = [imgs[rank[0]] for rank in img_sample_rank[:5]]\n",
    "fig = utils.show_rank_images(top_5_imgs, \"Top 5\")\n",
    "fig.show()"
   ]
  },
  {
   "cell_type": "markdown",
   "metadata": {},
   "source": [
    "Show the last 5 images:"
   ]
  },
  {
   "cell_type": "code",
   "execution_count": null,
   "metadata": {},
   "outputs": [],
   "source": [
    "last_5_imgs = [imgs[rank[0]] for rank in img_sample_rank[-5:]]\n",
    "fig = utils.show_rank_images(last_5_imgs, \"Last 5\")\n",
    "fig.show()"
   ]
  },
  {
   "cell_type": "markdown",
   "metadata": {},
   "source": [
    "## References"
   ]
  },
  {
   "cell_type": "code",
   "execution_count": null,
   "metadata": {},
   "outputs": [],
   "source": []
  }
 ],
 "metadata": {
  "kernelspec": {
   "display_name": "Python 3",
   "language": "python",
   "name": "python3"
  },
  "language_info": {
   "codemirror_mode": {
    "name": "ipython",
    "version": 3
   },
   "file_extension": ".py",
   "mimetype": "text/x-python",
   "name": "python",
   "nbconvert_exporter": "python",
   "pygments_lexer": "ipython3",
   "version": "3.5.2"
  }
 },
 "nbformat": 4,
 "nbformat_minor": 2
}
