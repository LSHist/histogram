{
 "cells": [
  {
   "cell_type": "markdown",
   "metadata": {},
   "source": [
    "# Histogram Model (1D) for Image Objects\n",
    "----\n",
    "Sergei Papulin (papulin.study@yandex.ru)"
   ]
  },
  {
   "cell_type": "markdown",
   "metadata": {},
   "source": [
    "## Contents\n",
    "\n",
    "- Loading Dataset\n",
    "    - Image and Annotation\n",
    "    - Image Objects\n",
    "- Defining Positional Elements\n",
    "    - Basic Elements\n",
    "    - Position Mask\n",
    "    - High-Level Elements\n",
    "- Defining Object Elements\n",
    "    - Basic Elements\n",
    "    - Object Mask\n",
    "    - High-Level Elements\n",
    "- Creating Histogram\n",
    "- Querying\n",
    "    - Set Operations\n",
    "    - Logical Operations\n",
    "- Image Retrieval\n",
    "- References"
   ]
  },
  {
   "cell_type": "markdown",
   "metadata": {},
   "source": [
    "#### Load packages"
   ]
  },
  {
   "cell_type": "markdown",
   "metadata": {},
   "source": [
    "Install the following packages if needed:\n",
    "`pip install Cython pycocotools scikit-image`"
   ]
  },
  {
   "cell_type": "code",
   "execution_count": null,
   "metadata": {},
   "outputs": [],
   "source": [
    "import numpy as np\n",
    "from pycocotools.coco import COCO\n",
    "\n",
    "import matplotlib.pyplot as plt\n",
    "from matplotlib.collections import PatchCollection\n",
    "from matplotlib.patches import Polygon, Rectangle\n",
    "\n",
    "import skimage.io as io\n",
    "import skimage.draw as draw\n",
    "\n",
    "%matplotlib inline"
   ]
  },
  {
   "cell_type": "code",
   "execution_count": null,
   "metadata": {},
   "outputs": [],
   "source": [
    "%load_ext autoreload\n",
    "%autoreload 2\n",
    "\n",
    "import sys\n",
    "sys.path.insert(0, \"../../\")\n",
    "\n",
    "from lshist.histogram import operations, Histogram1D, HElement\n",
    "from lshist.executor import Parser, Evaluator\n",
    "from lshist.utils import E"
   ]
  },
  {
   "cell_type": "markdown",
   "metadata": {},
   "source": [
    "## Loading Dataset"
   ]
  },
  {
   "cell_type": "markdown",
   "metadata": {},
   "source": [
    "Download the dataset from the COCO [website](http://cocodataset.org):\n",
    "- [images](http://images.cocodataset.org/zips/val2017.zip)\n",
    "- [annotations](http://images.cocodataset.org/annotations/annotations_trainval2017.zip)"
   ]
  },
  {
   "cell_type": "markdown",
   "metadata": {},
   "source": [
    "### Image and Annotation"
   ]
  },
  {
   "cell_type": "code",
   "execution_count": null,
   "metadata": {},
   "outputs": [],
   "source": [
    "ANNOT_FILE_PATH = \"datasets/annotations/instances_val2017.json\"\n",
    "IMAGE_PATH = \"datasets/val2017\"\n",
    "IMAGE_ID = 404484"
   ]
  },
  {
   "cell_type": "code",
   "execution_count": null,
   "metadata": {},
   "outputs": [],
   "source": [
    "coco = COCO(ANNOT_FILE_PATH)"
   ]
  },
  {
   "cell_type": "code",
   "execution_count": null,
   "metadata": {},
   "outputs": [],
   "source": [
    "img_meta = coco.loadImgs(ids=[IMAGE_ID])[0]\n",
    "img_meta"
   ]
  },
  {
   "cell_type": "code",
   "execution_count": null,
   "metadata": {},
   "outputs": [],
   "source": [
    "I = io.imread(\"{}/{}\".format(IMAGE_PATH, img_meta[\"file_name\"]))\n",
    "plt.imshow(I)\n",
    "plt.show()"
   ]
  },
  {
   "cell_type": "markdown",
   "metadata": {},
   "source": [
    "### Image Objects"
   ]
  },
  {
   "cell_type": "code",
   "execution_count": null,
   "metadata": {},
   "outputs": [],
   "source": [
    "cats = coco.loadCats(coco.getCatIds())\n",
    "len_cats = len(cats)\n",
    "print(\"Single category:\\n{}\\n\".format(cats[0]))\n",
    "print(\"All categories:\\n{}\\n\".format(\" \".join([cat[\"name\"] for cat in cats])))\n",
    "print(\"Total number of categories: {}\".format(len_cats))"
   ]
  },
  {
   "cell_type": "code",
   "execution_count": null,
   "metadata": {},
   "outputs": [],
   "source": [
    "img_anns_id = coco.getAnnIds(imgIds=IMAGE_ID, iscrowd=None)\n",
    "img_anns = coco.loadAnns(img_anns_id)\n",
    "print(img_anns[0])"
   ]
  },
  {
   "cell_type": "code",
   "execution_count": null,
   "metadata": {},
   "outputs": [],
   "source": [
    "seg_polys = list()\n",
    "poly_colors = list()\n",
    "\n",
    "for seg in img_anns:\n",
    "    seg_ = seg[\"segmentation\"][0]\n",
    "    poly_colors.append((np.random.random((1, 3))*0.5+0.5).tolist()[0])\n",
    "    seg_polys.append(Polygon(np.array(seg_).reshape((int(len(seg_)/2), 2)), fill=False))"
   ]
  },
  {
   "cell_type": "code",
   "execution_count": null,
   "metadata": {},
   "outputs": [],
   "source": [
    "fig, ax = plt.subplots(1) #, figsize=(15,15))\n",
    "\n",
    "ax.imshow(I)\n",
    "p_objs = PatchCollection(seg_polys, facecolor=poly_colors, edgecolor=poly_colors, alpha=0.6, linewidths=2)\n",
    "ax.add_collection(p_objs)\n",
    "plt.show()"
   ]
  },
  {
   "cell_type": "markdown",
   "metadata": {},
   "source": [
    "## Defining Positional Elements"
   ]
  },
  {
   "cell_type": "markdown",
   "metadata": {},
   "source": [
    "### Basic Elements"
   ]
  },
  {
   "cell_type": "code",
   "execution_count": null,
   "metadata": {},
   "outputs": [],
   "source": [
    "def generate_positional_grid_1d(num_x, num_y):\n",
    "    elements = list()\n",
    "    for i in range(num_y):\n",
    "        for j in range(num_x):\n",
    "            element = dict()\n",
    "            element[\"id\"] = \"e{}\".format(i*num_x + j + 1)\n",
    "            element[\"pos\"] = (j*1/num_x, i*1/num_y, 1/num_x, 1/num_y)\n",
    "            elements.append(element)\n",
    "    return elements\n",
    "\n",
    "\n",
    "def get_positional_grid_1d(width, height, elements):\n",
    "    elements_abs = list()\n",
    "    for el in elements:\n",
    "        x_start = el[\"pos\"][0] * width\n",
    "        y_start = el[\"pos\"][1] * height\n",
    "        x_end = x_start + el[\"pos\"][2] * width\n",
    "        y_end = y_start + el[\"pos\"][3] * height\n",
    "        elements_abs.append({\"id\": el[\"id\"], \"pos\": (x_start, y_start, x_end, y_end)})\n",
    "    return elements_abs"
   ]
  },
  {
   "cell_type": "code",
   "execution_count": null,
   "metadata": {},
   "outputs": [],
   "source": [
    "GRID_X_SPLITS = 5\n",
    "GRID_Y_SPLITS = 5\n",
    "\n",
    "grid = generate_positional_grid_1d(GRID_X_SPLITS, GRID_Y_SPLITS)\n",
    "grid[:2]"
   ]
  },
  {
   "cell_type": "code",
   "execution_count": null,
   "metadata": {},
   "outputs": [],
   "source": [
    "position_elements = get_positional_grid_1d(img_meta[\"width\"], img_meta[\"height\"], grid)\n",
    "position_elements[:5]"
   ]
  },
  {
   "cell_type": "code",
   "execution_count": null,
   "metadata": {},
   "outputs": [],
   "source": [
    "position_converter = {el[\"id\"]: el[\"pos\"] for el in position_elements}"
   ]
  },
  {
   "cell_type": "code",
   "execution_count": null,
   "metadata": {},
   "outputs": [],
   "source": [
    "Up = {el[\"id\"] for el in position_elements}"
   ]
  },
  {
   "cell_type": "markdown",
   "metadata": {},
   "source": [
    "Show the positional element along with the initial image:"
   ]
  },
  {
   "cell_type": "code",
   "execution_count": null,
   "metadata": {},
   "outputs": [],
   "source": [
    "def show_positional_grid(I, elements, position_converter):\n",
    "    pos_el_rects = list()\n",
    "    pos_el_texts = list()\n",
    "    fig, ax = plt.subplots(1) #, figsize=(15,15))\n",
    "    ax.imshow(I)\n",
    "    for el in elements:\n",
    "        pos = position_converter[el]\n",
    "        left, width = pos[0], pos[2]-pos[0]\n",
    "        bottom, height = pos[1], pos[3]-pos[1]\n",
    "        right = left + width\n",
    "        top = bottom + height\n",
    "        ax.add_patch(Rectangle(xy=(left, bottom), width=width, height=height, fill=False, \n",
    "                                      label=el, edgecolor=\"red\", linewidth=2))\n",
    "        ax.text(0.5*(left+right), 0.5*(bottom+top), el, \n",
    "                horizontalalignment=\"center\", verticalalignment=\"center\", fontsize=15, color=\"red\")\n",
    "    plt.show()"
   ]
  },
  {
   "cell_type": "code",
   "execution_count": null,
   "metadata": {},
   "outputs": [],
   "source": [
    "show_positional_grid(I, Up, position_converter)"
   ]
  },
  {
   "cell_type": "markdown",
   "metadata": {},
   "source": [
    "### Position Mask"
   ]
  },
  {
   "cell_type": "code",
   "execution_count": null,
   "metadata": {},
   "outputs": [],
   "source": [
    "def create_position_mask(width, height, position_elements):\n",
    "    pos_mask = np.zeros((height, width), dtype=np.object) #dtype=np.int)\n",
    "    # pos_mask = np.chararray((img_meta[\"height\"], img_meta[\"width\"]))\n",
    "    for pos in position_elements:\n",
    "        start = [int(pos[\"pos\"][1]), int(pos[\"pos\"][0])]\n",
    "        end = [int(pos[\"pos\"][3]), int(pos[\"pos\"][2])]\n",
    "        r, c = draw.rectangle(start, end=end, shape=pos_mask.shape)\n",
    "        r.dtype = c.dtype = np.int\n",
    "        pos_mask[r, c] = pos[\"id\"] # int(pos[\"id\"].strip(\"e\"))\n",
    "    return pos_mask"
   ]
  },
  {
   "cell_type": "code",
   "execution_count": null,
   "metadata": {},
   "outputs": [],
   "source": [
    "pos_mask = create_position_mask(img_meta[\"width\"], img_meta[\"height\"], position_elements)\n",
    "pos_mask"
   ]
  },
  {
   "cell_type": "code",
   "execution_count": null,
   "metadata": {},
   "outputs": [],
   "source": [
    "convpos2int = np.vectorize(lambda x: int(x.strip(\"e\")))\n",
    "plt.imshow(convpos2int(pos_mask))\n",
    "plt.show()"
   ]
  },
  {
   "cell_type": "markdown",
   "metadata": {},
   "source": [
    "### High-Level Elements"
   ]
  },
  {
   "cell_type": "code",
   "execution_count": null,
   "metadata": {},
   "outputs": [],
   "source": [
    "parser = Parser()"
   ]
  },
  {
   "cell_type": "code",
   "execution_count": null,
   "metadata": {},
   "outputs": [],
   "source": [
    "Ep_center = E(\"e7+e8+e9+e12+e13+e14+e17+e18+e19\")\n",
    "Ep_center_set = parser.parse_set(Ep_center.value)\n",
    "Ep_center_set"
   ]
  },
  {
   "cell_type": "code",
   "execution_count": null,
   "metadata": {},
   "outputs": [],
   "source": [
    "# Definition of high-level positional elements\n",
    "\n",
    "Ep_top = E(\"e1+e2+e3+e4+e5+e6+e7+e8+e9+e10\")\n",
    "Ep_bottom = E(\"e16+e17+e18+e19+e20+e21+e22+e23+e24+e25\")\n",
    "Ep_left = E(\"e1+e2+e6+e7+e11+e12+e16+e17+e21+e22\")\n",
    "Ep_right = E(\"e4+e5+e9+e10+e14+e15+e19+e20+e24+e25\")\n",
    "Ep_center = E(\"e7+e8+e9+e12+e13+e14+e17+e18+e19\")\n",
    "\n",
    "Eps = [(\"top\", Ep_top), (\"bottom\", Ep_bottom), (\"left\", Ep_left), (\"right\", Ep_right), (\"center\", Ep_center)]\n",
    "\n",
    "\n",
    "# Sets of high-level positional elements (they will be used for the Evaluator below)\n",
    "\n",
    "Eps_set = { name: parser.parse_set(Ep.value) for name, Ep in Eps}\n",
    "Eps_set[\"center\"]"
   ]
  },
  {
   "cell_type": "markdown",
   "metadata": {},
   "source": [
    "Show a grid of the high-level element along with the initial image:"
   ]
  },
  {
   "cell_type": "code",
   "execution_count": null,
   "metadata": {
    "scrolled": true
   },
   "outputs": [],
   "source": [
    "show_positional_grid(I, Eps_set[\"center\"], position_converter)"
   ]
  },
  {
   "cell_type": "markdown",
   "metadata": {},
   "source": [
    "Show the high-level element based in the position mask:"
   ]
  },
  {
   "cell_type": "code",
   "execution_count": null,
   "metadata": {},
   "outputs": [],
   "source": [
    "def show_positional_elements(I, pos_mask, elements):\n",
    "    mask = np.full((I.shape[0], I.shape[1], 3), fill_value=0, dtype=np.int)\n",
    "    \n",
    "    for x in range(I.shape[1]):\n",
    "        for y in range(I.shape[0]):\n",
    "            if pos_mask[y,x] in elements:\n",
    "                mask[y,x] = I[y,x]\n",
    "    \n",
    "    fig, ax = plt.subplots(1) #, figsize=(15,15))\n",
    "    ax.imshow(I)\n",
    "    ax.imshow(mask, alpha=0.5)\n",
    "    plt.show()"
   ]
  },
  {
   "cell_type": "code",
   "execution_count": null,
   "metadata": {},
   "outputs": [],
   "source": [
    "show_positional_elements(I, pos_mask, Eps_set[\"center\"])"
   ]
  },
  {
   "cell_type": "markdown",
   "metadata": {},
   "source": [
    "## Defining Object Elements"
   ]
  },
  {
   "cell_type": "markdown",
   "metadata": {},
   "source": [
    "### Basic Elements"
   ]
  },
  {
   "cell_type": "code",
   "execution_count": null,
   "metadata": {},
   "outputs": [],
   "source": [
    "cats[:2]"
   ]
  },
  {
   "cell_type": "code",
   "execution_count": null,
   "metadata": {},
   "outputs": [],
   "source": [
    "Uo = {str(cat[\"id\"]) for cat in cats}"
   ]
  },
  {
   "cell_type": "markdown",
   "metadata": {},
   "source": [
    "### Object Mask for Image"
   ]
  },
  {
   "cell_type": "code",
   "execution_count": null,
   "metadata": {},
   "outputs": [],
   "source": [
    "def create_object_mask(width, height, img_anns):\n",
    "    obj_mask = np.full((height, width), fill_value=\"null\", dtype=np.object) # fill_value=-1, dtype=np.int)\n",
    "    for i in range(len(img_anns)):\n",
    "        if img_anns[i][\"iscrowd\"] == 0:\n",
    "            seg_ = img_anns[i][\"segmentation\"][0]\n",
    "            poly_ = np.array(seg_).reshape((int(len(seg_)/2), 2))\n",
    "            r, c = draw.polygon(poly_[:,1], poly_[:,0])\n",
    "            obj_mask[r, c] = str(img_anns[i][\"category_id\"])\n",
    "    return obj_mask"
   ]
  },
  {
   "cell_type": "code",
   "execution_count": null,
   "metadata": {},
   "outputs": [],
   "source": [
    "obj_mask = create_object_mask(img_meta[\"width\"], img_meta[\"height\"], img_anns)\n",
    "obj_mask"
   ]
  },
  {
   "cell_type": "code",
   "execution_count": null,
   "metadata": {},
   "outputs": [],
   "source": [
    "convobj2int = np.vectorize(lambda x: int(x.strip(\"null\") if x.strip(\"null\") else 0))\n",
    "plt.imshow(convobj2int(obj_mask))\n",
    "plt.show()"
   ]
  },
  {
   "cell_type": "markdown",
   "metadata": {},
   "source": [
    "### High-Level Elements"
   ]
  },
  {
   "cell_type": "code",
   "execution_count": null,
   "metadata": {},
   "outputs": [],
   "source": [
    "catid_by_name = {cat[\"name\"]: cat[\"id\"] for cat in cats}\n",
    "catid_by_name[\"person\"]"
   ]
  },
  {
   "cell_type": "code",
   "execution_count": null,
   "metadata": {},
   "outputs": [],
   "source": [
    "catname_by_id = {cat[\"id\"]: cat[\"name\"] for cat in cats}\n",
    "catname_by_id[1]"
   ]
  },
  {
   "cell_type": "code",
   "execution_count": null,
   "metadata": {},
   "outputs": [],
   "source": [
    "Eo_person = E(str(catid_by_name[\"person\"]))\n",
    "Eo_person_set = parser.parse_set(Eo_person.value)\n",
    "Eo_person_set"
   ]
  },
  {
   "cell_type": "code",
   "execution_count": null,
   "metadata": {},
   "outputs": [],
   "source": [
    "Eos_set = {cat[\"name\"]: parser.parse_set(E(str(cat[\"id\"])).value) for cat in cats}\n",
    "Eos_set[\"person\"]"
   ]
  },
  {
   "cell_type": "code",
   "execution_count": null,
   "metadata": {},
   "outputs": [],
   "source": [
    "Eo_pet = E(\"{}+{}\".format(catid_by_name[\"dog\"], catid_by_name[\"cat\"])) \n",
    "Eo_pet_set = parser.parse_set(Eo_pet.value)\n",
    "Eo_pet_set"
   ]
  },
  {
   "cell_type": "code",
   "execution_count": null,
   "metadata": {},
   "outputs": [],
   "source": [
    "Eos_set.update({\"pet\": Eo_pet_set})\n",
    "Eos_set[\"pet\"]"
   ]
  },
  {
   "cell_type": "markdown",
   "metadata": {},
   "source": [
    "Show a high-level element along with the initial image:"
   ]
  },
  {
   "cell_type": "code",
   "execution_count": null,
   "metadata": {},
   "outputs": [],
   "source": [
    "def show_object_segment(I, elements, image_objects):\n",
    "    seg_polys = list()\n",
    "    poly_colors = list()\n",
    "    for seg in image_objects:\n",
    "        if str(seg[\"category_id\"]) in elements:\n",
    "            seg_ = seg[\"segmentation\"][0]\n",
    "            poly_colors.append((np.random.random((1, 3))*0.5+0.5).tolist()[0])\n",
    "            seg_polys.append(Polygon(np.array(seg_).reshape((int(len(seg_)/2), 2)), fill=False))\n",
    "    fig, ax = plt.subplots(1) #, figsize=(15,15))\n",
    "    ax.imshow(I)\n",
    "    p_objs = PatchCollection(seg_polys, facecolor=poly_colors, edgecolor=poly_colors, alpha=0.6, linewidths=2)\n",
    "    ax.add_collection(p_objs)\n",
    "    plt.show()"
   ]
  },
  {
   "cell_type": "code",
   "execution_count": null,
   "metadata": {},
   "outputs": [],
   "source": [
    "img_anns_id = coco.getAnnIds(imgIds=IMAGE_ID, iscrowd=None)\n",
    "img_anns = coco.loadAnns(img_anns_id)"
   ]
  },
  {
   "cell_type": "code",
   "execution_count": null,
   "metadata": {},
   "outputs": [],
   "source": [
    "show_object_segment(I, Eos_set[\"pet\"], img_anns)"
   ]
  },
  {
   "cell_type": "markdown",
   "metadata": {},
   "source": [
    "Show the high-level element based in the object mask:"
   ]
  },
  {
   "cell_type": "code",
   "execution_count": null,
   "metadata": {},
   "outputs": [],
   "source": [
    "def show_object_elements(I, obj_mask, elements):\n",
    "    mask = np.full((I.shape[0], I.shape[1], 3), fill_value=0, dtype=np.int)\n",
    "    colors = {el: np.random.randint(0, 255, 3) for el in elements}\n",
    "    for x in range(I.shape[1]):\n",
    "        for y in range(I.shape[0]):\n",
    "            if obj_mask[y,x] in elements:\n",
    "                mask[y,x] = colors[obj_mask[y,x]] #(0,255,156) #colors[obj_mask[y,x]]\n",
    "    \n",
    "    fig, ax = plt.subplots(1) #, figsize=(15,15))\n",
    "    ax.imshow(I)\n",
    "    ax.imshow(mask, alpha=0.5)\n",
    "    plt.show()"
   ]
  },
  {
   "cell_type": "code",
   "execution_count": null,
   "metadata": {},
   "outputs": [],
   "source": [
    "show_object_elements(I, obj_mask, Eos_set[\"pet\"])"
   ]
  },
  {
   "cell_type": "markdown",
   "metadata": {},
   "source": [
    "## Creating Histogram"
   ]
  },
  {
   "cell_type": "code",
   "execution_count": null,
   "metadata": {},
   "outputs": [],
   "source": [
    "def create_histogram(width, height, pos_mask, obj_mask):\n",
    "    hist = Histogram1D(data=None)\n",
    "    for x in range(width):\n",
    "        for y in range(height):\n",
    "            if obj_mask[y, x] != \"null\": # if obj_mask[y, x] > 0:\n",
    "                el_id = (pos_mask[y, x], obj_mask[y, x])\n",
    "                if el_id not in hist:\n",
    "                    hist[el_id] = HElement(el_id, 0)\n",
    "                hist[el_id].value += 1\n",
    "    hist.normalize(width * height)\n",
    "    return hist"
   ]
  },
  {
   "cell_type": "code",
   "execution_count": null,
   "metadata": {},
   "outputs": [],
   "source": [
    "hist = create_histogram(img_meta[\"width\"], img_meta[\"height\"], pos_mask, obj_mask)\n",
    "hist.to_dict()"
   ]
  },
  {
   "cell_type": "markdown",
   "metadata": {},
   "source": [
    "## Querying"
   ]
  },
  {
   "cell_type": "code",
   "execution_count": null,
   "metadata": {},
   "outputs": [],
   "source": [
    "high_level_elements = {\n",
    "    0: Eps_set, # positions\n",
    "    1: Eos_set  # objects\n",
    "}"
   ]
  },
  {
   "cell_type": "code",
   "execution_count": null,
   "metadata": {},
   "outputs": [],
   "source": [
    "evaluator = Evaluator(operations, hist, high_level_elements=high_level_elements)"
   ]
  },
  {
   "cell_type": "code",
   "execution_count": null,
   "metadata": {},
   "outputs": [],
   "source": [
    "POS1 = \"center\"\n",
    "OBJ1 = \"person\"\n",
    "\n",
    "POS2 = \"left\"\n",
    "OBJ2 = \"dog\""
   ]
  },
  {
   "cell_type": "code",
   "execution_count": null,
   "metadata": {},
   "outputs": [],
   "source": [
    "E1 = E(POS1, OBJ1)\n",
    "E2 = E(POS2, OBJ2)"
   ]
  },
  {
   "cell_type": "code",
   "execution_count": null,
   "metadata": {},
   "outputs": [],
   "source": [
    "E1_expr = parser.parse_string(E1.value)\n",
    "HE1 = evaluator.eval(E1_expr)\n",
    "print(\"Expression for E1:\\n{}\".format(E1.value))\n",
    "print(\"\\nThe parsed expressino for E1 in the postfix notation:\\n{}\".format(E1_expr))\n",
    "print(\"\\nHistogram of E1 given the image:\\n{}\".format(HE1.to_dict()))\n",
    "print(\"\\nValue of presence for E1:\\n{}\".format(HE1.sum()))"
   ]
  },
  {
   "cell_type": "code",
   "execution_count": null,
   "metadata": {},
   "outputs": [],
   "source": [
    "def show_elements(I, pos_mask, obj_mask, pos_elements, obj_elements, title=None):\n",
    "    mask = np.full((I.shape[0], I.shape[1], 3), fill_value=0, dtype=np.int)\n",
    "    colors = {el: np.random.randint(0, 255, 3) for el in obj_elements}\n",
    "    for x in range(I.shape[1]):\n",
    "        for y in range(I.shape[0]):\n",
    "            if pos_mask[y,x] in pos_elements:\n",
    "                mask[y,x] = I[y,x]\n",
    "                if obj_mask[y,x] in obj_elements:\n",
    "                    mask[y,x] = colors[obj_mask[y,x]]\n",
    "    \n",
    "    fig, ax = plt.subplots(1)\n",
    "    if title:\n",
    "        fig.suptitle(title)\n",
    "    ax.imshow(I)\n",
    "    ax.imshow(mask, alpha=0.5)\n",
    "    plt.show()\n",
    "\n",
    "    \n",
    "def show_elements_by_HE(I, pos_mask, obj_mask, HE, title=None):\n",
    "    mask = np.full((I.shape[0], I.shape[1], 3), fill_value=0, dtype=np.int)\n",
    "    elements = HE.to_dict().keys()\n",
    "    pos_elements = {el[0] for el in elements}\n",
    "    obj_elements = {el[1] for el in elements}\n",
    "    colors = {el: np.random.randint(0, 255, 3) for el in obj_elements}\n",
    "        \n",
    "    for x in range(I.shape[1]):\n",
    "        for y in range(I.shape[0]):\n",
    "            if pos_mask[y,x] in pos_elements:\n",
    "                mask[y,x] = I[y,x]\n",
    "            if (pos_mask[y,x], obj_mask[y,x]) in elements:\n",
    "                mask[y,x] = colors[obj_mask[y,x]]\n",
    "    \n",
    "    fig, ax = plt.subplots(1)\n",
    "    if title:\n",
    "        fig.suptitle(title)\n",
    "    ax.imshow(I)\n",
    "    ax.imshow(mask, alpha=0.5)\n",
    "    plt.show()"
   ]
  },
  {
   "cell_type": "code",
   "execution_count": null,
   "metadata": {},
   "outputs": [],
   "source": [
    "show_elements(I, pos_mask, obj_mask, Eps_set[POS1], Eos_set[OBJ1], title=\"E1\")"
   ]
  },
  {
   "cell_type": "code",
   "execution_count": null,
   "metadata": {},
   "outputs": [],
   "source": [
    "show_elements_by_HE(I, pos_mask, obj_mask, HE1, title=\"E1\")"
   ]
  },
  {
   "cell_type": "code",
   "execution_count": null,
   "metadata": {},
   "outputs": [],
   "source": [
    "E2_expr = parser.parse_string(E2.value)\n",
    "HE2 = evaluator.eval(E2_expr)\n",
    "print(\"Expression for E2:\\n{}\".format(E2.value))\n",
    "print(\"\\nThe parsed expressino for E2 in the postfix notation:\\n{}\".format(E2_expr))\n",
    "print(\"\\nHistogram of E2 given the image:\\n{}\".format(HE2.to_dict()))\n",
    "print(\"\\nValue of presence for E2:\\n{}\".format(HE2.sum()))"
   ]
  },
  {
   "cell_type": "code",
   "execution_count": null,
   "metadata": {},
   "outputs": [],
   "source": [
    "show_elements(I, pos_mask, obj_mask, Eps_set[POS2], Eos_set[OBJ2], title=\"E2\")"
   ]
  },
  {
   "cell_type": "code",
   "execution_count": null,
   "metadata": {},
   "outputs": [],
   "source": [
    "show_elements_by_HE(I, pos_mask, obj_mask, HE2, title=\"E2\")"
   ]
  },
  {
   "cell_type": "markdown",
   "metadata": {},
   "source": [
    "### Set Operations"
   ]
  },
  {
   "cell_type": "markdown",
   "metadata": {},
   "source": [
    "#### UNION"
   ]
  },
  {
   "cell_type": "code",
   "execution_count": null,
   "metadata": {},
   "outputs": [],
   "source": [
    "E_union = E1 + E2\n",
    "E_union_expr = parser.parse_string(E_union.value)\n",
    "HE_union = evaluator.eval(E_union_expr)\n",
    "\n",
    "print(\"Expression for E_union:\\n{}\".format(E_union))\n",
    "print(\"\\nThe parsed expression for E_union in the postfix notation:\\n{}\".format(E_union_expr))\n",
    "print(\"\\nHistogram of E_union given the image:\\n{}\".format(HE_union.to_dict()))\n",
    "print(\"\\nValue of presence for E_union:\\n{}\".format(HE_union.sum()))"
   ]
  },
  {
   "cell_type": "code",
   "execution_count": null,
   "metadata": {},
   "outputs": [],
   "source": [
    "show_elements_by_HE(I, pos_mask, obj_mask, HE_union, title=\"E_union\")"
   ]
  },
  {
   "cell_type": "markdown",
   "metadata": {},
   "source": [
    "#### INTERSECTION"
   ]
  },
  {
   "cell_type": "code",
   "execution_count": null,
   "metadata": {},
   "outputs": [],
   "source": [
    "E_intersect = E1 * E2  # or E1.Intersection(E2)\n",
    "E_intersect_expr = parser.parse_string(E_intersect.value)\n",
    "HE_intersect = evaluator.eval(E_intersect_expr)\n",
    "\n",
    "print(\"Expression for E_intersect:\\n{}\".format(E_intersect))\n",
    "print(\"\\nThe parsed expression for E_intersect in the postfix notation:\\n{}\".format(E_intersect_expr))\n",
    "print(\"\\nHistogram of E_intersect given the image:\\n{}\".format(HE_intersect.to_dict()))\n",
    "print(\"\\nValue of presence for E_intersect:\\n{}\".format(HE_intersect.sum()))"
   ]
  },
  {
   "cell_type": "code",
   "execution_count": null,
   "metadata": {},
   "outputs": [],
   "source": [
    "show_elements_by_HE(I, pos_mask, obj_mask, HE_intersect, title=\"E_intersect\")"
   ]
  },
  {
   "cell_type": "markdown",
   "metadata": {},
   "source": [
    "#### SUBSTRACTION or EXCEPTION"
   ]
  },
  {
   "cell_type": "code",
   "execution_count": null,
   "metadata": {},
   "outputs": [],
   "source": [
    "E_sub = E1 - E2  # or E1.Sub(E2)\n",
    "E_sub_expr = parser.parse_string(E_sub.value)\n",
    "HE_sub = evaluator.eval(E_sub_expr)\n",
    "\n",
    "print(\"Expression for E_sub:\\n{}\".format(E_sub))\n",
    "print(\"\\nThe parsed expression for E_sub in the postfix notation:\\n{}\".format(E_sub_expr))\n",
    "print(\"\\nHistogram of E_sub given the image:\\n{}\".format(HE_sub.to_dict()))\n",
    "print(\"\\nValue of presence for E_sub:\\n{}\".format(HE_sub.sum()))"
   ]
  },
  {
   "cell_type": "code",
   "execution_count": null,
   "metadata": {},
   "outputs": [],
   "source": [
    "show_elements_by_HE(I, pos_mask, obj_mask, HE_sub, title=\"E_sub\")"
   ]
  },
  {
   "cell_type": "markdown",
   "metadata": {},
   "source": [
    "### Logical Operations"
   ]
  },
  {
   "cell_type": "markdown",
   "metadata": {},
   "source": [
    "#### AND"
   ]
  },
  {
   "cell_type": "code",
   "execution_count": null,
   "metadata": {},
   "outputs": [],
   "source": [
    "E_and = E1 & E2  # or E1.And(E2)\n",
    "E_and_expr = parser.parse_string(E_and.value)\n",
    "HE_and = evaluator.eval(E_and_expr)\n",
    "\n",
    "print(\"Expression for E_and:\\n{}\".format(E_and))\n",
    "print(\"\\nThe parsed expression for E_and in the postfix notation:\\n{}\".format(E_and_expr))\n",
    "print(\"\\nHistogram of E_and given the image:\\n{}\".format(HE_and.to_dict()))\n",
    "print(\"\\nValue of presence for E_and:\\n{}\".format(HE_and.sum()))"
   ]
  },
  {
   "cell_type": "code",
   "execution_count": null,
   "metadata": {},
   "outputs": [],
   "source": [
    "show_elements_by_HE(I, pos_mask, obj_mask, HE_and, title=\"E_and\")"
   ]
  },
  {
   "cell_type": "markdown",
   "metadata": {},
   "source": [
    "#### OR"
   ]
  },
  {
   "cell_type": "code",
   "execution_count": null,
   "metadata": {},
   "outputs": [],
   "source": [
    "E_or = E1 | E2  # or E1.Or(E2)\n",
    "E_or_expr = parser.parse_string(E_or.value)\n",
    "HE_or = evaluator.eval(E_or_expr)\n",
    "\n",
    "print(\"Expression for E_or:\\n{}\".format(E_or))\n",
    "print(\"\\nThe parsed expression for E_or in the postfix notation:\\n{}\".format(E_or_expr))\n",
    "print(\"\\nHistogram of E_or given the image:\\n{}\".format(HE_or.to_dict()))\n",
    "print(\"\\nValue of presence for E_or:\\n{}\".format(HE_or.sum()))"
   ]
  },
  {
   "cell_type": "code",
   "execution_count": null,
   "metadata": {},
   "outputs": [],
   "source": [
    "show_elements_by_HE(I, pos_mask, obj_mask, HE_or, title=\"E_or\")"
   ]
  },
  {
   "cell_type": "markdown",
   "metadata": {},
   "source": [
    "#### XOR"
   ]
  },
  {
   "cell_type": "code",
   "execution_count": null,
   "metadata": {},
   "outputs": [],
   "source": [
    "E_xor = E1 ^ E2  # or E1.Xor(E2)\n",
    "E_xor_expr = parser.parse_string(E_xor.value)\n",
    "HE_xor = evaluator.eval(E_xor_expr)\n",
    "\n",
    "print(\"Expression for E_xor:\\n{}\".format(E_xor))\n",
    "print(\"\\nThe parsed expression for E_xor in the postfix notation:\\n{}\".format(E_xor_expr))\n",
    "print(\"\\nHistogram of E_xor given the image:\\n{}\".format(HE_xor.to_dict()))\n",
    "print(\"\\nValue of presence for E_xor:\\n{}\".format(HE_xor.sum()))"
   ]
  },
  {
   "cell_type": "code",
   "execution_count": null,
   "metadata": {},
   "outputs": [],
   "source": [
    "show_elements_by_HE(I, pos_mask, obj_mask, HE_xor, title=\"E_xor\")"
   ]
  },
  {
   "cell_type": "markdown",
   "metadata": {},
   "source": [
    "#### XSUBSTRACTION"
   ]
  },
  {
   "cell_type": "code",
   "execution_count": null,
   "metadata": {},
   "outputs": [],
   "source": [
    "# TODO"
   ]
  },
  {
   "cell_type": "markdown",
   "metadata": {},
   "source": [
    "## Image Retrieval"
   ]
  },
  {
   "cell_type": "markdown",
   "metadata": {},
   "source": [
    "Serialize the historgram objects:"
   ]
  },
  {
   "cell_type": "code",
   "execution_count": null,
   "metadata": {},
   "outputs": [],
   "source": [
    "# import time\n",
    "\n",
    "# LIMIT = 5000\n",
    "\n",
    "# start_tick = time.time()\n",
    "# hists = list()\n",
    "\n",
    "# for indx, (img_id, img_meta) in enumerate(coco.imgs.items()):\n",
    "#     if indx == LIMIT:\n",
    "#         break\n",
    "#     img_anns = coco.imgToAnns[img_id]\n",
    "#     pos_mask = create_position_mask(img_meta[\"width\"], img_meta[\"height\"], position_elements)\n",
    "#     obj_mask = create_object_mask(img_meta[\"width\"], img_meta[\"height\"], img_anns)\n",
    "#     hist = create_histogram(img_meta[\"width\"], img_meta[\"height\"], pos_mask, obj_mask)\n",
    "#     hists.append((img_id, hist))\n",
    "#     if indx % 100 == 0:\n",
    "#         print(\"Current image index: {}\".format(indx))\n",
    "\n",
    "# delta_tick = time.time() - start_tick\n",
    "# print(\"Total time: {}s\".format(delta_tick))\n",
    "# print(\"Time per image: {}s\".format(delta_tick / LIMIT))\n",
    "\n",
    "# with open(\"imagehist.pickle\", \"wb\") as f:\n",
    "#     import pickle\n",
    "#     pickle.dump(hists, f, pickle.HIGHEST_PROTOCOL)"
   ]
  },
  {
   "cell_type": "markdown",
   "metadata": {},
   "source": [
    "Deserialize the histogram of images:"
   ]
  },
  {
   "cell_type": "code",
   "execution_count": null,
   "metadata": {},
   "outputs": [],
   "source": [
    "with open(\"imagehist.pickle\", \"rb\") as f:\n",
    "    import pickle\n",
    "    hists = pickle.load(f)"
   ]
  },
  {
   "cell_type": "markdown",
   "metadata": {},
   "source": [
    "Define your query:"
   ]
  },
  {
   "cell_type": "code",
   "execution_count": null,
   "metadata": {},
   "outputs": [],
   "source": [
    "query = E(\"left\", \"dog\") & E(\"center\", \"person\")"
   ]
  },
  {
   "cell_type": "markdown",
   "metadata": {},
   "source": [
    "Retrieve images using the query:"
   ]
  },
  {
   "cell_type": "code",
   "execution_count": null,
   "metadata": {},
   "outputs": [],
   "source": [
    "def retrieve(query, hists, topN=10, lastN=None, threshold=0.001):\n",
    "    expr = parser.parse_string(query.value)\n",
    "    HEs = [(img_id, evaluator.eval(expr, hist)) for img_id, hist in hists] \n",
    "    img_rank = sorted([(img_id, HE.sum()) for img_id, HE in HEs if HE.sum() > threshold], key=lambda x: -x[1])\n",
    "    if isinstance(lastN, int):\n",
    "        return img_rank[:topN], img_rank[-lastN:]\n",
    "    return img_rank[:topN]\n",
    "\n",
    "\n",
    "IMAGE_LIMIT = 11\n",
    "IMAGE_CLMNS = 5\n",
    "\n",
    "\n",
    "def show_retrieved_images(img_rank, img_paths, limit=None):\n",
    "    \n",
    "    img_limit = len(img_rank) if IMAGE_LIMIT > len(img_rank) else IMAGE_LIMIT\n",
    "    if limit:\n",
    "        img_limit = limit\n",
    "    row_num = -(-img_limit // IMAGE_CLMNS)\n",
    "\n",
    "    fig, axs = plt.subplots(row_num, IMAGE_CLMNS, figsize=(15, 4*row_num), squeeze=False)\n",
    "\n",
    "    for i in range(row_num):\n",
    "        for j in range(IMAGE_CLMNS):\n",
    "            indx = i*IMAGE_CLMNS + j\n",
    "            if indx >= img_limit:\n",
    "                fig.delaxes(axs[i,j])\n",
    "            else:\n",
    "                I = io.imread(img_paths[indx])\n",
    "                axs[i,j].imshow(I)\n",
    "                axs[i,j].set_title(\"rank={}\\nid={}\\nscore={:0.4f}\".format(indx+1, \n",
    "                                                                          img_rank[indx][0], \n",
    "                                                                          img_rank[indx][1]))\n",
    "    plt.tight_layout()\n",
    "    plt.show()"
   ]
  },
  {
   "cell_type": "code",
   "execution_count": null,
   "metadata": {},
   "outputs": [],
   "source": [
    "TOP_N = 20"
   ]
  },
  {
   "cell_type": "code",
   "execution_count": null,
   "metadata": {},
   "outputs": [],
   "source": [
    "img_rank = retrieve(query, hists, topN=TOP_N)\n",
    "img_rank"
   ]
  },
  {
   "cell_type": "markdown",
   "metadata": {},
   "source": [
    "Show the retrieved images:"
   ]
  },
  {
   "cell_type": "code",
   "execution_count": null,
   "metadata": {},
   "outputs": [],
   "source": [
    "img_paths = [\"{}/{}\".format(IMAGE_PATH, coco.imgs[img_meta_[0]][\"file_name\"]) for img_meta_ in img_rank]\n",
    "img_paths[:1]"
   ]
  },
  {
   "cell_type": "code",
   "execution_count": null,
   "metadata": {},
   "outputs": [],
   "source": [
    "show_retrieved_images(img_rank, img_paths, limit=TOP_N)"
   ]
  },
  {
   "cell_type": "markdown",
   "metadata": {},
   "source": [
    "## References\n",
    "\n",
    "- [COCO (Dataset): Common Objects in Context](http://cocodataset.org)"
   ]
  },
  {
   "cell_type": "code",
   "execution_count": null,
   "metadata": {},
   "outputs": [],
   "source": []
  }
 ],
 "metadata": {
  "kernelspec": {
   "display_name": "Python 3",
   "language": "python",
   "name": "python3"
  },
  "language_info": {
   "codemirror_mode": {
    "name": "ipython",
    "version": 3
   },
   "file_extension": ".py",
   "mimetype": "text/x-python",
   "name": "python",
   "nbconvert_exporter": "python",
   "pygments_lexer": "ipython3",
   "version": "3.5.2"
  }
 },
 "nbformat": 4,
 "nbformat_minor": 2
}
