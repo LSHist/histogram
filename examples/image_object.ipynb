{
 "cells": [
  {
   "cell_type": "markdown",
   "metadata": {},
   "source": [
    "# Histogram Model for Image Objects\n",
    "----\n",
    "Sergei Papulin (papulin.edu@gmail.com)"
   ]
  },
  {
   "cell_type": "markdown",
   "metadata": {},
   "source": [
    "## Contents\n",
    "\n",
    "- [Loading Dataset](#Loading-Dataset)\n",
    "- [Defining Positional Elements](#Defining-Positional-Elements)\n",
    "- [Defining Object Elements](#Defining-Object-Elements)\n",
    "- [Creating Histogram](#Creating-Histogram)\n",
    "- [Querying](#Querying)\n",
    "- [Image Retrieval](#Image-Retrieval)\n",
    "- [References](#References)"
   ]
  },
  {
   "cell_type": "markdown",
   "metadata": {},
   "source": [
    "### Creating virtual environment"
   ]
  },
  {
   "cell_type": "markdown",
   "metadata": {},
   "source": [
    "This is an optional step. You can skip it and install packages to your current environment.\n",
    "\n",
    "```bash\n",
    "python -m venv .venv/histtest\n",
    "source .venv/histtest/bin/activate\n",
    "pip install \\\n",
    "    numpy==1.19.5 \\\n",
    "    matplotlib==3.0.3 \\\n",
    "    jupyter==1.0.0 \\\n",
    "    pillow==5.4.1 \\\n",
    "    scikit-image==0.14.2 \\\n",
    "    pycocotools==2.0.3 \\\n",
    "    himpy=0.0.1\n",
    "```"
   ]
  },
  {
   "cell_type": "markdown",
   "metadata": {},
   "source": [
    "### Loading packages"
   ]
  },
  {
   "cell_type": "code",
   "execution_count": null,
   "metadata": {},
   "outputs": [],
   "source": [
    "import os\n",
    "import numpy as np\n",
    "\n",
    "import matplotlib.pyplot as plt\n",
    "import matplotlib.image as image_utils\n",
    "from matplotlib.collections import PatchCollection\n",
    "from matplotlib.patches import Polygon, Rectangle\n",
    "%matplotlib inline"
   ]
  },
  {
   "cell_type": "code",
   "execution_count": null,
   "metadata": {},
   "outputs": [],
   "source": [
    "# import skimage.io as io\n",
    "import skimage.draw as draw"
   ]
  },
  {
   "cell_type": "code",
   "execution_count": null,
   "metadata": {},
   "outputs": [],
   "source": [
    "from himpy.histogram import operations\n",
    "from himpy.executor import Parser, Evaluator\n",
    "from himpy.utils import E"
   ]
  },
  {
   "cell_type": "code",
   "execution_count": null,
   "metadata": {},
   "outputs": [],
   "source": [
    "%load_ext autoreload\n",
    "%autoreload 2\n",
    "\n",
    "import sys\n",
    "sys.path.insert(0, \"../\")\n",
    "\n",
    "\n",
    "from utils.datasets import COCOLoader\n",
    "\n",
    "# feature extraction\n",
    "from utils.feature_extraction import (\n",
    "    FeatureMerger,\n",
    "    PositionSetTransformer,\n",
    "    filter_data,\n",
    "    create_histogram,\n",
    "    create_histogram_,\n",
    "    extract_elements,\n",
    "    extract_element_set\n",
    ")\n",
    "\n",
    "from utils.feature_extraction.coco import COCOObjectSetTransformer, load_coco_histograms\n",
    "\n",
    "# search engine\n",
    "from utils.search_engine import SearchEngine\n",
    "\n",
    "# plot\n",
    "from utils.plot.matplotlib_plot import (\n",
    "    plot_position_grid,\n",
    "    plot_object_ids,\n",
    "    show_operation_result,\n",
    "    show_retrieved_images\n",
    ")"
   ]
  },
  {
   "cell_type": "markdown",
   "metadata": {},
   "source": [
    "## Loading Dataset"
   ]
  },
  {
   "cell_type": "markdown",
   "metadata": {},
   "source": [
    "### Downloading Dataset"
   ]
  },
  {
   "cell_type": "markdown",
   "metadata": {},
   "source": [
    "The COCO dataset, [website](http://cocodataset.org):\n",
    "- [images](http://images.cocodataset.org/zips/val2017.zip)\n",
    "- [annotations](http://images.cocodataset.org/annotations/annotations_trainval2017.zip)"
   ]
  },
  {
   "cell_type": "code",
   "execution_count": null,
   "metadata": {},
   "outputs": [],
   "source": [
    "loader = COCOLoader()\n",
    "\n",
    "# Download the datasets\n",
    "coco = loader.fetch_load()"
   ]
  },
  {
   "cell_type": "markdown",
   "metadata": {},
   "source": [
    "### Image and Annotation"
   ]
  },
  {
   "cell_type": "code",
   "execution_count": null,
   "metadata": {},
   "outputs": [],
   "source": [
    "# Id of some image from the dataset\n",
    "IMAGE_ID = 404484"
   ]
  },
  {
   "cell_type": "code",
   "execution_count": null,
   "metadata": {},
   "outputs": [],
   "source": [
    "# Get an image file path\n",
    "image_path = loader.load_path(IMAGE_ID)"
   ]
  },
  {
   "cell_type": "code",
   "execution_count": null,
   "metadata": {},
   "outputs": [],
   "source": [
    "# Plot the image\n",
    "I = image_utils.imread(image_path)\n",
    "plt.imshow(I)\n",
    "plt.title(\"Image\")\n",
    "plt.show()"
   ]
  },
  {
   "cell_type": "markdown",
   "metadata": {},
   "source": [
    "## Defining Positional Elements"
   ]
  },
  {
   "cell_type": "markdown",
   "metadata": {},
   "source": [
    "### Low-Level Elements"
   ]
  },
  {
   "cell_type": "code",
   "execution_count": null,
   "metadata": {},
   "outputs": [],
   "source": [
    "# Grid params: 5 splits along Y, and 5 along X\n",
    "GRID = (5, 5)\n",
    "\n",
    "# Create a position transformer\n",
    "position_transformer = PositionSetTransformer(splits=GRID, element_ndim=3)\n",
    "\n",
    "# Set an image size\n",
    "position_transformer.fit(X=I, y=None)\n",
    "\n",
    "# Build an image in which each pixel defines a position\n",
    "position_image = position_transformer.transform(X=I)"
   ]
  },
  {
   "cell_type": "code",
   "execution_count": null,
   "metadata": {},
   "outputs": [],
   "source": [
    "# Plot the positional element along with the initial image\n",
    "fig, axes = plt.subplots(1, 3, figsize=(14,20))\n",
    "axes[0].set_title(\"Initial Image\")\n",
    "axes[0].imshow(I)\n",
    "axes[0].axis(\"off\")\n",
    "axes[1].set_title(\"Low-level position elements\")\n",
    "axes[1].imshow(position_image)\n",
    "axes[1] = plot_position_grid(position_transformer, axes[1])\n",
    "axes[1].axis(\"off\")\n",
    "axes[2].set_title(\"Matching image and elements\")\n",
    "axes[2].imshow(I)\n",
    "axes[2] = plot_position_grid(position_transformer, axes[2])\n",
    "axes[2].axis(\"off\")\n",
    "plt.show()"
   ]
  },
  {
   "cell_type": "markdown",
   "metadata": {},
   "source": [
    "### High-Level Elements"
   ]
  },
  {
   "cell_type": "code",
   "execution_count": null,
   "metadata": {},
   "outputs": [],
   "source": [
    "# Create an instance of query parser\n",
    "parser = Parser()"
   ]
  },
  {
   "cell_type": "code",
   "execution_count": null,
   "metadata": {},
   "outputs": [],
   "source": [
    "# Definition of high-level positional elements\n",
    "\n",
    "Ep_top    = E(\"1+2+3+4+5+6+7+8+9+10\")\n",
    "Ep_bottom = E(\"16+17+18+19+20+21+22+23+24+25\")\n",
    "Ep_left   = E(\"1+2+6+7+11+12+16+17+21+22\")\n",
    "Ep_right  = E(\"4+5+9+10+14+15+19+20+24+25\")\n",
    "Ep_center = E(\"7+8+9+12+13+14+17+18+19\")\n",
    "\n",
    "Eps = [\n",
    "    (\"top\", Ep_top), \n",
    "    (\"bottom\", Ep_bottom), \n",
    "    (\"left\", Ep_left), \n",
    "    (\"right\", Ep_right), \n",
    "    (\"center\", Ep_center)\n",
    "]\n",
    "\n",
    "\n",
    "# Sets of high-level positional elements (they will be used for the Evaluator below)\n",
    "\n",
    "Eps_set = { name: parser.parse_set(Ep.value) for name, Ep in Eps}\n",
    "Eps_set[\"center\"]"
   ]
  },
  {
   "cell_type": "code",
   "execution_count": null,
   "metadata": {},
   "outputs": [],
   "source": [
    "# Plot a high-level element\n",
    "Ep_set_ = Eps_set[\"center\"]\n",
    "\n",
    "elements_image = position_transformer.filter_elements(position_image, Ep_set_)\n",
    "filtered_image = position_transformer.filter_data(position_image, I, Ep_set_)\n",
    "\n",
    "fig, axes = plt.subplots(1, 3, figsize=(14,20))\n",
    "axes[0].set_title(\"Initial Image\")\n",
    "axes[0].imshow(I)\n",
    "axes[0].axis(\"off\")\n",
    "axes[1].set_title(\"High-level position elements\")\n",
    "axes[1].imshow(elements_image)\n",
    "axes[1] = plot_position_grid(position_transformer, axes[1], Ep_set_)\n",
    "axes[1].axis(\"off\")\n",
    "axes[2].set_title(\"Matching image and elements\")\n",
    "axes[2].imshow(filtered_image)\n",
    "axes[2] = plot_position_grid(position_transformer, axes[2], Ep_set_)\n",
    "axes[2].get_xaxis().set_visible(False)\n",
    "axes[2].get_yaxis().set_visible(False)\n",
    "\n",
    "plt.show()"
   ]
  },
  {
   "cell_type": "markdown",
   "metadata": {},
   "source": [
    "## Defining Object Elements"
   ]
  },
  {
   "cell_type": "markdown",
   "metadata": {},
   "source": [
    "### Low-Level Elements"
   ]
  },
  {
   "cell_type": "code",
   "execution_count": null,
   "metadata": {},
   "outputs": [],
   "source": [
    "object_names = loader.load_object_names()\n",
    "print(\"Total number of categories: {}\".format(len(object_names)))\n",
    "object_names[:5]"
   ]
  },
  {
   "cell_type": "code",
   "execution_count": null,
   "metadata": {},
   "outputs": [],
   "source": [
    "# Create object transformer\n",
    "object_transformer = COCOObjectSetTransformer(coco)\n",
    "\n",
    "# Build object mask\n",
    "object_image = object_transformer.fit_transform(X=None, y=None, ids=IMAGE_ID)\n",
    "\n",
    "# Mask image based on segments\n",
    "image__object_filtered = object_transformer.filter_data(object_image, I)"
   ]
  },
  {
   "cell_type": "code",
   "execution_count": null,
   "metadata": {},
   "outputs": [],
   "source": [
    "# Plot initial image, object image, and filtered image\n",
    "fig, axes = plt.subplots(1, 3, figsize=(14,20))\n",
    "axes[0].set_title(\"Initial Image\")\n",
    "axes[0].imshow(I)\n",
    "axes[0].axis(\"off\")\n",
    "axes[1].set_title(\"Low-level object elements\")\n",
    "axes[1].imshow(object_image)\n",
    "axes[1] = plot_object_ids(object_image, axes[1])\n",
    "# axes[1] = utils.plot_object_edges(object_transformer, axes[1])\n",
    "axes[1].axis(\"off\")\n",
    "axes[2].set_title(\"Matching image and elements\")\n",
    "axes[2].imshow(I)\n",
    "axes[2].imshow(image__object_filtered, alpha=0.5)\n",
    "axes[2] = plot_object_ids(object_image, axes[2])\n",
    "# axes[2] = utils.plot_object_edges(object_transformer, axes[2])\n",
    "axes[2].axis(\"off\")\n",
    "\n",
    "plt.show()"
   ]
  },
  {
   "cell_type": "code",
   "execution_count": null,
   "metadata": {},
   "outputs": [],
   "source": [
    "object_transformer.get_element_name(extract_elements(object_image))"
   ]
  },
  {
   "cell_type": "markdown",
   "metadata": {},
   "source": [
    "### High-Level Elements"
   ]
  },
  {
   "cell_type": "code",
   "execution_count": null,
   "metadata": {},
   "outputs": [],
   "source": [
    "# Definition of high-level positional elements\n",
    "\n",
    "Eo_living_beings = E(\"1+18\")\n",
    "Eo_person        = E(\"1\")\n",
    "Eo_dog           = E(\"18\")\n",
    "\n",
    "\n",
    "Eos = [\n",
    "    (\"living_beings\", Eo_living_beings),\n",
    "    (\"person\", Eo_person),\n",
    "    (\"dog\", Eo_dog),\n",
    "]\n",
    "\n",
    "\n",
    "# Sets of high-level positional elements (they will be used for the Evaluator below)\n",
    "\n",
    "Eos_set = { name: parser.parse_set(Eo.value) for name, Eo in Eos}\n",
    "Eos_set[\"living_beings\"]"
   ]
  },
  {
   "cell_type": "code",
   "execution_count": null,
   "metadata": {},
   "outputs": [],
   "source": [
    "# Plot a high-level element\n",
    "Eo_set_ = Eos_set[\"living_beings\"]\n",
    "\n",
    "elements_image = object_transformer.filter_elements(object_image, Eo_set_)\n",
    "filtered_image = object_transformer.filter_data(object_image, I, Eo_set_)\n",
    "\n",
    "fig, axes = plt.subplots(1, 3, figsize=(14,20))\n",
    "axes[0].set_title(\"Initial Image\")\n",
    "axes[0].imshow(I)\n",
    "axes[0].axis(\"off\")\n",
    "axes[1].set_title(\"High-level object elements\")\n",
    "axes[1].imshow(elements_image)\n",
    "axes[1] = plot_object_ids(elements_image, axes[1], Eo_set_)\n",
    "# axes[1] = utils.plot_object_edges(object_transformer, axes[1], Eo_set_)\n",
    "axes[1].axis(\"off\")\n",
    "axes[2].set_title(\"Matching image and elements\")\n",
    "axes[2].imshow(I)\n",
    "axes[2].imshow(filtered_image, alpha=0.5)\n",
    "axes[2] = plot_object_ids(elements_image, axes[2], Eo_set_)\n",
    "# axes[2] = utils.plot_object_edges(object_transformer, axes[2], Eo_set_)\n",
    "axes[2].axis(\"off\")\n",
    "\n",
    "plt.show()"
   ]
  },
  {
   "cell_type": "code",
   "execution_count": null,
   "metadata": {},
   "outputs": [],
   "source": [
    "object_transformer.get_element_name(Eos_set[\"living_beings\"])"
   ]
  },
  {
   "cell_type": "markdown",
   "metadata": {},
   "source": [
    "## Creating Histogram"
   ]
  },
  {
   "cell_type": "code",
   "execution_count": null,
   "metadata": {},
   "outputs": [],
   "source": [
    "# Option 1\n",
    "hist = create_histogram((position_image, object_image))\n",
    "hist.to_dict()"
   ]
  },
  {
   "cell_type": "code",
   "execution_count": null,
   "metadata": {},
   "outputs": [],
   "source": [
    "# Option 2.a Merge features into a single image\n",
    "feature_merger = FeatureMerger()\n",
    "merged_image = feature_merger.fit_transform((position_image, object_image))\n",
    "merged_image"
   ]
  },
  {
   "cell_type": "code",
   "execution_count": null,
   "metadata": {},
   "outputs": [],
   "source": [
    "# Option 2.b Create a histogram\n",
    "hist = create_histogram_(merged_image)\n",
    "hist.to_dict()"
   ]
  },
  {
   "cell_type": "markdown",
   "metadata": {},
   "source": [
    "## Querying"
   ]
  },
  {
   "cell_type": "code",
   "execution_count": null,
   "metadata": {},
   "outputs": [],
   "source": [
    "# TODO: \n",
    "# OBJ_COLOR = {str(el[0]): np.random.randint(0, 255, 3) for el in object_names}"
   ]
  },
  {
   "cell_type": "code",
   "execution_count": null,
   "metadata": {},
   "outputs": [],
   "source": [
    "high_level_elements = {\n",
    "    0: Eps_set, # positions\n",
    "    1: Eos_set  # objects\n",
    "}"
   ]
  },
  {
   "cell_type": "code",
   "execution_count": null,
   "metadata": {},
   "outputs": [],
   "source": [
    "evaluator = Evaluator(operations, hist, high_level_elements=high_level_elements)"
   ]
  },
  {
   "cell_type": "code",
   "execution_count": null,
   "metadata": {},
   "outputs": [],
   "source": [
    "POS1 = \"center\"\n",
    "OBJ1 = \"person\"\n",
    "\n",
    "POS2 = \"left\"\n",
    "OBJ2 = \"dog\""
   ]
  },
  {
   "cell_type": "code",
   "execution_count": null,
   "metadata": {},
   "outputs": [],
   "source": [
    "E1 = E(POS1, OBJ1)\n",
    "E2 = E(POS2, OBJ2)"
   ]
  },
  {
   "cell_type": "code",
   "execution_count": null,
   "metadata": {},
   "outputs": [],
   "source": [
    "E1_expr = parser.parse_string(E1.value)\n",
    "HE1 = evaluator.eval(E1_expr)\n",
    "print(\"Expression for E1:\\n{}\".format(E1.value))\n",
    "print(\"\\nThe parsed expressino for E1 in the postfix notation:\\n{}\".format(E1_expr))\n",
    "print(\"\\nHistogram of E1 given the image:\\n{}\".format(HE1.to_dict()))\n",
    "print(\"\\nValue of presence for E1:\\n{}\".format(HE1.sum()))"
   ]
  },
  {
   "cell_type": "code",
   "execution_count": null,
   "metadata": {},
   "outputs": [],
   "source": [
    "E2_expr = parser.parse_string(E2.value)\n",
    "HE2 = evaluator.eval(E2_expr)\n",
    "print(\"Expression for E2:\\n{}\".format(E2.value))\n",
    "print(\"\\nThe parsed expressino for E2 in the postfix notation:\\n{}\".format(E2_expr))\n",
    "print(\"\\nHistogram of E2 given the image:\\n{}\".format(HE2.to_dict()))\n",
    "print(\"\\nValue of presence for E2:\\n{}\".format(HE2.sum()))"
   ]
  },
  {
   "cell_type": "code",
   "execution_count": null,
   "metadata": {},
   "outputs": [],
   "source": [
    "# Plot histogram elements\n",
    "\n",
    "E1_set = extract_element_set(HE1, 2)\n",
    "E2_set = extract_element_set(HE2, 2)\n",
    "\n",
    "E1_image = filter_data(I, merged_image, HE1.elements())\n",
    "E2_image = filter_data(I, merged_image, HE2.elements())\n",
    "\n",
    "fig, axes = plt.subplots(1, 3, figsize=(14,20))\n",
    "axes[0].set_title(\"Initial Image\")\n",
    "axes[0].imshow(I)\n",
    "axes[0].get_xaxis().set_visible(False)\n",
    "axes[0].get_yaxis().set_visible(False)\n",
    "axes[1].set_title(\"E1: {}\".format(E1.value))\n",
    "axes[1].imshow(I)\n",
    "axes[1].imshow(E1_image, alpha=0.8)\n",
    "axes[1] = plot_position_grid(position_transformer, axes[1], E1_set[0])\n",
    "axes[1] = plot_object_ids(elements_image, axes[1],  E1_set[1])\n",
    "axes[1].get_xaxis().set_visible(False)\n",
    "axes[1].get_yaxis().set_visible(False)\n",
    "axes[2].set_title(\"E2: {}\".format(E2.value))\n",
    "axes[2].imshow(I)\n",
    "axes[2].imshow(E2_image, alpha=0.8)\n",
    "axes[2] = plot_position_grid(position_transformer, axes[2], E2_set[0])\n",
    "axes[2] = plot_object_ids(elements_image, axes[2],  E2_set[1])\n",
    "axes[2].get_xaxis().set_visible(False)\n",
    "axes[2].get_yaxis().set_visible(False)\n",
    "\n",
    "plt.show()"
   ]
  },
  {
   "cell_type": "markdown",
   "metadata": {},
   "source": [
    "### Operations on Histogram Elements"
   ]
  },
  {
   "cell_type": "markdown",
   "metadata": {},
   "source": [
    "#### Example for Union"
   ]
  },
  {
   "cell_type": "code",
   "execution_count": null,
   "metadata": {},
   "outputs": [],
   "source": [
    "# Expression with union\n",
    "E_union = E1 + E2\n",
    "\n",
    "# Parsed expression\n",
    "E_union_expr = parser.parse_string(E_union.value)\n",
    "\n",
    "# Calculate histogram value\n",
    "HE_union = evaluator.eval(E_union_expr)\n",
    "\n",
    "print(\"Expression for E_union:\\n{}\".format(E_union))\n",
    "print(\"\\nThe parsed expression for E_union in the postfix notation:\\n{}\".format(E_union_expr))\n",
    "print(\"\\nHistogram of E_union given the image:\\n{}\".format(HE_union.to_dict()))\n",
    "print(\"\\nValue of presence for E_union:\\n{}\".format(HE_union.sum()))"
   ]
  },
  {
   "cell_type": "code",
   "execution_count": null,
   "metadata": {},
   "outputs": [],
   "source": [
    "# Extract ids of non-zero elements for each feature\n",
    "E_result_set = extract_element_set(HE_union, 2)"
   ]
  },
  {
   "cell_type": "code",
   "execution_count": null,
   "metadata": {
    "scrolled": true
   },
   "outputs": [],
   "source": [
    "# Plot elements and result\n",
    "transformers = (position_transformer, object_transformer)\n",
    "titles = [\"E1: {}\".format(E1), \"E2: {}\".format(E2), \"Result: {}\".format(E_union)]\n",
    "show_operation_result(I, merged_image, \"f1\", HE1, HE2, HE_union, transformers, titles)"
   ]
  },
  {
   "cell_type": "markdown",
   "metadata": {},
   "source": [
    "#### Other operations"
   ]
  },
  {
   "cell_type": "code",
   "execution_count": null,
   "metadata": {},
   "outputs": [],
   "source": [
    "operation_list = [\n",
    "    # set operations\n",
    "    (\"union\",          \"+\",    E1 + E2), \n",
    "    (\"intersection\",   \"*\",    E1 * E2),\n",
    "    (\"substraction\",   \"-\",    E1 - E2),  # or exception, or E1.Sub(E2)\n",
    "    # logic operations\n",
    "    (\"and\",            \"&\",    E1 & E2),  # or E1.And(E2)\n",
    "    (\"or\",             \"|\",    E1 | E2),  # or E1.Or(E2)\n",
    "    (\"xor\",            \"^\",    E1 ^ E2),  # or E1.Xor(E2)\n",
    "    (\"xsubstraction\",  \"Xsub\", E1.Xsub(E2)),\n",
    "]"
   ]
  },
  {
   "cell_type": "code",
   "execution_count": null,
   "metadata": {
    "scrolled": false
   },
   "outputs": [],
   "source": [
    "for op_name, op_sign, op in operation_list:\n",
    "    E_expr = parser.parse_string(op.value)\n",
    "    HE = evaluator.eval(E_expr)\n",
    "    print(\"{:12}{:^12}{:10}\".format(\"Operation\", \"Sign\", \"Result\"))\n",
    "    print(\"{}\".format(\"-\"*34))\n",
    "    print(\"{:12}{:^12}{:.5f}\".format(op_name, op_sign, HE.sum()))\n",
    "    E_result_set = extract_element_set(HE, 2)\n",
    "    titles = [\"E1: {}\".format(E1), \"E2: {}\".format(E2), \"Result: {}\".format(op)]\n",
    "    show_operation_result(I, merged_image, \"f1\", HE1, HE2, HE, transformers, titles)"
   ]
  },
  {
   "cell_type": "markdown",
   "metadata": {},
   "source": [
    "## Image Retrieval"
   ]
  },
  {
   "cell_type": "markdown",
   "metadata": {},
   "source": [
    "### Expression as query"
   ]
  },
  {
   "cell_type": "code",
   "execution_count": null,
   "metadata": {},
   "outputs": [],
   "source": [
    "# Load histograms of coco images if exist, otherwise transform images to histograms and return\n",
    "hists = load_coco_histograms(coco)\n",
    "hists[:5]"
   ]
  },
  {
   "cell_type": "code",
   "execution_count": null,
   "metadata": {},
   "outputs": [],
   "source": [
    "# Initialize a search engine\n",
    "search_engine = SearchEngine(hists, parser, evaluator)"
   ]
  },
  {
   "cell_type": "code",
   "execution_count": null,
   "metadata": {},
   "outputs": [],
   "source": [
    "TOP_N = 20"
   ]
  },
  {
   "cell_type": "code",
   "execution_count": null,
   "metadata": {},
   "outputs": [],
   "source": [
    "# Define your query\n",
    "query = E(\"left\", \"dog\") & E(\"center\", \"person\")\n",
    "\n",
    "# Retrieve images using the query\n",
    "ranked_images = search_engine.retrieve(query, topN=TOP_N)\n",
    "print(\"Total retrieved images:\", len(ranked_images))\n",
    "ranked_images[:5]"
   ]
  },
  {
   "cell_type": "code",
   "execution_count": null,
   "metadata": {},
   "outputs": [],
   "source": [
    "# Compose paths of retrieved images\n",
    "image_paths = [\n",
    "    loader.load_path(image_id)\n",
    "    for image_id, _ in ranked_images\n",
    "]\n",
    "image_paths[:1]"
   ]
  },
  {
   "cell_type": "code",
   "execution_count": null,
   "metadata": {},
   "outputs": [],
   "source": [
    "# Show top ranked images\n",
    "show_retrieved_images(ranked_images, image_paths, limit=TOP_N, title=\"Query: {}\".format(query.value))"
   ]
  },
  {
   "cell_type": "markdown",
   "metadata": {},
   "source": [
    "### Image sample as query"
   ]
  },
  {
   "cell_type": "code",
   "execution_count": null,
   "metadata": {},
   "outputs": [],
   "source": [
    "# Take a sample image and its histogram from the list of histograms that were created previously\n",
    "sample_image_id = hists[4][0]\n",
    "sample_hist = hists[4][1]"
   ]
  },
  {
   "cell_type": "code",
   "execution_count": null,
   "metadata": {},
   "outputs": [],
   "source": [
    "# Show the sample image\n",
    "sample_image_path = loader.load_path(sample_image_id)\n",
    "I = image_utils.imread(sample_image_path)\n",
    "plt.imshow(I)\n",
    "plt.title(\"Image\")\n",
    "plt.show()"
   ]
  },
  {
   "cell_type": "code",
   "execution_count": null,
   "metadata": {},
   "outputs": [],
   "source": [
    "# Retrieve images similar to the sample\n",
    "ranked_images__sample = search_engine.retrieve(sample_hist, topN=TOP_N)\n",
    "print(\"Total retrieved images:\", len(ranked_images__sample))\n",
    "ranked_images__sample[:5]"
   ]
  },
  {
   "cell_type": "code",
   "execution_count": null,
   "metadata": {},
   "outputs": [],
   "source": [
    "# Compose paths of retrieved images\n",
    "image_paths__sample = [\n",
    "    loader.load_path(image_id) \n",
    "    for image_id, _ in ranked_images__sample\n",
    "]\n",
    "# Show top ranked images\n",
    "show_retrieved_images(\n",
    "    ranked_images__sample, \n",
    "    image_paths__sample, \n",
    "    limit=TOP_N,\n",
    "    title=\"Query: {}\".format(\"Sample Image\")\n",
    ")"
   ]
  },
  {
   "cell_type": "markdown",
   "metadata": {},
   "source": [
    "## References\n",
    "\n",
    "- [COCO (Dataset): Common Objects in Context](http://cocodataset.org)\n",
    "- Papulin S. [Introduction to Histogram Model](https://htmlpreview.github.io/?https://github.com/LSHist/histogram/blob/master/docs/hm_basics.html)\n",
    "- Papulin S. [Multidimensional Histogram Model](https://htmlpreview.github.io/?https://github.com/LSHist/histogram/blob/master/docs/hm_multidim.html)"
   ]
  },
  {
   "cell_type": "code",
   "execution_count": null,
   "metadata": {},
   "outputs": [],
   "source": []
  }
 ],
 "metadata": {
  "kernelspec": {
   "display_name": "Python 3 (ipykernel)",
   "language": "python",
   "name": "python3"
  },
  "language_info": {
   "codemirror_mode": {
    "name": "ipython",
    "version": 3
   },
   "file_extension": ".py",
   "mimetype": "text/x-python",
   "name": "python",
   "nbconvert_exporter": "python",
   "pygments_lexer": "ipython3",
   "version": "3.7.3"
  }
 },
 "nbformat": 4,
 "nbformat_minor": 2
}
