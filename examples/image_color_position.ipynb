{
 "cells": [
  {
   "cell_type": "markdown",
   "metadata": {},
   "source": [
    "# Histogram Model: Color and Position Features\n",
    "----\n",
    "Sergei Papulin (papulin.edu@gmail.com)"
   ]
  },
  {
   "cell_type": "markdown",
   "metadata": {},
   "source": [
    "## Contents\n",
    "\n",
    "- [Generating Images](#Generating-Images)\n",
    "- [Defining Color Elements](#Defining-Color-Elements)\n",
    "- [Defining Positional Elements](#Defining-Positional-Elements)\n",
    "- [Creating Histogram](#Creating-Histogram)\n",
    "- [Querying](#Querying)\n",
    "- [Image Retrieval](#Image-Retrieval)\n",
    "- [References](#References)"
   ]
  },
  {
   "cell_type": "markdown",
   "metadata": {},
   "source": [
    "### Creating virtual environment"
   ]
  },
  {
   "cell_type": "markdown",
   "metadata": {},
   "source": [
    "This is an optional step. You can skip it and install packages to your current environment.\n",
    "\n",
    "```bash\n",
    "python -m venv .venv/histtest\n",
    "source .venv/histtest/bin/activate\n",
    "pip install \\\n",
    "    numpy==1.19.5 \\\n",
    "    plotly==5.5.0 \\\n",
    "    jupyter==1.0.0 \\\n",
    "    pillow==5.4.1 \\\n",
    "    scikit-image==0.14.2 \\\n",
    "    pycocotools==2.0.3 \\\n",
    "    himpy=0.0.1\n",
    "```"
   ]
  },
  {
   "cell_type": "markdown",
   "metadata": {},
   "source": [
    "#### Load packages"
   ]
  },
  {
   "cell_type": "code",
   "execution_count": null,
   "metadata": {},
   "outputs": [],
   "source": [
    "import sys\n",
    "from plotly.subplots import make_subplots\n",
    "import plotly.graph_objects as go"
   ]
  },
  {
   "cell_type": "code",
   "execution_count": null,
   "metadata": {},
   "outputs": [],
   "source": [
    "from himpy.histogram import operations\n",
    "from himpy.executor import Parser, Evaluator\n",
    "from himpy.utils import E"
   ]
  },
  {
   "cell_type": "code",
   "execution_count": null,
   "metadata": {},
   "outputs": [],
   "source": [
    "%load_ext autoreload\n",
    "%autoreload 2\n",
    "\n",
    "# dataset generator\n",
    "from utils.datasets import ColorImageGenerator\n",
    "\n",
    "# feature extraction\n",
    "from utils.feature_extraction import (\n",
    "    FeatureMerger,\n",
    "    ColorSetTransformer,\n",
    "    PositionSetTransformer,\n",
    "    filter_data,\n",
    "    create_histogram,\n",
    "    create_histogram_,\n",
    "    extract_elements,\n",
    "    extract_element_set\n",
    ")\n",
    "\n",
    "# search engine\n",
    "from utils.search_engine import SearchEngine\n",
    "\n",
    "# plot\n",
    "from utils.plot.plotly_plot import (\n",
    "    show_color_elements,\n",
    "    plot_position_grid_plotly,\n",
    "    plot_histogram,\n",
    "    show_rank_images\n",
    ")\n",
    "\n",
    "\n",
    "# image colors\n",
    "from utils.feature_extraction.color import COLOR_ELEMENTS, COLOR_ELEMENTS_RGB"
   ]
  },
  {
   "cell_type": "markdown",
   "metadata": {},
   "source": [
    "## Generating Images"
   ]
  },
  {
   "cell_type": "code",
   "execution_count": null,
   "metadata": {},
   "outputs": [],
   "source": [
    "image_generator = ColorImageGenerator()"
   ]
  },
  {
   "cell_type": "code",
   "execution_count": null,
   "metadata": {},
   "outputs": [],
   "source": [
    "image = image_generator.generate(shape=(100, 100), \n",
    "                                 steps=(10, 10), \n",
    "                                 normal_element_ids={\"e7\", \"e9\", \"e34\"},\n",
    "                                 random_state=123)"
   ]
  },
  {
   "cell_type": "code",
   "execution_count": null,
   "metadata": {},
   "outputs": [],
   "source": [
    "fig = make_subplots(rows=1, cols=1, subplot_titles=(\"Initial Image [RGB]\",))\n",
    "\n",
    "fig.add_trace(go.Image(z=image, hoverinfo=\"skip\"), row=1, col=1)\n",
    "fig.update_yaxes(showticklabels=False)\n",
    "fig.update_xaxes(showticklabels=False)\n",
    "fig.update_layout(margin=dict(l=20, r=20, t=40, b=20), width=250, height=200)\n",
    "fig.show()"
   ]
  },
  {
   "cell_type": "markdown",
   "metadata": {},
   "source": [
    "## Defining Color Elements"
   ]
  },
  {
   "cell_type": "markdown",
   "metadata": {},
   "source": [
    "### Low-Level Elements"
   ]
  },
  {
   "cell_type": "markdown",
   "metadata": {},
   "source": [
    "Stucture of color elements:\n",
    "\n",
    "```json\n",
    "[\n",
    "    {\n",
    "        \"id\": id,\n",
    "        \"h\": [min, max],\n",
    "        \"s\": [min, max],\n",
    "        \"b\": [min, max]\n",
    "    }, ...\n",
    "]\n",
    "```\n",
    "\n",
    "Parameters:\n",
    "\n",
    "- `id`: identification of an element\n",
    "- `h`: hue, interval. If you define interval from 230 to 10, it will be divided into two ones: from 230 to 240 and from 0 to 10\n",
    "- `s`: saturation, interval\n",
    "- `b`: brightness, interval\n"
   ]
  },
  {
   "cell_type": "code",
   "execution_count": null,
   "metadata": {},
   "outputs": [],
   "source": [
    "# Show the first five low-level color elements\n",
    "print(\"Total number of color elements:\", len(COLOR_ELEMENTS))\n",
    "COLOR_ELEMENTS[:5]"
   ]
  },
  {
   "cell_type": "code",
   "execution_count": null,
   "metadata": {},
   "outputs": [],
   "source": [
    "# Display all low-level color elements\n",
    "show_color_elements(title=\"Low-level elements (Color Universal set - Uc)\")"
   ]
  },
  {
   "cell_type": "code",
   "execution_count": null,
   "metadata": {},
   "outputs": [],
   "source": [
    "# Display all low-level color elements\n",
    "show_color_elements(element_ids={\"e18\"}, title=\"e18\")"
   ]
  },
  {
   "cell_type": "code",
   "execution_count": null,
   "metadata": {},
   "outputs": [],
   "source": [
    "color_transformer = ColorSetTransformer()\n",
    "color_image = color_transformer.fit_transform(X=image, y=None)\n",
    "color_image"
   ]
  },
  {
   "cell_type": "code",
   "execution_count": null,
   "metadata": {},
   "outputs": [],
   "source": [
    "color_image_ = color_transformer.transform_to_int(color_image)\n",
    "\n",
    "\n",
    "fig = make_subplots(rows=1, cols=2, subplot_titles=(\"Initial Image [RGB]\", \"Transformed Image [low-level]\"))\n",
    "\n",
    "common_heatmap_args = {\n",
    "    \"zmax\": 40,\n",
    "    \"zauto\": False,\n",
    "    \"colorscale\": \"gray\",\n",
    "    \"showscale\": False,\n",
    "    \"hoverinfo\": \"skip\"\n",
    "}\n",
    "\n",
    "fig.add_trace(go.Image(z=image, hoverinfo=\"skip\"), row=1, col=1)\n",
    "fig.add_trace(go.Heatmap(z=color_image_, **common_heatmap_args), row=1, col=2)\n",
    "fig.update_yaxes(autorange=\"reversed\", constrain=\"domain\", scaleanchor=\"x\", row=1, col=2)\n",
    "fig.update_xaxes(constrain=\"domain\", scaleanchor=\"y\", row=1, col=2)\n",
    "fig.update_yaxes(showticklabels=False)\n",
    "fig.update_xaxes(showticklabels=False)\n",
    "fig.update_layout(margin=dict(l=20, r=20, t=40, b=20), width=500, height=200)\n",
    "fig.show()"
   ]
  },
  {
   "cell_type": "markdown",
   "metadata": {},
   "source": [
    "### High-Level Elements"
   ]
  },
  {
   "cell_type": "code",
   "execution_count": null,
   "metadata": {},
   "outputs": [],
   "source": [
    "parser = Parser()"
   ]
  },
  {
   "cell_type": "code",
   "execution_count": null,
   "metadata": {},
   "outputs": [],
   "source": [
    "# Definition of high-level positional elements\n",
    "\n",
    "Ec_green        = E(\"e1+e2+e3+e4+e5+e6+e7+e8+e9+e10+e11+e12+e13+e14+e15+e16+e17+e18+e19+e20\")\n",
    "Ec_yellow_green = E(\"e2+e3+e21+e22+e23+e24+e25+e26+e27+e28+e29+e30\")\n",
    "Ec_red          = E(\"e31+e32+e33+e34+e35+e36+e37+e38+e39+e40\")\n",
    "Ec_rose         = E(\"e32+e35+e36+e39+e40\")\n",
    "\n",
    "\n",
    "Ecs = [\n",
    "    (\"green\", Ec_green),\n",
    "    (\"yellow_green\", Ec_yellow_green),\n",
    "    (\"red\", Ec_red),\n",
    "    (\"rose\", Ec_rose)\n",
    "]\n",
    "\n",
    "\n",
    "# Sets of hight-level color elements (they will be used for the Evaluator below)\n",
    "\n",
    "Ecs_set = { name: parser.parse_set(Ec.value) for name, Ec in Ecs}\n",
    "Ecs_set[\"green\"]"
   ]
  },
  {
   "cell_type": "code",
   "execution_count": null,
   "metadata": {},
   "outputs": [],
   "source": [
    "# Display all low-level color elements\n",
    "for title, Ec_set in Ecs_set.items():\n",
    "    show_color_elements(element_ids=Ec_set, title=title)"
   ]
  },
  {
   "cell_type": "code",
   "execution_count": null,
   "metadata": {},
   "outputs": [],
   "source": [
    "color_filtered_image      = color_transformer.filter_elements(color_image, Ecs_set[\"green\"])\n",
    "color_data_filtered_image = color_transformer.filter_data(color_image, image, Ecs_set[\"green\"])"
   ]
  },
  {
   "cell_type": "code",
   "execution_count": null,
   "metadata": {},
   "outputs": [],
   "source": [
    "color_filtered_image_ = color_transformer.transform_to_int(color_filtered_image)"
   ]
  },
  {
   "cell_type": "code",
   "execution_count": null,
   "metadata": {},
   "outputs": [],
   "source": [
    "fig = make_subplots(rows=1, cols=4, \n",
    "                    subplot_titles=(\n",
    "                        \"Initial Image [RGB]\", \n",
    "                        \"Transformed Image [low-level]\", \n",
    "                        \"Element Filter [green]\", \n",
    "                        \"Data Filter [green]\"\n",
    "                    ))\n",
    "\n",
    "common_heatmap_args = {\n",
    "    \"zmax\": 40,\n",
    "    \"zauto\": False,\n",
    "    \"colorscale\": \"gray\",\n",
    "    \"showscale\": False,\n",
    "    \"hoverinfo\": \"skip\"\n",
    "}\n",
    "\n",
    "fig.add_trace(go.Image(z=image, hoverinfo=\"skip\"), row=1, col=1)\n",
    "fig.add_trace(go.Heatmap(z=color_image_, **common_heatmap_args), row=1, col=2)\n",
    "fig.add_trace(go.Heatmap(z=color_filtered_image_, **common_heatmap_args), row=1, col=3)\n",
    "fig.add_trace(go.Image(z=color_data_filtered_image, hoverinfo=\"skip\"), row=1, col=4)\n",
    "fig.update_yaxes(autorange=\"reversed\", constrain=\"domain\", scaleanchor=\"x\", row=1, col=2)\n",
    "fig.update_xaxes(constrain=\"domain\", scaleanchor=\"y\", row=1, col=2)\n",
    "fig.update_yaxes(autorange=\"reversed\", constrain=\"domain\", scaleanchor=\"x\", row=1, col=3)\n",
    "fig.update_xaxes(constrain=\"domain\", scaleanchor=\"y\", row=1, col=3)\n",
    "fig.update_yaxes(showticklabels=False)\n",
    "fig.update_xaxes(showticklabels=False)\n",
    "fig.update_layout(margin=dict(l=20, r=20, t=40, b=20), width=800, height=200)\n",
    "fig.show()"
   ]
  },
  {
   "cell_type": "markdown",
   "metadata": {},
   "source": [
    "## Defining Positional Elements"
   ]
  },
  {
   "cell_type": "markdown",
   "metadata": {},
   "source": [
    "### Low-Level Elements"
   ]
  },
  {
   "cell_type": "code",
   "execution_count": null,
   "metadata": {},
   "outputs": [],
   "source": [
    "# Grid params: 5 splits along Y, and 5 along X\n",
    "GRID = (5, 5)\n",
    "\n",
    "# Create a position transformer\n",
    "position_transformer = PositionSetTransformer(splits=GRID, element_ndim=3)\n",
    "\n",
    "# Set an image size\n",
    "position_transformer.fit(X=image, y=None)\n",
    "\n",
    "# Build an image in which each pixel defines a position\n",
    "position_image = position_transformer.transform(X=image)"
   ]
  },
  {
   "cell_type": "code",
   "execution_count": null,
   "metadata": {},
   "outputs": [],
   "source": [
    "fig = make_subplots(rows=1, cols=1, subplot_titles=(\"Position Elements\",))\n",
    "fig = plot_position_grid_plotly(position_transformer, fig, row=1, col=1)\n",
    "fig.update_yaxes(showticklabels=False)\n",
    "fig.update_xaxes(showticklabels=False)\n",
    "fig.update_layout(margin=dict(l=20, r=20, t=40, b=20), width=300, height=200)\n",
    "fig.show()"
   ]
  },
  {
   "cell_type": "code",
   "execution_count": null,
   "metadata": {},
   "outputs": [],
   "source": [
    "color_image_ = color_transformer.transform_to_int(color_image)\n",
    "\n",
    "\n",
    "fig = make_subplots(rows=1, cols=3, \n",
    "                    subplot_titles=(\n",
    "                        \"Initial Image [RGB]\", \n",
    "                        \"Transformed Image [low-level]\", \n",
    "                        \"Position Elements\"\n",
    "                    ))\n",
    "\n",
    "common_heatmap_args = {\n",
    "    \"zauto\": True,\n",
    "    \"colorscale\": \"gray\",\n",
    "    \"showscale\": False,\n",
    "    \"hoverinfo\": \"skip\"\n",
    "}\n",
    "\n",
    "fig.add_trace(go.Image(z=image, hoverinfo=\"skip\"), row=1, col=1)\n",
    "fig.add_trace(go.Heatmap(z=position_image, **common_heatmap_args), row=1, col=2)\n",
    "fig = plot_position_grid_plotly(position_transformer, fig, row=1, col=3)\n",
    "fig.update_yaxes(autorange=\"reversed\", constrain=\"domain\", scaleanchor=\"x\", row=1, col=2)\n",
    "fig.update_xaxes(constrain=\"domain\", scaleanchor=\"y\", row=1, col=2)\n",
    "fig.update_yaxes(showticklabels=False)\n",
    "fig.update_xaxes(showticklabels=False)\n",
    "fig.update_layout(margin=dict(l=20, r=20, t=40, b=20), width=900, height=200)\n",
    "fig.show()"
   ]
  },
  {
   "cell_type": "markdown",
   "metadata": {},
   "source": [
    "### High-Level Elements"
   ]
  },
  {
   "cell_type": "code",
   "execution_count": null,
   "metadata": {},
   "outputs": [],
   "source": [
    "# Definition of high-level positional elements\n",
    "\n",
    "Ep_top    = E(\"1+2+3+4+5+6+7+8+9+10\")\n",
    "Ep_bottom = E(\"16+17+18+19+20+21+22+23+24+25\")\n",
    "Ep_left   = E(\"1+2+6+7+11+12+16+17+21+22\")\n",
    "Ep_right  = E(\"4+5+9+10+14+15+19+20+24+25\")\n",
    "Ep_center = E(\"7+8+9+12+13+14+17+18+19\")\n",
    "\n",
    "Eps = [\n",
    "    (\"top\", Ep_top), \n",
    "    (\"bottom\", Ep_bottom), \n",
    "    (\"left\", Ep_left), \n",
    "    (\"right\", Ep_right), \n",
    "    (\"center\", Ep_center)\n",
    "]\n",
    "\n",
    "\n",
    "# Sets of high-level positional elements (they will be used for the Evaluator below)\n",
    "\n",
    "Eps_set = { name: parser.parse_set(Ep.value) for name, Ep in Eps}\n",
    "Eps_set[\"center\"]"
   ]
  },
  {
   "cell_type": "code",
   "execution_count": null,
   "metadata": {},
   "outputs": [],
   "source": [
    "fig = make_subplots(rows=1, cols=len(Eps_set), subplot_titles=tuple(Eps_set.keys()))\n",
    "for i, (name, Eps) in enumerate(Eps_set.items()):\n",
    "    fig = plot_position_grid_plotly(position_transformer, fig, element_ids=Eps, row=1, col=i+1)\n",
    "fig.update_yaxes(showticklabels=False)\n",
    "fig.update_xaxes(showticklabels=False)\n",
    "fig.update_layout(margin=dict(l=20, r=20, t=40, b=20), width=len(Eps_set)*150, height=200)\n",
    "fig.show()"
   ]
  },
  {
   "cell_type": "code",
   "execution_count": null,
   "metadata": {},
   "outputs": [],
   "source": [
    "Ep_set_ = Eps_set[\"center\"]\n",
    "\n",
    "elements_image = position_transformer.filter_elements(position_image, Ep_set_)\n",
    "filtered_image = position_transformer.filter_data(position_image, image, Ep_set_)\n",
    "\n",
    "# TODO: plot"
   ]
  },
  {
   "cell_type": "code",
   "execution_count": null,
   "metadata": {},
   "outputs": [],
   "source": [
    "# Note: Plotly plot images from bottom left corner. So, images are inversed. \n",
    "#  [::-1,:,:] is used to recover the origin\n",
    "\n",
    "fig = make_subplots(rows=1, cols=len(Eps_set), subplot_titles=tuple(Eps_set.keys()))\n",
    "for i, (name, Ep_set) in enumerate(Eps_set.items()):\n",
    "    filtered_image = position_transformer.filter_data(position_image, image, Ep_set)\n",
    "    fig.add_trace(go.Image(z=filtered_image[::-1,:,:], hoverinfo=\"skip\"), row=1, col=i+1)\n",
    "    fig = plot_position_grid_plotly(position_transformer, fig, element_ids=Ep_set, row=1, col=i+1)\n",
    "fig.update_yaxes(showticklabels=False)\n",
    "fig.update_xaxes(showticklabels=False)\n",
    "fig.update_layout(margin=dict(l=20, r=20, t=40, b=20), width=len(Eps_set)*150, height=200)\n",
    "fig.show()"
   ]
  },
  {
   "cell_type": "markdown",
   "metadata": {},
   "source": [
    "## Creating Histogram"
   ]
  },
  {
   "cell_type": "code",
   "execution_count": null,
   "metadata": {
    "scrolled": true
   },
   "outputs": [],
   "source": [
    "# Option 1\n",
    "hist = create_histogram((position_image, color_image))\n",
    "hist.to_dict()"
   ]
  },
  {
   "cell_type": "code",
   "execution_count": null,
   "metadata": {},
   "outputs": [],
   "source": [
    "# Option 2.a\n",
    "feature_merger = FeatureMerger()\n",
    "merged_image = feature_merger.fit_transform((position_image, color_image))\n",
    "merged_image"
   ]
  },
  {
   "cell_type": "code",
   "execution_count": null,
   "metadata": {
    "scrolled": true
   },
   "outputs": [],
   "source": [
    "# Option 2.b\n",
    "hist = create_histogram_(merged_image)\n",
    "hist.to_dict()"
   ]
  },
  {
   "cell_type": "code",
   "execution_count": null,
   "metadata": {},
   "outputs": [],
   "source": [
    "hist_elements = sorted(hist.hist_elements().items(), key=lambda x: int(x[0][1].lstrip(\"e\")))\n",
    "elements = [\"({})\".format(\",\".join(el[0])) for el in hist_elements]\n",
    "values = [el[1].value for el in hist_elements]\n",
    "colors = [\"rgb{}\".format(COLOR_ELEMENTS_RGB[el[0][1]]) for el in hist_elements]\n",
    "\n",
    "\n",
    "fig = make_subplots(rows=1, cols=2, column_widths=[0.2, 0.8], subplot_titles=(\"Image\", \"Histogram\"))\n",
    "\n",
    "fig.add_image(z=image, row=1, col=1, name=\"image\")\n",
    "fig.add_bar(x=elements, y=values, marker_color=colors, width=0.5, row=1, col=2, name=\"histogram\")\n",
    "\n",
    "fig.update_xaxes(gridcolor='#bdbdbd', title=\"Elements\", titlefont=dict(color=\"grey\"), row=1, col=2)\n",
    "fig.update_yaxes(gridcolor='#bdbdbd', title=\"Counts\", titlefont=dict(color=\"grey\"), row=1, col=2)\n",
    "\n",
    "fig.update_layout(plot_bgcolor='#fefefe', showlegend=False, height=300, width=900, title_text=\"Initial Data\")\n",
    "fig.show()"
   ]
  },
  {
   "cell_type": "markdown",
   "metadata": {},
   "source": [
    "## Querying"
   ]
  },
  {
   "cell_type": "code",
   "execution_count": null,
   "metadata": {},
   "outputs": [],
   "source": [
    "high_level_elements = {\n",
    "    # position\n",
    "    0: Eps_set, \n",
    "    # color\n",
    "    1: Ecs_set\n",
    "}"
   ]
  },
  {
   "cell_type": "code",
   "execution_count": null,
   "metadata": {},
   "outputs": [],
   "source": [
    "# Initialize an evaluator\n",
    "evaluator = Evaluator(operations, hist, high_level_elements=high_level_elements)"
   ]
  },
  {
   "cell_type": "code",
   "execution_count": null,
   "metadata": {},
   "outputs": [],
   "source": [
    "E1 = E(\"top\", \"green\")\n",
    "E2 = E(\"right\", \"red\")"
   ]
  },
  {
   "cell_type": "code",
   "execution_count": null,
   "metadata": {},
   "outputs": [],
   "source": [
    "E1_expr = parser.parse_string(E1.value)\n",
    "HE1 = evaluator.eval(E1_expr)\n",
    "print(\"Expression for E1:\\n{}\".format(E1.value))\n",
    "print(\"\\nThe parsed expressino for E1 in the postfix notation:\\n{}\".format(E1_expr))\n",
    "print(\"\\nHistogram of E1 given the image:\\n{}\".format(HE1.to_dict()))\n",
    "print(\"\\nValue of presence for E1:\\n{}\".format(HE1.sum()))"
   ]
  },
  {
   "cell_type": "code",
   "execution_count": null,
   "metadata": {},
   "outputs": [],
   "source": [
    "E2_expr = parser.parse_string(E2.value)\n",
    "HE2 = evaluator.eval(E2_expr)\n",
    "print(\"Expression for E2:\\n{}\".format(E2.value))\n",
    "print(\"\\nThe parsed expressino for E2 in the postfix notation:\\n{}\".format(E2_expr))\n",
    "print(\"\\nHistogram of E2 given the image:\\n{}\".format(HE2.to_dict()))\n",
    "print(\"\\nValue of presence for E2:\\n{}\".format(HE2.sum()))"
   ]
  },
  {
   "cell_type": "code",
   "execution_count": null,
   "metadata": {},
   "outputs": [],
   "source": [
    "def show_histogram_elements(image, merged_image, HE, title):\n",
    "    E_set = extract_element_set(HE, 2)\n",
    "    E_image = filter_data(image, merged_image, HE.elements())\n",
    "    \n",
    "    hist_elements = sorted(HE.to_dict().items(), key=lambda x: int(x[0][1].lstrip(\"e\")))\n",
    "    elements = [\"({})\".format(\",\".join(el[0])) for el in hist_elements]\n",
    "    values = [el[1] for el in hist_elements]\n",
    "    colors = [\"rgb{}\".format(COLOR_ELEMENTS_RGB[el[0][1]]) for el in hist_elements]\n",
    "    \n",
    "    fig = make_subplots(rows=1, cols=2, column_widths=[0.2, 0.8], \n",
    "                    subplot_titles=(\"Image<br> {}\".format(title), \"Histogram: {}\".format(title)))\n",
    "    fig.add_image(z=E_image, row=1, col=1, name=\"image\")\n",
    "    fig = plot_histogram(elements=elements, values=values, colors=colors, fig=fig, row=1, col=2)\n",
    "\n",
    "    image_axes_args = {\n",
    "        \"showticklabels\": False,\n",
    "        \"showline\": True,\n",
    "        \"linewidth\": 1,\n",
    "        \"linecolor\": \"black\",\n",
    "        \"mirror\": True\n",
    "    }\n",
    "    \n",
    "    fig.update_xaxes(row=1, col=1, **image_axes_args)\n",
    "    fig.update_yaxes(row=1, col=1, **image_axes_args)\n",
    "\n",
    "    fig.update_layout(\n",
    "        margin=dict(l=40, r=40, t=40, b=20), \n",
    "        plot_bgcolor=\"#fefefe\", showlegend=False, \n",
    "        height=300, width=900)\n",
    "    fig.show()"
   ]
  },
  {
   "cell_type": "code",
   "execution_count": null,
   "metadata": {},
   "outputs": [],
   "source": [
    "show_histogram_elements(image, merged_image, HE1, E1.value)\n",
    "show_histogram_elements(image, merged_image, HE2, E2.value)"
   ]
  },
  {
   "cell_type": "markdown",
   "metadata": {},
   "source": [
    "## Operations on Histogram Elements"
   ]
  },
  {
   "cell_type": "markdown",
   "metadata": {},
   "source": [
    "### Example for Union"
   ]
  },
  {
   "cell_type": "code",
   "execution_count": null,
   "metadata": {},
   "outputs": [],
   "source": [
    "# Expression with union\n",
    "E_union = E1 + E2\n",
    "\n",
    "# Parsed expression\n",
    "E_union_expr = parser.parse_string(E_union.value)\n",
    "\n",
    "# Calculate histogram value\n",
    "HE_union = evaluator.eval(E_union_expr)\n",
    "\n",
    "print(\"Expression for E_union:\\n{}\".format(E_union))\n",
    "print(\"\\nThe parsed expression for E_union in the postfix notation:\\n{}\".format(E_union_expr))\n",
    "print(\"\\nHistogram of E_union given the image:\\n{}\".format(HE_union.to_dict()))\n",
    "print(\"\\nValue of presence for E_union:\\n{}\".format(HE_union.sum()))"
   ]
  },
  {
   "cell_type": "code",
   "execution_count": null,
   "metadata": {},
   "outputs": [],
   "source": [
    "show_histogram_elements(image, merged_image, HE1, E1.value)\n",
    "show_histogram_elements(image, merged_image, HE2, E2.value)\n",
    "show_histogram_elements(image, merged_image, HE_union, E_union.value)"
   ]
  },
  {
   "cell_type": "markdown",
   "metadata": {},
   "source": [
    "### Other operations"
   ]
  },
  {
   "cell_type": "code",
   "execution_count": null,
   "metadata": {},
   "outputs": [],
   "source": [
    "operation_list = [\n",
    "    # set operations\n",
    "    (\"union\",          \"+\",    E1 + E2), \n",
    "    (\"intersection\",   \"*\",    E1 * E2),\n",
    "    (\"substraction\",   \"-\",    E1 - E2),  # or exception, or E1.Sub(E2)\n",
    "    # logic operations\n",
    "    (\"and\",            \"&\",    E1 & E2),  # or E1.And(E2)\n",
    "    (\"or\",             \"|\",    E1 | E2),  # or E1.Or(E2)\n",
    "    (\"xor\",            \"^\",    E1 ^ E2),  # or E1.Xor(E2)\n",
    "    (\"xsubstraction\",  \"Xsub\", E1.Xsub(E2)),\n",
    "]"
   ]
  },
  {
   "cell_type": "code",
   "execution_count": null,
   "metadata": {
    "scrolled": false
   },
   "outputs": [],
   "source": [
    "for op_name, op_sign, op in operation_list:\n",
    "    E_expr = parser.parse_string(op.value)\n",
    "    HE = evaluator.eval(E_expr)\n",
    "    print(\"{:12}{:^12}{:10}\".format(\"Operation\", \"Sign\", \"Result\"))\n",
    "    print(\"{}\".format(\"-\"*34))\n",
    "    print(\"{:12}{:^12}{:.5f}\".format(op_name, op_sign, HE.sum()))\n",
    "    show_histogram_elements(image, merged_image, HE1, E1.value)\n",
    "    show_histogram_elements(image, merged_image, HE2, E2.value)\n",
    "    show_histogram_elements(image, merged_image, HE, op.value)"
   ]
  },
  {
   "cell_type": "markdown",
   "metadata": {},
   "source": [
    "## Image Retrieval"
   ]
  },
  {
   "cell_type": "markdown",
   "metadata": {},
   "source": [
    "### Expression as query"
   ]
  },
  {
   "cell_type": "code",
   "execution_count": null,
   "metadata": {},
   "outputs": [],
   "source": [
    "# Images with normal distrubited some elements \n",
    "images = [\n",
    "    image_generator.generate(\n",
    "        shape=(100, 100), \n",
    "        steps=(10, 10), \n",
    "        normal_element_ids={\"e33\", \"e34\"},\n",
    "        random_state=i+100) \n",
    "    for i in range(100)\n",
    "]\n",
    "\n",
    "\n",
    "# Images with uniform distributed elements\n",
    "images += [\n",
    "    image_generator.generate(\n",
    "        shape=(100, 100), \n",
    "        steps=(10, 10)) \n",
    "    for i in range(100)    \n",
    "]"
   ]
  },
  {
   "cell_type": "code",
   "execution_count": null,
   "metadata": {},
   "outputs": [],
   "source": [
    "# Create histograms for the images\n",
    "hists = list()\n",
    "limit = len(images)\n",
    "\n",
    "position_image = position_transformer.fit_transform(X=images[0], y=None)\n",
    "\n",
    "for indx, image in enumerate(images):\n",
    "#     position_image = position_transformer.fit_transform(shape=image.shape[:-1])\n",
    "    color_image = color_transformer.fit_transform(X=image, y=None)\n",
    "    hist = create_histogram((position_image, color_image))\n",
    "    hists.append((indx, hist))\n",
    "    print(\"\\rCurrent image index: {}/{}\".format(indx + 1, limit), end=\"\")"
   ]
  },
  {
   "cell_type": "code",
   "execution_count": null,
   "metadata": {},
   "outputs": [],
   "source": [
    "# Initialize a search engine\n",
    "search_engine = SearchEngine(hists, parser, evaluator)"
   ]
  },
  {
   "cell_type": "code",
   "execution_count": null,
   "metadata": {},
   "outputs": [],
   "source": [
    "TOP_N = 20"
   ]
  },
  {
   "cell_type": "code",
   "execution_count": null,
   "metadata": {},
   "outputs": [],
   "source": [
    "# Elements\n",
    "E1 = E(\"top\", \"green\")\n",
    "E2 = E(\"right\", \"red\")\n",
    "\n",
    "# TODO: show E1 = E(\"*\", \"green\")\n",
    "\n",
    "# Define your query\n",
    "query = E1 & E2\n",
    "\n",
    "# Retrieve images using the query\n",
    "ranked_images = search_engine.retrieve(query, topN=TOP_N)\n",
    "print(\"Total retrieved images:\", len(ranked_images))\n",
    "ranked_images[:5]"
   ]
  },
  {
   "cell_type": "code",
   "execution_count": null,
   "metadata": {},
   "outputs": [],
   "source": [
    "fig = show_rank_images(images, ranked_images, limit=TOP_N, \n",
    "                       title=\"Top {}: <b>{}</b>\".format(TOP_N, query.value))\n",
    "fig.show()"
   ]
  },
  {
   "cell_type": "markdown",
   "metadata": {},
   "source": [
    "### Image sample as query"
   ]
  },
  {
   "cell_type": "code",
   "execution_count": null,
   "metadata": {},
   "outputs": [],
   "source": [
    "# Generate a new sample image\n",
    "sample_image = image_generator.generate(\n",
    "    shape=(100, 100), \n",
    "    steps=(10, 10), \n",
    "    normal_element_ids={\"e33\", \"e34\"},\n",
    "    random_state=1) "
   ]
  },
  {
   "cell_type": "code",
   "execution_count": null,
   "metadata": {},
   "outputs": [],
   "source": [
    "fig = make_subplots(rows=1, cols=1, subplot_titles=(\"Sample Image\",))\n",
    "\n",
    "fig.add_trace(go.Image(z=sample_image, hoverinfo=\"skip\"), row=1, col=1)\n",
    "fig.update_yaxes(showticklabels=False)\n",
    "fig.update_xaxes(showticklabels=False)\n",
    "fig.update_layout(margin=dict(l=20, r=20, t=40, b=20), width=200, height=200)\n",
    "fig.show()"
   ]
  },
  {
   "cell_type": "code",
   "execution_count": null,
   "metadata": {},
   "outputs": [],
   "source": [
    "# Transform the image to histogram\n",
    "position_image = position_transformer.fit_transform(X=sample_image)\n",
    "color_image = color_transformer.transform(sample_image)\n",
    "sample_hist = create_histogram((position_image, color_image))"
   ]
  },
  {
   "cell_type": "code",
   "execution_count": null,
   "metadata": {},
   "outputs": [],
   "source": [
    "# Retrieve images similar to the sample\n",
    "ranked_images__sample = search_engine.retrieve(sample_hist, topN=TOP_N)\n",
    "print(\"Total retrieved images:\", len(ranked_images__sample))\n",
    "ranked_images__sample[:5]"
   ]
  },
  {
   "cell_type": "code",
   "execution_count": null,
   "metadata": {},
   "outputs": [],
   "source": [
    "fig = make_subplots(rows=1, cols=1, subplot_titles=(\"Sample Image\",))\n",
    "\n",
    "fig.add_trace(go.Image(z=sample_image, hoverinfo=\"skip\"), row=1, col=1)\n",
    "fig.update_yaxes(showticklabels=False)\n",
    "fig.update_xaxes(showticklabels=False)\n",
    "fig.update_layout(margin=dict(l=20, r=20, t=40, b=20), width=200, height=200)\n",
    "fig.show()\n",
    "\n",
    "fig = show_rank_images(images, ranked_images__sample, \n",
    "                       limit=TOP_N, title=\"Top {}: <b>Sample Image</b>\".format(TOP_N))\n",
    "fig.show()"
   ]
  },
  {
   "cell_type": "markdown",
   "metadata": {},
   "source": [
    "## References\n",
    "\n",
    "- Papulin S. [Introduction to Histogram Model](https://htmlpreview.github.io/?https://github.com/LSHist/histogram/blob/master/docs/hm_basics.html)\n",
    "- Papulin S. [Multidimensional Histogram Model](https://htmlpreview.github.io/?https://github.com/LSHist/histogram/blob/master/docs/hm_multidim.html)"
   ]
  },
  {
   "cell_type": "code",
   "execution_count": null,
   "metadata": {},
   "outputs": [],
   "source": []
  }
 ],
 "metadata": {
  "kernelspec": {
   "display_name": "Python 3 (ipykernel)",
   "language": "python",
   "name": "python3"
  },
  "language_info": {
   "codemirror_mode": {
    "name": "ipython",
    "version": 3
   },
   "file_extension": ".py",
   "mimetype": "text/x-python",
   "name": "python",
   "nbconvert_exporter": "python",
   "pygments_lexer": "ipython3",
   "version": "3.7.3"
  }
 },
 "nbformat": 4,
 "nbformat_minor": 2
}
